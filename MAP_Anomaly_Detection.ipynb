{
  "cells": [
    {
      "cell_type": "markdown",
      "metadata": {
        "id": "view-in-github",
        "colab_type": "text"
      },
      "source": [
        "<a href=\"https://colab.research.google.com/github/messias-des-coden/trusted-anomaly-detection/blob/main/MAP_Anomaly_Detection.ipynb\" target=\"_parent\"><img src=\"https://colab.research.google.com/assets/colab-badge.svg\" alt=\"Open In Colab\"/></a>"
      ]
    },
    {
      "cell_type": "code",
      "execution_count": null,
      "metadata": {
        "colab": {
          "base_uri": "https://localhost:8080/"
        },
        "id": "QArFehyHyWH6",
        "outputId": "58de7da3-eee0-49e6-a1d0-e43471d08b17"
      },
      "outputs": [
        {
          "output_type": "stream",
          "name": "stdout",
          "text": [
            "3.7.13\n"
          ]
        }
      ],
      "source": [
        "from platform import python_version\n",
        "\n",
        "print(python_version())\n"
      ]
    },
    {
      "cell_type": "code",
      "execution_count": null,
      "metadata": {
        "colab": {
          "base_uri": "https://localhost:8080/"
        },
        "id": "R0raRG2PyWH9",
        "outputId": "2e8cb954-0a02-4c78-e501-ab82a44e8c18"
      },
      "outputs": [
        {
          "output_type": "stream",
          "name": "stdout",
          "text": [
            "Collecting pyod\n",
            "  Downloading pyod-1.0.1.tar.gz (120 kB)\n",
            "\u001b[?25l\r\u001b[K     |██▊                             | 10 kB 23.0 MB/s eta 0:00:01\r\u001b[K     |█████▍                          | 20 kB 23.9 MB/s eta 0:00:01\r\u001b[K     |████████▏                       | 30 kB 29.3 MB/s eta 0:00:01\r\u001b[K     |██████████▉                     | 40 kB 25.5 MB/s eta 0:00:01\r\u001b[K     |█████████████▋                  | 51 kB 17.9 MB/s eta 0:00:01\r\u001b[K     |████████████████▎               | 61 kB 20.1 MB/s eta 0:00:01\r\u001b[K     |███████████████████             | 71 kB 21.6 MB/s eta 0:00:01\r\u001b[K     |█████████████████████▊          | 81 kB 23.0 MB/s eta 0:00:01\r\u001b[K     |████████████████████████▌       | 92 kB 24.9 MB/s eta 0:00:01\r\u001b[K     |███████████████████████████▏    | 102 kB 26.5 MB/s eta 0:00:01\r\u001b[K     |█████████████████████████████▉  | 112 kB 26.5 MB/s eta 0:00:01\r\u001b[K     |████████████████████████████████| 120 kB 26.5 MB/s \n",
            "\u001b[?25hRequirement already satisfied: joblib in /usr/local/lib/python3.7/dist-packages (from pyod) (1.1.0)\n",
            "Requirement already satisfied: matplotlib in /usr/local/lib/python3.7/dist-packages (from pyod) (3.2.2)\n",
            "Requirement already satisfied: numpy>=1.19 in /usr/local/lib/python3.7/dist-packages (from pyod) (1.21.6)\n",
            "Requirement already satisfied: numba>=0.51 in /usr/local/lib/python3.7/dist-packages (from pyod) (0.51.2)\n",
            "Collecting scipy>=1.5.1\n",
            "  Downloading scipy-1.7.3-cp37-cp37m-manylinux_2_12_x86_64.manylinux2010_x86_64.whl (38.1 MB)\n",
            "\u001b[K     |████████████████████████████████| 38.1 MB 1.2 MB/s \n",
            "\u001b[?25hRequirement already satisfied: scikit_learn>=0.20.0 in /usr/local/lib/python3.7/dist-packages (from pyod) (1.0.2)\n",
            "Requirement already satisfied: six in /usr/local/lib/python3.7/dist-packages (from pyod) (1.15.0)\n",
            "Requirement already satisfied: statsmodels in /usr/local/lib/python3.7/dist-packages (from pyod) (0.10.2)\n",
            "Requirement already satisfied: setuptools in /usr/local/lib/python3.7/dist-packages (from numba>=0.51->pyod) (57.4.0)\n",
            "Requirement already satisfied: llvmlite<0.35,>=0.34.0.dev0 in /usr/local/lib/python3.7/dist-packages (from numba>=0.51->pyod) (0.34.0)\n",
            "Requirement already satisfied: threadpoolctl>=2.0.0 in /usr/local/lib/python3.7/dist-packages (from scikit_learn>=0.20.0->pyod) (3.1.0)\n",
            "Requirement already satisfied: kiwisolver>=1.0.1 in /usr/local/lib/python3.7/dist-packages (from matplotlib->pyod) (1.4.2)\n",
            "Requirement already satisfied: cycler>=0.10 in /usr/local/lib/python3.7/dist-packages (from matplotlib->pyod) (0.11.0)\n",
            "Requirement already satisfied: pyparsing!=2.0.4,!=2.1.2,!=2.1.6,>=2.0.1 in /usr/local/lib/python3.7/dist-packages (from matplotlib->pyod) (3.0.9)\n",
            "Requirement already satisfied: python-dateutil>=2.1 in /usr/local/lib/python3.7/dist-packages (from matplotlib->pyod) (2.8.2)\n",
            "Requirement already satisfied: typing-extensions in /usr/local/lib/python3.7/dist-packages (from kiwisolver>=1.0.1->matplotlib->pyod) (4.2.0)\n",
            "Requirement already satisfied: patsy>=0.4.0 in /usr/local/lib/python3.7/dist-packages (from statsmodels->pyod) (0.5.2)\n",
            "Requirement already satisfied: pandas>=0.19 in /usr/local/lib/python3.7/dist-packages (from statsmodels->pyod) (1.3.5)\n",
            "Requirement already satisfied: pytz>=2017.3 in /usr/local/lib/python3.7/dist-packages (from pandas>=0.19->statsmodels->pyod) (2022.1)\n",
            "Building wheels for collected packages: pyod\n",
            "  Building wheel for pyod (setup.py) ... \u001b[?25l\u001b[?25hdone\n",
            "  Created wheel for pyod: filename=pyod-1.0.1-py3-none-any.whl size=147473 sha256=b056910296d495a842396ec60165245e9584b565235b1cd3dea3a74a1bc4d997\n",
            "  Stored in directory: /root/.cache/pip/wheels/ea/c4/29/67ad87835b209f72e4706369c683741b09490f2829d64ea768\n",
            "Successfully built pyod\n",
            "Installing collected packages: scipy, pyod\n",
            "  Attempting uninstall: scipy\n",
            "    Found existing installation: scipy 1.4.1\n",
            "    Uninstalling scipy-1.4.1:\n",
            "      Successfully uninstalled scipy-1.4.1\n",
            "\u001b[31mERROR: pip's dependency resolver does not currently take into account all the packages that are installed. This behaviour is the source of the following dependency conflicts.\n",
            "albumentations 0.1.12 requires imgaug<0.2.7,>=0.2.5, but you have imgaug 0.2.9 which is incompatible.\u001b[0m\n",
            "Successfully installed pyod-1.0.1 scipy-1.7.3\n"
          ]
        }
      ],
      "source": [
        "pip install pyod"
      ]
    },
    {
      "cell_type": "code",
      "execution_count": null,
      "metadata": {
        "colab": {
          "base_uri": "https://localhost:8080/"
        },
        "id": "xcO5TVSnyWH-",
        "outputId": "80521225-43a1-40bd-dddb-b55cc8c07c13"
      },
      "outputs": [
        {
          "output_type": "stream",
          "name": "stderr",
          "text": [
            "/usr/local/lib/python3.7/dist-packages/statsmodels/tools/_testing.py:19: FutureWarning: pandas.util.testing is deprecated. Use the functions in the public API at pandas.testing instead.\n",
            "  import pandas.util.testing as tm\n"
          ]
        }
      ],
      "source": [
        "import numpy as np\n",
        "import pickle\n",
        "import statistics\n",
        "\n",
        "#from xgboost import XGBClassifier\n",
        "#from pandas import MultiIndex, Int64Index\n",
        "\n",
        "#from sympy.core.numbers import igcd\n",
        "from datetime import datetime\n",
        "\n",
        "from sklearn import preprocessing\n",
        "from sklearn import svm\n",
        "from sklearn import preprocessing\n",
        "from sklearn.ensemble import IsolationForest\n",
        "\n",
        "\n",
        "from sklearn.model_selection import train_test_split\n",
        "from sklearn.model_selection import cross_val_predict\n",
        "from sklearn.model_selection import GridSearchCV\n",
        "from sklearn.model_selection import RandomizedSearchCV\n",
        "\n",
        "from sklearn.preprocessing import MinMaxScaler,QuantileTransformer,RobustScaler,StandardScaler\n",
        "from sklearn.neighbors import KNeighborsClassifier\n",
        "from sklearn.naive_bayes import GaussianNB\n",
        "\n",
        "from sklearn.metrics import confusion_matrix,classification_report\n",
        "#from sklearn.metrics import accuracy_score\n",
        "from sklearn.metrics import precision_recall_fscore_support as score\n",
        "\n",
        "import seaborn as sn\n",
        "import pandas as pd\n",
        "import matplotlib.pyplot as plt\n",
        "import os\n",
        "import time\n",
        "import random\n",
        "from scipy import stats\n",
        "\n",
        "\n",
        "from pyod.models.hbos import HBOS\n",
        "from pyod.models.cblof import CBLOF\n",
        "from pyod.models.loci import LOCI\n",
        "from pyod.models.xgbod import XGBOD\n",
        "from pyod.models.cof import COF\n",
        "from pyod.models.loda import LODA\n",
        "from pyod.models.copod import COPOD\n",
        "from pyod.models.sod import SOD\n",
        "from pyod.models.vae import VAE\n",
        "from pyod.models.lof import LocalOutlierFactor,LOF\n",
        "from pyod.models.lscp import LSCP\n",
        "from pyod.models.so_gaal import SO_GAAL\n",
        "from pyod.models.mo_gaal import MO_GAAL\n",
        "from pyod.models.iforest import IForest\n",
        "from pyod.models.ocsvm import OCSVM\n",
        "from pyod.models.auto_encoder import AutoEncoder\n",
        "\n",
        "\n",
        "from keras.models import Sequential\n",
        "from keras import layers\n",
        "from keras.models import Model, load_model\n",
        "from keras.layers import Input, Dense, Dropout,LSTM, Conv1D, MaxPooling1D, AveragePooling1D, Flatten,Reshape,UpSampling1D\n",
        "from keras.layers import RepeatVector\n",
        "from keras.layers import TimeDistributed\n",
        "from keras.callbacks import ModelCheckpoint, TensorBoard\n",
        "from keras import regularizers\n",
        "from tensorflow.keras.optimizers import Adam\n",
        "from tensorflow.keras.optimizers import SGD\n",
        "from keras.callbacks import EarlyStopping\n",
        "from keras.callbacks import ModelCheckpoint\n",
        "from sklearn.manifold import TSNE\n",
        "os.environ[\"CUDA_VISIBLE_DEVICES\"] = \"2\"\n",
        "\n",
        "from numpy import NaN\n",
        "from scipy.stats import chisquare\n",
        "import statistics\n",
        "#from art.metrics import clever_u, RobustnessVerificationTreeModelsCliqueMethod\n",
        "#from art.estimators.classification import KerasClassifier\n",
        "import tensorflow as tf\n",
        "import tensorflow.keras.backend\n",
        "#from art.estimators.classification import SklearnClassifier\n",
        "#from art.attacks.evasion import FastGradientMethod, CarliniL2Method, DeepFool\n",
        "from math import isclose\n",
        "import re\n",
        "from joblib import dump, load\n",
        "import keras\n",
        "\n",
        "\n",
        "\n"
      ]
    },
    {
      "cell_type": "code",
      "execution_count": null,
      "metadata": {
        "id": "DmizNKaSyWH_"
      },
      "outputs": [],
      "source": [
        "tf.compat.v1.disable_eager_execution()\n"
      ]
    },
    {
      "cell_type": "code",
      "execution_count": null,
      "metadata": {
        "id": "yb9z5LHByWIA"
      },
      "outputs": [],
      "source": [
        "#Generates the autoencoder \n",
        "def gen_autoencoder(X_train,encoding_dim):\n",
        "    \n",
        "    input_dim = X_train.shape[1] # the # features\n",
        "\n",
        "    input_layer = Input(shape=(input_dim, ))\n",
        "    hidden = Dense(encoding_dim[0], activation=\"relu\")(input_layer)\n",
        "    for n_neurons in encoding_dim[1:]:\n",
        "        hidden = Dense(n_neurons, activation=\"relu\")(hidden)#, activity_regularizer=regularizers.l1(10e-5))(input_layer)    \n",
        "        #hidden = Dropout(0.5)(hidden)\n",
        "    \n",
        "    hidden = Dense(input_dim)(hidden)\n",
        "    \n",
        "    autoencoder = Model(inputs=input_layer, outputs=hidden)\n",
        "    opt = Adam(lr=0.001, beta_1=0.9, beta_2=0.999, amsgrad=False)\n",
        "    autoencoder.compile(loss='mean_squared_error', optimizer = opt,metrics=['acc']) # TODO\n",
        "    #autoencoder.compile(loss='categorical_crossentropy', optimizer = opt,metrics=['acc'])\n",
        "    return autoencoder\n",
        "\n",
        "#Get anomaly threshold from \"autoencoder\" setting the threshold in Q1,Q3+-1.5IQR\n",
        "def get_threshold_mse_iqr(autoencoder,train_data):\n",
        "    train_predicted = autoencoder.predict(train_data)\n",
        "    mse = np.mean(np.power(train_data - train_predicted, 2), axis=1)\n",
        "    iqr = np.quantile(mse,0.75) - np.quantile(mse, 0.25) # interquartile range\n",
        "    up_bound = np.quantile(mse,0.75) + 1.5*iqr\n",
        "    bottom_bound = np.quantile(mse,0.25) - 1.5*iqr\n",
        "    thres = [up_bound,bottom_bound]\n",
        "    return thres\n",
        "\n",
        "#Get anomaly threshold from \"autoencoder\" setting the threshold in \"train_data\" using \"outlier_percentage\"\n",
        "def get_threshold_mse_percentage(autoencoder,train_data,outlier_percentage):\n",
        "    train_predicted = autoencoder.predict(train_data)\n",
        "    mse = np.mean(np.power(train_data - train_predicted, 2), axis=1)\n",
        "    thresh = np.quantile(mse, 1-outlier_percentage)\n",
        "    return thresh\n",
        "\n",
        "#Predict outliers in \"df\" using \"autoencoder\" model and \"threshold_mse\" as anomaly limit\n",
        "def detect_outliers(autoencoder, df, threshold_mse):\n",
        "    if(len(threshold_mse)==2):\n",
        "        return detect_outliers_range(autoencoder, df, threshold_mse)\n",
        "    pred=autoencoder.predict(df)\n",
        "    mse = np.mean(np.power(df - pred, 2), axis=1)\n",
        "    #plt.hist(mse, bins=100)\n",
        "    #plt.show()\n",
        "    outliers = [np.array(mse) < threshold_mse]\n",
        "    return outliers\n",
        "\n",
        "def detect_outliers_range(autoencoder, df, threshold_mse):\n",
        "    pred=autoencoder.predict(df)\n",
        "    mse = np.mean(np.power(df - pred, 2), axis=1)\n",
        "    up_bound = threshold_mse[0]\n",
        "    bottom_bound = threshold_mse[1]\n",
        "    outliers = [(np.array(mse) < up_bound)&(np.array(mse) > bottom_bound)]\n",
        "    return outliers\n",
        "    "
      ]
    },
    {
      "cell_type": "code",
      "execution_count": null,
      "metadata": {
        "id": "SxE-_VFXyWIA"
      },
      "outputs": [],
      "source": [
        ""
      ]
    },
    {
      "cell_type": "code",
      "execution_count": null,
      "metadata": {
        "id": "aSARvbZIyWIA"
      },
      "outputs": [],
      "source": [
        "def plot_hist(data):\n",
        "    fig,ax = plt.subplots()\n",
        "    fig.set_size_inches(10.5, 7.5, forward=True)\n",
        "    plt.hist(data, bins = 1000)\n",
        "    plt.show()"
      ]
    },
    {
      "cell_type": "code",
      "execution_count": null,
      "metadata": {
        "id": "DFNp6EdQyWIA"
      },
      "outputs": [],
      "source": [
        "# Data load\n",
        "df_0=pd.read_csv(\"./Datasets/rp3_normal_0.csv\") # \"./Datasets/Rp3_3rd_capture/rp3_normal_all.csv\n",
        "df_1=pd.read_csv(\"./Datasets/rp3_normal_1.csv\")\n",
        "df_2=pd.read_csv(\"./Datasets/rp3_normal_2.csv\")\n",
        "df_3=pd.read_csv(\"./Datasets/rp3_normal_3.csv\")\n",
        "df_4=pd.read_csv(\"./Datasets/rp3_normal_4.csv\")\n",
        "df_5=pd.read_csv(\"./Datasets/rp3_normal_5.csv\")\n",
        "df_6=pd.read_csv(\"./Datasets/rp3_normal_6.csv\")\n",
        "df_mix=pd.read_csv(\"./Datasets/rp3_normal_all.csv\")"
      ]
    },
    {
      "cell_type": "code",
      "execution_count": null,
      "metadata": {
        "id": "plVdByL-yWIB"
      },
      "outputs": [],
      "source": [
        "# Filter vectors according to the timestamps\n",
        "\n",
        "df_0 = df_0.loc[(df_0['timestamp'] >= 1615419435000) & (df_0['timestamp'] <= 1615451520000)]\n",
        "df_1 = df_1.loc[(df_1['timestamp'] >= 1615925651000) & (df_1['timestamp'] <= 1615929569000)]\n",
        "df_2 = df_2.loc[(df_2['timestamp'] >= 1615930017000) & (df_2['timestamp'] <= 1615933673000)]\n",
        "df_3 = df_3.loc[(df_3['timestamp'] >= 1615969307000) & (df_3['timestamp'] <= 1615972800000)]\n",
        "df_4 = df_4.loc[(df_4['timestamp'] >= 1615974874000) & (df_4['timestamp'] <= 1615978500000)]\n",
        "df_5 = df_5.loc[(df_5['timestamp'] >= 1615978899000) & (df_5['timestamp'] <= 1615982700000)]\n",
        "df_6 = df_6.loc[(df_6['timestamp'] >= 1615989015000) & (df_6['timestamp'] <= 1615992622000)]\n",
        "df_mix = df_mix.loc[(df_mix['timestamp'] >= 1615996500000) & (df_mix['timestamp'] <= 1616005200000)]"
      ]
    },
    {
      "cell_type": "code",
      "execution_count": null,
      "metadata": {
        "id": "flkLgiV7yWIB"
      },
      "outputs": [],
      "source": [
        "#df_0.describe()"
      ]
    },
    {
      "cell_type": "code",
      "execution_count": null,
      "metadata": {
        "id": "LPxu5-N_yWIB"
      },
      "outputs": [],
      "source": [
        "df = pd.concat([df_0, df_1, df_2, df_3, df_4, df_5, df_6, df_mix])\n",
        "#df = pd.concat([df_0, df_1, df_2, df_3, df_4, df_5, df_6])\n",
        "#df= pd.concat([df_0, df_1, df_2, df_3, df_4])"
      ]
    },
    {
      "cell_type": "code",
      "execution_count": null,
      "metadata": {
        "colab": {
          "base_uri": "https://localhost:8080/"
        },
        "id": "WLhmcWKzyWIC",
        "outputId": "c8348e5e-e013-484c-9af5-90830433a91f"
      },
      "outputs": [
        {
          "output_type": "stream",
          "name": "stdout",
          "text": [
            "<class 'pandas.core.frame.DataFrame'>\n",
            "Int64Index: 5353 entries, 7 to 759\n",
            "Data columns (total 82 columns):\n",
            " #   Column                                   Non-Null Count  Dtype  \n",
            "---  ------                                   --------------  -----  \n",
            " 0   time                                     5353 non-null   float64\n",
            " 1   timestamp                                5353 non-null   int64  \n",
            " 2   seconds                                  5353 non-null   float64\n",
            " 3   connectivity                             5353 non-null   int64  \n",
            " 4   alarmtimer:alarmtimer_fired              5353 non-null   int64  \n",
            " 5   alarmtimer:alarmtimer_start              5353 non-null   int64  \n",
            " 6   block:block_bio_backmerge                5353 non-null   int64  \n",
            " 7   block:block_bio_remap                    5353 non-null   int64  \n",
            " 8   block:block_dirty_buffer                 5353 non-null   int64  \n",
            " 9   block:block_getrq                        5353 non-null   int64  \n",
            " 10  block:block_touch_buffer                 5353 non-null   int64  \n",
            " 11  block:block_unplug                       5353 non-null   int64  \n",
            " 12  cachefiles:cachefiles_create             5353 non-null   int64  \n",
            " 13  cachefiles:cachefiles_lookup             5353 non-null   int64  \n",
            " 14  cachefiles:cachefiles_mark_active        5353 non-null   int64  \n",
            " 15  clk:clk_set_rate                         5353 non-null   int64  \n",
            " 16  cpu-migrations                           5353 non-null   int64  \n",
            " 17  cs                                       5353 non-null   int64  \n",
            " 18  dma_fence:dma_fence_init                 5353 non-null   int64  \n",
            " 19  fib:fib_table_lookup                     5353 non-null   int64  \n",
            " 20  filemap:mm_filemap_add_to_page_cache     5353 non-null   int64  \n",
            " 21  gpio:gpio_value                          5353 non-null   int64  \n",
            " 22  ipi:ipi_raise                            5353 non-null   int64  \n",
            " 23  irq:irq_handler_entry                    5353 non-null   int64  \n",
            " 24  irq:softirq_entry                        5353 non-null   int64  \n",
            " 25  jbd2:jbd2_handle_start                   5353 non-null   int64  \n",
            " 26  jbd2:jbd2_start_commit                   5353 non-null   int64  \n",
            " 27  kmem:kfree                               5353 non-null   int64  \n",
            " 28  kmem:kmalloc                             5353 non-null   int64  \n",
            " 29  kmem:kmem_cache_alloc                    5353 non-null   int64  \n",
            " 30  kmem:kmem_cache_free                     5353 non-null   int64  \n",
            " 31  kmem:mm_page_alloc                       5353 non-null   int64  \n",
            " 32  kmem:mm_page_alloc_zone_locked           5353 non-null   int64  \n",
            " 33  kmem:mm_page_free                        5353 non-null   int64  \n",
            " 34  kmem:mm_page_pcpu_drain                  5353 non-null   int64  \n",
            " 35  mmc:mmc_request_start                    5353 non-null   int64  \n",
            " 36  net:net_dev_queue                        5353 non-null   int64  \n",
            " 37  net:net_dev_xmit                         5353 non-null   int64  \n",
            " 38  net:netif_rx                             5353 non-null   int64  \n",
            " 39  page-faults                              5353 non-null   int64  \n",
            " 40  pagemap:mm_lru_insertion                 5353 non-null   int64  \n",
            " 41  preemptirq:irq_enable                    5353 non-null   int64  \n",
            " 42  qdisc:qdisc_dequeue                      5353 non-null   int64  \n",
            " 43  qdisc:qdisc_dequeue.1                    5353 non-null   int64  \n",
            " 44  random:get_random_bytes                  5353 non-null   int64  \n",
            " 45  random:mix_pool_bytes_nolock             5353 non-null   int64  \n",
            " 46  random:urandom_read                      5353 non-null   int64  \n",
            " 47  raw_syscalls:sys_enter                   5353 non-null   int64  \n",
            " 48  raw_syscalls:sys_exit                    5353 non-null   int64  \n",
            " 49  rpm:rpm_resume                           5353 non-null   int64  \n",
            " 50  rpm:rpm_suspend                          5353 non-null   int64  \n",
            " 51  sched:sched_process_exec                 5353 non-null   int64  \n",
            " 52  sched:sched_process_free                 5353 non-null   int64  \n",
            " 53  sched:sched_process_wait                 5353 non-null   int64  \n",
            " 54  sched:sched_switch                       5353 non-null   int64  \n",
            " 55  sched:sched_wakeup                       5353 non-null   int64  \n",
            " 56  signal:signal_deliver                    5353 non-null   int64  \n",
            " 57  signal:signal_generate                   5353 non-null   int64  \n",
            " 58  skb:consume_skb                          5353 non-null   int64  \n",
            " 59  skb:consume_skb.1                        5353 non-null   int64  \n",
            " 60  skb:kfree_skb                            5353 non-null   int64  \n",
            " 61  skb:kfree_skb.1                          5353 non-null   int64  \n",
            " 62  skb:skb_copy_datagram_iovec              5353 non-null   int64  \n",
            " 63  sock:inet_sock_set_state                 5353 non-null   int64  \n",
            " 64  task:task_newtask                        5353 non-null   int64  \n",
            " 65  tcp:tcp_destroy_sock                     5353 non-null   int64  \n",
            " 66  tcp:tcp_probe                            5353 non-null   int64  \n",
            " 67  timer:hrtimer_start                      5353 non-null   int64  \n",
            " 68  timer:timer_start                        5353 non-null   int64  \n",
            " 69  udp:udp_fail_queue_rcv_skb               5353 non-null   int64  \n",
            " 70  workqueue:workqueue_activate_work        5353 non-null   int64  \n",
            " 71  writeback:global_dirty_state             5353 non-null   int64  \n",
            " 72  writeback:sb_clear_inode_writeback       5353 non-null   int64  \n",
            " 73  writeback:wbc_writepage                  5353 non-null   int64  \n",
            " 74  writeback:writeback_dirty_inode          5353 non-null   int64  \n",
            " 75  writeback:writeback_dirty_inode_enqueue  5353 non-null   int64  \n",
            " 76  writeback:writeback_dirty_page           5353 non-null   int64  \n",
            " 77  writeback:writeback_mark_inode_dirty     5353 non-null   int64  \n",
            " 78  writeback:writeback_pages_written        5353 non-null   int64  \n",
            " 79  writeback:writeback_single_inode         5353 non-null   int64  \n",
            " 80  writeback:writeback_write_inode          5353 non-null   int64  \n",
            " 81  writeback:writeback_written              5353 non-null   int64  \n",
            "dtypes: float64(2), int64(80)\n",
            "memory usage: 3.4 MB\n"
          ]
        }
      ],
      "source": [
        "df.info()"
      ]
    },
    {
      "cell_type": "code",
      "execution_count": null,
      "metadata": {
        "id": "sXdM5ka9yWIC"
      },
      "outputs": [],
      "source": [
        "df = df.loc[(df['connectivity']==1)]"
      ]
    },
    {
      "cell_type": "code",
      "execution_count": null,
      "metadata": {
        "id": "gzgmeXityWIC"
      },
      "outputs": [],
      "source": [
        "# Remove columns with constant values\n",
        "df=df.loc[:, (df != df.iloc[0]).any()]"
      ]
    },
    {
      "cell_type": "code",
      "execution_count": null,
      "metadata": {
        "colab": {
          "base_uri": "https://localhost:8080/",
          "height": 390
        },
        "id": "ONF7v0uByWIC",
        "outputId": "5a6ca45c-ab83-4c0e-af8e-9986ee8570a2"
      },
      "outputs": [
        {
          "output_type": "execute_result",
          "data": {
            "text/plain": [
              "               time     timestamp      seconds  block:block_bio_backmerge  \\\n",
              "count   5339.000000  5.339000e+03  5339.000000                5339.000000   \n",
              "mean    3928.291767  1.615705e+12     5.011843                   1.719798   \n",
              "std     3942.898974  2.698815e+08     0.009430                   2.635422   \n",
              "min       15.033600  1.615419e+12     5.008997                   0.000000   \n",
              "25%      877.011500  1.615435e+12     5.010348                   0.000000   \n",
              "50%     1914.410000  1.615926e+12     5.010565                   0.000000   \n",
              "75%     6707.675000  1.615980e+12     5.011005                   5.000000   \n",
              "max    13398.100000  1.616005e+12     5.285210                  59.000000   \n",
              "\n",
              "       block:block_bio_remap  block:block_dirty_buffer  block:block_getrq  \\\n",
              "count            5339.000000               5339.000000        5339.000000   \n",
              "mean                2.635138                  4.167634           0.907473   \n",
              "std                 3.840664                148.127538           1.395699   \n",
              "min                 0.000000                  0.000000           0.000000   \n",
              "25%                 0.000000                  0.000000           0.000000   \n",
              "50%                 0.000000                  0.000000           0.000000   \n",
              "75%                 7.000000                  5.000000           2.000000   \n",
              "max                72.000000              10521.000000          27.000000   \n",
              "\n",
              "       block:block_touch_buffer  block:block_unplug  clk:clk_set_rate  ...  \\\n",
              "count               5339.000000         5339.000000       5339.000000  ...   \n",
              "mean                   4.089530            0.504402          1.585690  ...   \n",
              "std                  156.106611            0.772641          3.435362  ...   \n",
              "min                    0.000000            0.000000          0.000000  ...   \n",
              "25%                    0.000000            0.000000          0.000000  ...   \n",
              "50%                    0.000000            0.000000          0.000000  ...   \n",
              "75%                    0.000000            1.000000          1.000000  ...   \n",
              "max                11020.000000           24.000000         14.000000  ...   \n",
              "\n",
              "       writeback:sb_clear_inode_writeback  writeback:wbc_writepage  \\\n",
              "count                         5339.000000              5339.000000   \n",
              "mean                             1.074171                 1.165574   \n",
              "std                              1.885175                 2.269565   \n",
              "min                              0.000000                 0.000000   \n",
              "25%                              0.000000                 0.000000   \n",
              "50%                              0.000000                 0.000000   \n",
              "75%                              1.000000                 0.000000   \n",
              "max                              7.000000                27.000000   \n",
              "\n",
              "       writeback:writeback_dirty_inode  \\\n",
              "count                      5339.000000   \n",
              "mean                         54.862896   \n",
              "std                         181.420970   \n",
              "min                           0.000000   \n",
              "25%                           8.000000   \n",
              "50%                          20.000000   \n",
              "75%                          26.000000   \n",
              "max                       11248.000000   \n",
              "\n",
              "       writeback:writeback_dirty_inode_enqueue  \\\n",
              "count                              5339.000000   \n",
              "mean                                  0.199850   \n",
              "std                                   0.454724   \n",
              "min                                   0.000000   \n",
              "25%                                   0.000000   \n",
              "50%                                   0.000000   \n",
              "75%                                   0.000000   \n",
              "max                                   6.000000   \n",
              "\n",
              "       writeback:writeback_dirty_page  writeback:writeback_mark_inode_dirty  \\\n",
              "count                     5339.000000                           5339.000000   \n",
              "mean                         3.126054                             57.984079   \n",
              "std                        143.379991                            313.307298   \n",
              "min                          0.000000                              0.000000   \n",
              "25%                          0.000000                              9.000000   \n",
              "50%                          0.000000                             21.000000   \n",
              "75%                          0.000000                             27.000000   \n",
              "max                      10448.000000                          21697.000000   \n",
              "\n",
              "       writeback:writeback_pages_written  writeback:writeback_single_inode  \\\n",
              "count                        5339.000000                       5339.000000   \n",
              "mean                            0.995692                          0.450272   \n",
              "std                             0.089649                          0.754349   \n",
              "min                             0.000000                          0.000000   \n",
              "25%                             1.000000                          0.000000   \n",
              "50%                             1.000000                          0.000000   \n",
              "75%                             1.000000                          1.000000   \n",
              "max                             3.000000                          8.000000   \n",
              "\n",
              "       writeback:writeback_write_inode  writeback:writeback_written  \n",
              "count                      5339.000000                  5339.000000  \n",
              "mean                          0.233564                     1.406443  \n",
              "std                           0.649198                     0.668851  \n",
              "min                           0.000000                     0.000000  \n",
              "25%                           0.000000                     1.000000  \n",
              "50%                           0.000000                     1.000000  \n",
              "75%                           0.000000                     2.000000  \n",
              "max                           7.000000                     4.000000  \n",
              "\n",
              "[8 rows x 74 columns]"
            ],
            "text/html": [
              "\n",
              "  <div id=\"df-3470ebd4-62bf-4d97-a0ff-3d6d9f03b377\">\n",
              "    <div class=\"colab-df-container\">\n",
              "      <div>\n",
              "<style scoped>\n",
              "    .dataframe tbody tr th:only-of-type {\n",
              "        vertical-align: middle;\n",
              "    }\n",
              "\n",
              "    .dataframe tbody tr th {\n",
              "        vertical-align: top;\n",
              "    }\n",
              "\n",
              "    .dataframe thead th {\n",
              "        text-align: right;\n",
              "    }\n",
              "</style>\n",
              "<table border=\"1\" class=\"dataframe\">\n",
              "  <thead>\n",
              "    <tr style=\"text-align: right;\">\n",
              "      <th></th>\n",
              "      <th>time</th>\n",
              "      <th>timestamp</th>\n",
              "      <th>seconds</th>\n",
              "      <th>block:block_bio_backmerge</th>\n",
              "      <th>block:block_bio_remap</th>\n",
              "      <th>block:block_dirty_buffer</th>\n",
              "      <th>block:block_getrq</th>\n",
              "      <th>block:block_touch_buffer</th>\n",
              "      <th>block:block_unplug</th>\n",
              "      <th>clk:clk_set_rate</th>\n",
              "      <th>...</th>\n",
              "      <th>writeback:sb_clear_inode_writeback</th>\n",
              "      <th>writeback:wbc_writepage</th>\n",
              "      <th>writeback:writeback_dirty_inode</th>\n",
              "      <th>writeback:writeback_dirty_inode_enqueue</th>\n",
              "      <th>writeback:writeback_dirty_page</th>\n",
              "      <th>writeback:writeback_mark_inode_dirty</th>\n",
              "      <th>writeback:writeback_pages_written</th>\n",
              "      <th>writeback:writeback_single_inode</th>\n",
              "      <th>writeback:writeback_write_inode</th>\n",
              "      <th>writeback:writeback_written</th>\n",
              "    </tr>\n",
              "  </thead>\n",
              "  <tbody>\n",
              "    <tr>\n",
              "      <th>count</th>\n",
              "      <td>5339.000000</td>\n",
              "      <td>5.339000e+03</td>\n",
              "      <td>5339.000000</td>\n",
              "      <td>5339.000000</td>\n",
              "      <td>5339.000000</td>\n",
              "      <td>5339.000000</td>\n",
              "      <td>5339.000000</td>\n",
              "      <td>5339.000000</td>\n",
              "      <td>5339.000000</td>\n",
              "      <td>5339.000000</td>\n",
              "      <td>...</td>\n",
              "      <td>5339.000000</td>\n",
              "      <td>5339.000000</td>\n",
              "      <td>5339.000000</td>\n",
              "      <td>5339.000000</td>\n",
              "      <td>5339.000000</td>\n",
              "      <td>5339.000000</td>\n",
              "      <td>5339.000000</td>\n",
              "      <td>5339.000000</td>\n",
              "      <td>5339.000000</td>\n",
              "      <td>5339.000000</td>\n",
              "    </tr>\n",
              "    <tr>\n",
              "      <th>mean</th>\n",
              "      <td>3928.291767</td>\n",
              "      <td>1.615705e+12</td>\n",
              "      <td>5.011843</td>\n",
              "      <td>1.719798</td>\n",
              "      <td>2.635138</td>\n",
              "      <td>4.167634</td>\n",
              "      <td>0.907473</td>\n",
              "      <td>4.089530</td>\n",
              "      <td>0.504402</td>\n",
              "      <td>1.585690</td>\n",
              "      <td>...</td>\n",
              "      <td>1.074171</td>\n",
              "      <td>1.165574</td>\n",
              "      <td>54.862896</td>\n",
              "      <td>0.199850</td>\n",
              "      <td>3.126054</td>\n",
              "      <td>57.984079</td>\n",
              "      <td>0.995692</td>\n",
              "      <td>0.450272</td>\n",
              "      <td>0.233564</td>\n",
              "      <td>1.406443</td>\n",
              "    </tr>\n",
              "    <tr>\n",
              "      <th>std</th>\n",
              "      <td>3942.898974</td>\n",
              "      <td>2.698815e+08</td>\n",
              "      <td>0.009430</td>\n",
              "      <td>2.635422</td>\n",
              "      <td>3.840664</td>\n",
              "      <td>148.127538</td>\n",
              "      <td>1.395699</td>\n",
              "      <td>156.106611</td>\n",
              "      <td>0.772641</td>\n",
              "      <td>3.435362</td>\n",
              "      <td>...</td>\n",
              "      <td>1.885175</td>\n",
              "      <td>2.269565</td>\n",
              "      <td>181.420970</td>\n",
              "      <td>0.454724</td>\n",
              "      <td>143.379991</td>\n",
              "      <td>313.307298</td>\n",
              "      <td>0.089649</td>\n",
              "      <td>0.754349</td>\n",
              "      <td>0.649198</td>\n",
              "      <td>0.668851</td>\n",
              "    </tr>\n",
              "    <tr>\n",
              "      <th>min</th>\n",
              "      <td>15.033600</td>\n",
              "      <td>1.615419e+12</td>\n",
              "      <td>5.008997</td>\n",
              "      <td>0.000000</td>\n",
              "      <td>0.000000</td>\n",
              "      <td>0.000000</td>\n",
              "      <td>0.000000</td>\n",
              "      <td>0.000000</td>\n",
              "      <td>0.000000</td>\n",
              "      <td>0.000000</td>\n",
              "      <td>...</td>\n",
              "      <td>0.000000</td>\n",
              "      <td>0.000000</td>\n",
              "      <td>0.000000</td>\n",
              "      <td>0.000000</td>\n",
              "      <td>0.000000</td>\n",
              "      <td>0.000000</td>\n",
              "      <td>0.000000</td>\n",
              "      <td>0.000000</td>\n",
              "      <td>0.000000</td>\n",
              "      <td>0.000000</td>\n",
              "    </tr>\n",
              "    <tr>\n",
              "      <th>25%</th>\n",
              "      <td>877.011500</td>\n",
              "      <td>1.615435e+12</td>\n",
              "      <td>5.010348</td>\n",
              "      <td>0.000000</td>\n",
              "      <td>0.000000</td>\n",
              "      <td>0.000000</td>\n",
              "      <td>0.000000</td>\n",
              "      <td>0.000000</td>\n",
              "      <td>0.000000</td>\n",
              "      <td>0.000000</td>\n",
              "      <td>...</td>\n",
              "      <td>0.000000</td>\n",
              "      <td>0.000000</td>\n",
              "      <td>8.000000</td>\n",
              "      <td>0.000000</td>\n",
              "      <td>0.000000</td>\n",
              "      <td>9.000000</td>\n",
              "      <td>1.000000</td>\n",
              "      <td>0.000000</td>\n",
              "      <td>0.000000</td>\n",
              "      <td>1.000000</td>\n",
              "    </tr>\n",
              "    <tr>\n",
              "      <th>50%</th>\n",
              "      <td>1914.410000</td>\n",
              "      <td>1.615926e+12</td>\n",
              "      <td>5.010565</td>\n",
              "      <td>0.000000</td>\n",
              "      <td>0.000000</td>\n",
              "      <td>0.000000</td>\n",
              "      <td>0.000000</td>\n",
              "      <td>0.000000</td>\n",
              "      <td>0.000000</td>\n",
              "      <td>0.000000</td>\n",
              "      <td>...</td>\n",
              "      <td>0.000000</td>\n",
              "      <td>0.000000</td>\n",
              "      <td>20.000000</td>\n",
              "      <td>0.000000</td>\n",
              "      <td>0.000000</td>\n",
              "      <td>21.000000</td>\n",
              "      <td>1.000000</td>\n",
              "      <td>0.000000</td>\n",
              "      <td>0.000000</td>\n",
              "      <td>1.000000</td>\n",
              "    </tr>\n",
              "    <tr>\n",
              "      <th>75%</th>\n",
              "      <td>6707.675000</td>\n",
              "      <td>1.615980e+12</td>\n",
              "      <td>5.011005</td>\n",
              "      <td>5.000000</td>\n",
              "      <td>7.000000</td>\n",
              "      <td>5.000000</td>\n",
              "      <td>2.000000</td>\n",
              "      <td>0.000000</td>\n",
              "      <td>1.000000</td>\n",
              "      <td>1.000000</td>\n",
              "      <td>...</td>\n",
              "      <td>1.000000</td>\n",
              "      <td>0.000000</td>\n",
              "      <td>26.000000</td>\n",
              "      <td>0.000000</td>\n",
              "      <td>0.000000</td>\n",
              "      <td>27.000000</td>\n",
              "      <td>1.000000</td>\n",
              "      <td>1.000000</td>\n",
              "      <td>0.000000</td>\n",
              "      <td>2.000000</td>\n",
              "    </tr>\n",
              "    <tr>\n",
              "      <th>max</th>\n",
              "      <td>13398.100000</td>\n",
              "      <td>1.616005e+12</td>\n",
              "      <td>5.285210</td>\n",
              "      <td>59.000000</td>\n",
              "      <td>72.000000</td>\n",
              "      <td>10521.000000</td>\n",
              "      <td>27.000000</td>\n",
              "      <td>11020.000000</td>\n",
              "      <td>24.000000</td>\n",
              "      <td>14.000000</td>\n",
              "      <td>...</td>\n",
              "      <td>7.000000</td>\n",
              "      <td>27.000000</td>\n",
              "      <td>11248.000000</td>\n",
              "      <td>6.000000</td>\n",
              "      <td>10448.000000</td>\n",
              "      <td>21697.000000</td>\n",
              "      <td>3.000000</td>\n",
              "      <td>8.000000</td>\n",
              "      <td>7.000000</td>\n",
              "      <td>4.000000</td>\n",
              "    </tr>\n",
              "  </tbody>\n",
              "</table>\n",
              "<p>8 rows × 74 columns</p>\n",
              "</div>\n",
              "      <button class=\"colab-df-convert\" onclick=\"convertToInteractive('df-3470ebd4-62bf-4d97-a0ff-3d6d9f03b377')\"\n",
              "              title=\"Convert this dataframe to an interactive table.\"\n",
              "              style=\"display:none;\">\n",
              "        \n",
              "  <svg xmlns=\"http://www.w3.org/2000/svg\" height=\"24px\"viewBox=\"0 0 24 24\"\n",
              "       width=\"24px\">\n",
              "    <path d=\"M0 0h24v24H0V0z\" fill=\"none\"/>\n",
              "    <path d=\"M18.56 5.44l.94 2.06.94-2.06 2.06-.94-2.06-.94-.94-2.06-.94 2.06-2.06.94zm-11 1L8.5 8.5l.94-2.06 2.06-.94-2.06-.94L8.5 2.5l-.94 2.06-2.06.94zm10 10l.94 2.06.94-2.06 2.06-.94-2.06-.94-.94-2.06-.94 2.06-2.06.94z\"/><path d=\"M17.41 7.96l-1.37-1.37c-.4-.4-.92-.59-1.43-.59-.52 0-1.04.2-1.43.59L10.3 9.45l-7.72 7.72c-.78.78-.78 2.05 0 2.83L4 21.41c.39.39.9.59 1.41.59.51 0 1.02-.2 1.41-.59l7.78-7.78 2.81-2.81c.8-.78.8-2.07 0-2.86zM5.41 20L4 18.59l7.72-7.72 1.47 1.35L5.41 20z\"/>\n",
              "  </svg>\n",
              "      </button>\n",
              "      \n",
              "  <style>\n",
              "    .colab-df-container {\n",
              "      display:flex;\n",
              "      flex-wrap:wrap;\n",
              "      gap: 12px;\n",
              "    }\n",
              "\n",
              "    .colab-df-convert {\n",
              "      background-color: #E8F0FE;\n",
              "      border: none;\n",
              "      border-radius: 50%;\n",
              "      cursor: pointer;\n",
              "      display: none;\n",
              "      fill: #1967D2;\n",
              "      height: 32px;\n",
              "      padding: 0 0 0 0;\n",
              "      width: 32px;\n",
              "    }\n",
              "\n",
              "    .colab-df-convert:hover {\n",
              "      background-color: #E2EBFA;\n",
              "      box-shadow: 0px 1px 2px rgba(60, 64, 67, 0.3), 0px 1px 3px 1px rgba(60, 64, 67, 0.15);\n",
              "      fill: #174EA6;\n",
              "    }\n",
              "\n",
              "    [theme=dark] .colab-df-convert {\n",
              "      background-color: #3B4455;\n",
              "      fill: #D2E3FC;\n",
              "    }\n",
              "\n",
              "    [theme=dark] .colab-df-convert:hover {\n",
              "      background-color: #434B5C;\n",
              "      box-shadow: 0px 1px 3px 1px rgba(0, 0, 0, 0.15);\n",
              "      filter: drop-shadow(0px 1px 2px rgba(0, 0, 0, 0.3));\n",
              "      fill: #FFFFFF;\n",
              "    }\n",
              "  </style>\n",
              "\n",
              "      <script>\n",
              "        const buttonEl =\n",
              "          document.querySelector('#df-3470ebd4-62bf-4d97-a0ff-3d6d9f03b377 button.colab-df-convert');\n",
              "        buttonEl.style.display =\n",
              "          google.colab.kernel.accessAllowed ? 'block' : 'none';\n",
              "\n",
              "        async function convertToInteractive(key) {\n",
              "          const element = document.querySelector('#df-3470ebd4-62bf-4d97-a0ff-3d6d9f03b377');\n",
              "          const dataTable =\n",
              "            await google.colab.kernel.invokeFunction('convertToInteractive',\n",
              "                                                     [key], {});\n",
              "          if (!dataTable) return;\n",
              "\n",
              "          const docLinkHtml = 'Like what you see? Visit the ' +\n",
              "            '<a target=\"_blank\" href=https://colab.research.google.com/notebooks/data_table.ipynb>data table notebook</a>'\n",
              "            + ' to learn more about interactive tables.';\n",
              "          element.innerHTML = '';\n",
              "          dataTable['output_type'] = 'display_data';\n",
              "          await google.colab.output.renderOutput(dataTable, element);\n",
              "          const docLink = document.createElement('div');\n",
              "          docLink.innerHTML = docLinkHtml;\n",
              "          element.appendChild(docLink);\n",
              "        }\n",
              "      </script>\n",
              "    </div>\n",
              "  </div>\n",
              "  "
            ]
          },
          "metadata": {},
          "execution_count": 16
        }
      ],
      "source": [
        "df.describe()"
      ]
    },
    {
      "cell_type": "code",
      "execution_count": null,
      "metadata": {
        "id": "EMUfhULzyWID"
      },
      "outputs": [],
      "source": [
        "df.drop(['time','timestamp'],axis=1,inplace=True)"
      ]
    },
    {
      "cell_type": "code",
      "execution_count": null,
      "metadata": {
        "colab": {
          "base_uri": "https://localhost:8080/",
          "height": 781
        },
        "id": "kNUWXykSyWID",
        "outputId": "2b50820e-c4f7-4813-fac3-ea6331915c87"
      },
      "outputs": [
        {
          "output_type": "execute_result",
          "data": {
            "text/plain": [
              "<matplotlib.axes._subplots.AxesSubplot at 0x7efec3541e90>"
            ]
          },
          "metadata": {},
          "execution_count": 18
        },
        {
          "output_type": "display_data",
          "data": {
            "text/plain": [
              "<Figure size 2016x1440 with 2 Axes>"
            ],
            "image/png": "[encoded data removed]"
          },
          "metadata": {
            "needs_background": "light"
          }
        }
      ],
      "source": [
        "# Calculate the correlation between features\n",
        "\n",
        "corr = df.corr()\n",
        "f, ax = plt.subplots(figsize=(28, 20))\n",
        "sn.heatmap(corr,vmin=-1.0,vmax=1.0)"
      ]
    },
    {
      "cell_type": "code",
      "execution_count": null,
      "metadata": {
        "id": "LCqZ6erSyWID"
      },
      "outputs": [],
      "source": [
        ""
      ]
    },
    {
      "cell_type": "code",
      "execution_count": null,
      "metadata": {
        "id": "rUo09hM-yWID"
      },
      "outputs": [],
      "source": [
        "# Split dataset in training, validation and testing\n",
        "df_X_train, df_X_test = train_test_split(df, test_size=0.10, random_state=42)\n",
        "df_X_val, df_X_test = train_test_split(df_X_test, test_size=0.50, random_state=42)"
      ]
    },
    {
      "cell_type": "code",
      "execution_count": null,
      "metadata": {
        "id": "usfD2XzQyWIE"
      },
      "outputs": [],
      "source": [
        "#Save selected features\n",
        "feat_list=df_X_train.columns"
      ]
    },
    {
      "cell_type": "code",
      "execution_count": null,
      "metadata": {
        "id": "tLVbjZXgyWIE"
      },
      "outputs": [],
      "source": [
        "#Feature scaling\n",
        "\n",
        "# Min_Max_Scaler normalization\n",
        "#scaler = MinMaxScaler().fit(X_train)\n",
        "#scaler = QuantileTransformer(n_quantiles=1000,random_state=42).fit(X_train)\n",
        "#scaler = RobustScaler().fit(X_train)\n",
        "scaler= StandardScaler().fit(df_X_train)\n",
        "\n",
        "# Transform training set\n",
        "X_train = scaler.transform(df_X_train)\n",
        "\n",
        "# Transform validation set\n",
        "X_val = scaler.transform(df_X_val)\n",
        "#TODO\n",
        "\n",
        "# Transform test set\n",
        "X_test = scaler.transform(df_X_test)"
      ]
    },
    {
      "cell_type": "code",
      "execution_count": null,
      "metadata": {
        "colab": {
          "base_uri": "https://localhost:8080/",
          "height": 88
        },
        "id": "hO0pjupdyWIE",
        "outputId": "44d228af-ea93-4654-9ffd-620469ab9d45"
      },
      "outputs": [
        {
          "output_type": "execute_result",
          "data": {
            "text/plain": [
              "\"detector_list=[AutoEncoder([32,16,32], hidden_activation='relu',epochs=20,contamination=0.1),\\n                LOF(contamination=0.1,n_neighbors=25), COPOD(contamination=0.1),\\n                IForest(random_state=42,contamination=0.1), CBLOF(n_clusters=20,contamination=0.1),\\n                HBOS(n_bins=100,contamination=0.1), LODA(n_bins=100,n_random_cuts=100,contamination=0.1)]\""
            ],
            "application/vnd.google.colaboratory.intrinsic+json": {
              "type": "string"
            }
          },
          "metadata": {},
          "execution_count": 22
        }
      ],
      "source": [
        "# Different models\n",
        "\n",
        "#clf = IsolationForest(random_state=42, contamination=0.2)\n",
        "\"\"\"detector_list=[AutoEncoder([32,16,32], hidden_activation='relu',epochs=20,contamination=0.1),\n",
        "                LOF(contamination=0.1,n_neighbors=25), COPOD(contamination=0.1),\n",
        "                IForest(random_state=42,contamination=0.1), CBLOF(n_clusters=20,contamination=0.1),\n",
        "                HBOS(n_bins=100,contamination=0.1), LODA(n_bins=100,n_random_cuts=100,contamination=0.1)]\"\"\"\n",
        "#clf = LSCP(detector_list)\n",
        "#clf = AutoEncoder([16], hidden_activation='relu',epochs=20,contamination=0.2,dropout_rate=0.0,preprocessing=True)\n",
        "#clf = LOF(contamination=0.05,n_neighbors=50, novelty=True)\n",
        "#clf = CBLOF(n_clusters=20,contamination=0.2)\n",
        "#clf = VAE(encoder_neurons=[32,16],decoder_neurons=[16,32],latent_dim=2,epochs=50,contamination=0.05,verbose=1)\n",
        "#clf = LODA(n_bins=100,n_random_cuts=100,contamination=0.2)\n",
        "#clf = COPOD(contamination=0.2)\n",
        "#clf = HBOS(n_bins=100,contamination=0.2)\n",
        "#clf = SO_GAAL(contamination=0.2)\n",
        "#clf = MO_GAAL(contamination=0.2)\n",
        "#clf = OCSVM(kernel='rbf',gamma=0.0001, nu=0.3)\n"
      ]
    },
    {
      "cell_type": "code",
      "execution_count": null,
      "metadata": {
        "id": "6lBQoI91yWIF"
      },
      "outputs": [],
      "source": [
        "classifiers = {\n",
        "    \"clf_IF\": IsolationForest(random_state=42, contamination=0.2),\n",
        "    #\"clf_LSCP\": LSCP(detector_list),\n",
        "    \"clf_AE\": AutoEncoder([16], hidden_activation='relu',epochs=20,contamination=0.2,dropout_rate=0.0,preprocessing=True),\n",
        "    \"clf_LOF\": LOF(contamination=0.05,n_neighbors=50, novelty=True), #TODO novelty\n",
        "    \"clf_CBLOF\": CBLOF(n_clusters=20,contamination=0.2),\n",
        "    #\"clf_VAE\": VAE(encoder_neurons=[32,16],decoder_neurons=[16,32],latent_dim=2,epochs=50,contamination=0.05,verbose=1), #TODO\n",
        "    \"clf_LODA\": LODA(n_bins=100,n_random_cuts=100,contamination=0.2),\n",
        "    \"clf_COPOD\": COPOD(contamination=0.2),\n",
        "    \"clf_HBOS\": HBOS(n_bins=100,contamination=0.2),\n",
        "    \"clf_SO_GAAL\": SO_GAAL(contamination=0.2),\n",
        "    \"clf_MO_GAAL\": MO_GAAL(contamination=0.2),\n",
        "    \"clf_OCSVM\": OCSVM(kernel='rbf',gamma=0.0001, nu=0.3),\n",
        "}\n"
      ]
    },
    {
      "cell_type": "code",
      "execution_count": null,
      "metadata": {
        "colab": {
          "base_uri": "https://localhost:8080/"
        },
        "id": "OarkFANFyWIF",
        "outputId": "f59545dd-935f-4a55-bab3-14cfa4f850e3"
      },
      "outputs": [
        {
          "output_type": "stream",
          "name": "stdout",
          "text": [
            "IsolationForest(contamination=0.2, random_state=42)\n",
            "AutoEncoder(batch_size=32, contamination=0.2, dropout_rate=0.0, epochs=20,\n",
            "      hidden_activation='relu', hidden_neurons=[16], l2_regularizer=0.1,\n",
            "      loss=<function mean_squared_error at 0x7efec3d2a050>,\n",
            "      optimizer='adam', output_activation='sigmoid', preprocessing=True,\n",
            "      random_state=None, validation_size=0.1, verbose=1)\n",
            "LOF(algorithm='auto', contamination=0.05, leaf_size=30, metric='minkowski',\n",
            "  metric_params=None, n_jobs=1, n_neighbors=50, novelty=True, p=2)\n",
            "CBLOF(alpha=0.9, beta=5, check_estimator=False, clustering_estimator=None,\n",
            "   contamination=0.2, n_clusters=20, n_jobs=None, random_state=None,\n",
            "   use_weights=False)\n",
            "LODA(contamination=0.2, n_bins=100, n_random_cuts=100)\n",
            "COPOD(contamination=0.2, n_jobs=1)\n",
            "HBOS(alpha=0.1, contamination=0.2, n_bins=100, tol=0.5)\n",
            "WARNING:tensorflow:No training configuration found in save file, so the model was *not* compiled. Compile it manually.\n",
            "SO_GAAL(contamination=0.2, decay=1e-06, lr_d=0.01, lr_g=0.0001, momentum=0.9,\n",
            "    stop_epochs=20)\n",
            "MO_GAAL(contamination=0.2, decay=1e-06, k=10, lr_d=0.01, lr_g=0.0001,\n",
            "    momentum=0.9, stop_epochs=20)\n",
            "OCSVM(cache_size=200, coef0=0.0, contamination=0.1, degree=3, gamma=0.0001,\n",
            "   kernel='rbf', max_iter=-1, nu=0.3, shrinking=True, tol=0.001,\n",
            "   verbose=False)\n"
          ]
        }
      ],
      "source": [
        "# Model training\n",
        "#clf.fit(X_train)\n",
        "\n",
        "# save the model\n",
        "#dump(clf, 'clf_IF.joblib')\n",
        "\n",
        "# load the model\n",
        "#clf = load('clf_IF.joblib')\n",
        "\n",
        "'''\n",
        "for clf_name, clf in classifiers.items():\n",
        "  clf.fit(X_train)\n",
        "  dump(clf, clf_name + \".joblib\")\n",
        "'''\n",
        "\n",
        "\n",
        "for clf_name, clf in classifiers.items():\n",
        "  print(load(clf_name + \".joblib\"))\n"
      ]
    },
    {
      "cell_type": "code",
      "source": [
        ""
      ],
      "metadata": {
        "id": "Eyx1gQwnJAjq"
      },
      "execution_count": null,
      "outputs": []
    },
    {
      "cell_type": "code",
      "execution_count": null,
      "metadata": {
        "colab": {
          "base_uri": "https://localhost:8080/",
          "height": 54
        },
        "id": "WS54AVsZyWIF",
        "outputId": "3364fbff-9f81-49f6-9a73-1d4641a7b787"
      },
      "outputs": [
        {
          "output_type": "execute_result",
          "data": {
            "text/plain": [
              "'\\npred=clf.predict(X_test)\\nunique_elements, counts_elements = np.unique(pred, return_counts=True)\\nprint(\"\\t\",unique_elements,\"    \",counts_elements)\\n'"
            ],
            "application/vnd.google.colaboratory.intrinsic+json": {
              "type": "string"
            }
          },
          "metadata": {},
          "execution_count": 25
        }
      ],
      "source": [
        "# Model evaluation with good behaviour\n",
        "'''\n",
        "pred=clf.predict(X_test)\n",
        "unique_elements, counts_elements = np.unique(pred, return_counts=True)\n",
        "print(\"\\t\",unique_elements,\"    \",counts_elements)\n",
        "'''"
      ]
    },
    {
      "cell_type": "code",
      "execution_count": null,
      "metadata": {
        "colab": {
          "base_uri": "https://localhost:8080/",
          "height": 105
        },
        "id": "Y5ikQfU7yWIF",
        "outputId": "f3038047-83ec-4586-85a7-26d87645009c"
      },
      "outputs": [
        {
          "output_type": "execute_result",
          "data": {
            "text/plain": [
              "'\\nfor clf_name, clf in classifiers.items():\\n  print(clf_name)\\n  clf = load(clf_name + \".joblib\")\\n  pred = clf.predict(X_test)\\n  unique_elements, counts_elements = np.unique(pred, return_counts=True)\\n  print(\"\\t\",unique_elements,\"    \",counts_elements)\\n  if isinstance(clf, IsolationForest):\\n    print(compute_accuracy(unique_elements, counts_elements, -1, 1))\\n  else:\\n    print(compute_accuracy(unique_elements, counts_elements, 1, 0))\\n'"
            ],
            "application/vnd.google.colaboratory.intrinsic+json": {
              "type": "string"
            }
          },
          "metadata": {},
          "execution_count": 26
        }
      ],
      "source": [
        "'''\n",
        "for clf_name, clf in classifiers.items():\n",
        "  print(clf_name)\n",
        "  clf = load(clf_name + \".joblib\")\n",
        "  pred = clf.predict(X_test)\n",
        "  unique_elements, counts_elements = np.unique(pred, return_counts=True)\n",
        "  print(\"\\t\",unique_elements,\"    \",counts_elements)\n",
        "  if isinstance(clf, IsolationForest):\n",
        "    print(compute_accuracy(unique_elements, counts_elements, -1, 1))\n",
        "  else:\n",
        "    print(compute_accuracy(unique_elements, counts_elements, 1, 0))\n",
        "'''"
      ]
    },
    {
      "cell_type": "code",
      "execution_count": null,
      "metadata": {
        "colab": {
          "base_uri": "https://localhost:8080/"
        },
        "id": "F5acczRkyWIF",
        "outputId": "162c3940-8eb1-47b0-a2a8-8ab9ce9527c9"
      },
      "outputs": [
        {
          "output_type": "stream",
          "name": "stderr",
          "text": [
            "/usr/local/lib/python3.7/dist-packages/keras/optimizer_v2/adam.py:105: UserWarning: The `lr` argument is deprecated, use `learning_rate` instead.\n",
            "  super(Adam, self).__init__(name, **kwargs)\n"
          ]
        },
        {
          "output_type": "stream",
          "name": "stdout",
          "text": [
            "Train on 3844 samples, validate on 961 samples\n",
            "Epoch 1/2000\n",
            "3840/3844 [============================>.] - ETA: 0s - loss: 0.6373 - acc: 0.0198"
          ]
        },
        {
          "output_type": "stream",
          "name": "stderr",
          "text": [
            "/usr/local/lib/python3.7/dist-packages/keras/engine/training_v1.py:2057: UserWarning: `Model.state_updates` will be removed in a future version. This property should not be used in TensorFlow 2.0, as `updates` are applied automatically.\n",
            "  updates = self.state_updates\n"
          ]
        },
        {
          "output_type": "stream",
          "name": "stdout",
          "text": [
            "\b\b\b\b\b\b\b\b\b\b\b\b\b\b\b\b\b\b\b\b\b\b\b\b\b\b\b\b\b\b\b\b\b\b\b\b\b\b\b\b\b\b\b\b\b\b\b\b\b\b\b\b\b\b\b\b\b\b\b\b\b\b\b\b\b\b\b\b\b\b\b\b\b\b\b\b\b\b\b\b\b\r3844/3844 [==============================] - 2s 566us/sample - loss: 0.6376 - acc: 0.0198 - val_loss: 0.3386 - val_acc: 0.0375\n",
            "Epoch 2/2000\n",
            "3844/3844 [==============================] - 1s 220us/sample - loss: 0.4053 - acc: 0.0552 - val_loss: 0.2503 - val_acc: 0.0728\n",
            "Epoch 3/2000\n",
            "3844/3844 [==============================] - 1s 279us/sample - loss: 0.3235 - acc: 0.1116 - val_loss: 0.1991 - val_acc: 0.1769\n",
            "Epoch 4/2000\n",
            "3844/3844 [==============================] - 1s 248us/sample - loss: 0.2707 - acc: 0.2466 - val_loss: 0.1807 - val_acc: 0.2352\n",
            "Epoch 5/2000\n",
            "3844/3844 [==============================] - 1s 292us/sample - loss: 0.2230 - acc: 0.3187 - val_loss: 0.1610 - val_acc: 0.3757\n",
            "Epoch 6/2000\n",
            "3844/3844 [==============================] - 1s 249us/sample - loss: 0.1843 - acc: 0.3738 - val_loss: 0.1592 - val_acc: 0.3736\n",
            "Epoch 7/2000\n",
            "3844/3844 [==============================] - 1s 224us/sample - loss: 0.1787 - acc: 0.4004 - val_loss: 0.1269 - val_acc: 0.4620\n",
            "Epoch 8/2000\n",
            "3844/3844 [==============================] - 1s 179us/sample - loss: 0.1546 - acc: 0.4433 - val_loss: 0.1196 - val_acc: 0.4631\n",
            "Epoch 9/2000\n",
            "3844/3844 [==============================] - 1s 214us/sample - loss: 0.1236 - acc: 0.4386 - val_loss: 0.1099 - val_acc: 0.4537\n",
            "Epoch 10/2000\n",
            "3844/3844 [==============================] - 1s 223us/sample - loss: 0.1200 - acc: 0.4378 - val_loss: 0.1098 - val_acc: 0.4391\n",
            "Epoch 11/2000\n",
            "3844/3844 [==============================] - 1s 204us/sample - loss: 0.1264 - acc: 0.4558 - val_loss: 0.1075 - val_acc: 0.4412\n",
            "Epoch 12/2000\n",
            "3844/3844 [==============================] - 1s 231us/sample - loss: 0.1251 - acc: 0.4576 - val_loss: 0.1015 - val_acc: 0.4860\n",
            "Epoch 13/2000\n",
            "3844/3844 [==============================] - 1s 230us/sample - loss: 0.1104 - acc: 0.4472 - val_loss: 0.0977 - val_acc: 0.4631\n",
            "Epoch 14/2000\n",
            "3844/3844 [==============================] - 1s 194us/sample - loss: 0.1088 - acc: 0.4537 - val_loss: 0.0990 - val_acc: 0.4672\n",
            "Epoch 15/2000\n",
            "3844/3844 [==============================] - 1s 207us/sample - loss: 0.1102 - acc: 0.4625 - val_loss: 0.0917 - val_acc: 0.5203\n",
            "Epoch 16/2000\n",
            "3844/3844 [==============================] - 1s 232us/sample - loss: 0.0994 - acc: 0.4641 - val_loss: 0.0946 - val_acc: 0.4755\n",
            "Epoch 17/2000\n",
            "3844/3844 [==============================] - 1s 216us/sample - loss: 0.0996 - acc: 0.4638 - val_loss: 0.0881 - val_acc: 0.4755\n",
            "Epoch 18/2000\n",
            "3844/3844 [==============================] - 1s 262us/sample - loss: 0.1012 - acc: 0.4677 - val_loss: 0.1047 - val_acc: 0.4568\n",
            "Epoch 19/2000\n",
            "3844/3844 [==============================] - 1s 177us/sample - loss: 0.1223 - acc: 0.4566 - val_loss: 0.0851 - val_acc: 0.5130\n",
            "Epoch 20/2000\n",
            "3844/3844 [==============================] - 1s 204us/sample - loss: 0.0823 - acc: 0.4787 - val_loss: 0.0837 - val_acc: 0.4631\n",
            "Epoch 21/2000\n",
            "3844/3844 [==============================] - 1s 179us/sample - loss: 0.0819 - acc: 0.4711 - val_loss: 0.0758 - val_acc: 0.4901\n",
            "Epoch 22/2000\n",
            "3844/3844 [==============================] - 1s 196us/sample - loss: 0.0787 - acc: 0.4742 - val_loss: 0.0822 - val_acc: 0.4547\n",
            "Epoch 23/2000\n",
            "3844/3844 [==============================] - 1s 194us/sample - loss: 0.0803 - acc: 0.4813 - val_loss: 0.0749 - val_acc: 0.4922\n",
            "Epoch 24/2000\n",
            "3844/3844 [==============================] - 1s 204us/sample - loss: 0.0773 - acc: 0.4867 - val_loss: 0.0724 - val_acc: 0.4703\n",
            "Epoch 25/2000\n",
            "3844/3844 [==============================] - 1s 170us/sample - loss: 0.0874 - acc: 0.4852 - val_loss: 0.0699 - val_acc: 0.4880\n",
            "Epoch 26/2000\n",
            "3844/3844 [==============================] - 1s 179us/sample - loss: 0.0774 - acc: 0.4865 - val_loss: 0.0696 - val_acc: 0.5016\n",
            "Epoch 27/2000\n",
            "3844/3844 [==============================] - 1s 181us/sample - loss: 0.0889 - acc: 0.4873 - val_loss: 0.0668 - val_acc: 0.5026\n",
            "Epoch 28/2000\n",
            "3844/3844 [==============================] - 1s 242us/sample - loss: 0.0699 - acc: 0.5036 - val_loss: 0.0706 - val_acc: 0.5026\n",
            "Epoch 29/2000\n",
            "3844/3844 [==============================] - 1s 173us/sample - loss: 0.0805 - acc: 0.4893 - val_loss: 0.0757 - val_acc: 0.4703\n",
            "Epoch 30/2000\n",
            "3844/3844 [==============================] - 1s 219us/sample - loss: 0.0709 - acc: 0.4969 - val_loss: 0.0625 - val_acc: 0.5234\n",
            "Epoch 31/2000\n",
            "3844/3844 [==============================] - 1s 196us/sample - loss: 0.0762 - acc: 0.5112 - val_loss: 0.0596 - val_acc: 0.5088\n",
            "Epoch 32/2000\n",
            "3844/3844 [==============================] - 1s 176us/sample - loss: 0.0638 - acc: 0.5075 - val_loss: 0.0593 - val_acc: 0.5203\n",
            "Epoch 33/2000\n",
            "3844/3844 [==============================] - 0s 105us/sample - loss: 0.0752 - acc: 0.5114 - val_loss: 0.0620 - val_acc: 0.5203\n",
            "Epoch 34/2000\n",
            "3844/3844 [==============================] - 0s 106us/sample - loss: 0.0619 - acc: 0.5096 - val_loss: 0.0585 - val_acc: 0.5359\n",
            "Epoch 35/2000\n",
            "3844/3844 [==============================] - 0s 102us/sample - loss: 0.0675 - acc: 0.5125 - val_loss: 0.0561 - val_acc: 0.5401\n",
            "Epoch 36/2000\n",
            "3844/3844 [==============================] - 0s 102us/sample - loss: 0.0666 - acc: 0.5211 - val_loss: 0.0598 - val_acc: 0.5463\n",
            "Epoch 37/2000\n",
            "3844/3844 [==============================] - 0s 98us/sample - loss: 0.0775 - acc: 0.5203 - val_loss: 0.0597 - val_acc: 0.5557\n",
            "Epoch 38/2000\n",
            "3844/3844 [==============================] - 0s 105us/sample - loss: 0.0646 - acc: 0.5401 - val_loss: 0.0552 - val_acc: 0.5536\n",
            "Epoch 39/2000\n",
            "3844/3844 [==============================] - 0s 99us/sample - loss: 0.0788 - acc: 0.5434 - val_loss: 0.0555 - val_acc: 0.5588\n",
            "Epoch 40/2000\n",
            "3844/3844 [==============================] - 0s 110us/sample - loss: 0.0536 - acc: 0.5630 - val_loss: 0.0522 - val_acc: 0.5567\n",
            "Epoch 41/2000\n",
            "3844/3844 [==============================] - 0s 100us/sample - loss: 0.0551 - acc: 0.5512 - val_loss: 0.0530 - val_acc: 0.5723\n",
            "Epoch 42/2000\n",
            "3844/3844 [==============================] - 0s 104us/sample - loss: 0.0509 - acc: 0.5648 - val_loss: 0.0516 - val_acc: 0.5650\n",
            "Epoch 43/2000\n",
            "3844/3844 [==============================] - 0s 108us/sample - loss: 0.0564 - acc: 0.5606 - val_loss: 0.0515 - val_acc: 0.5806\n",
            "Epoch 44/2000\n",
            "3844/3844 [==============================] - 0s 98us/sample - loss: 0.0566 - acc: 0.5749 - val_loss: 0.0538 - val_acc: 0.5661\n",
            "Epoch 45/2000\n",
            "3844/3844 [==============================] - 0s 100us/sample - loss: 0.0699 - acc: 0.5793 - val_loss: 0.0570 - val_acc: 0.5494\n",
            "Epoch 46/2000\n",
            "3844/3844 [==============================] - 0s 109us/sample - loss: 0.0523 - acc: 0.5858 - val_loss: 0.0489 - val_acc: 0.5858\n",
            "Epoch 47/2000\n",
            "3844/3844 [==============================] - 0s 98us/sample - loss: 0.0555 - acc: 0.5864 - val_loss: 0.0569 - val_acc: 0.5817\n",
            "Epoch 48/2000\n",
            "3844/3844 [==============================] - 0s 98us/sample - loss: 0.0509 - acc: 0.5973 - val_loss: 0.0523 - val_acc: 0.5994\n",
            "Epoch 49/2000\n",
            "3844/3844 [==============================] - 0s 104us/sample - loss: 0.0589 - acc: 0.5994 - val_loss: 0.0559 - val_acc: 0.6025\n",
            "Epoch 50/2000\n",
            "3844/3844 [==============================] - 0s 101us/sample - loss: 0.0536 - acc: 0.5986 - val_loss: 0.0491 - val_acc: 0.6087\n",
            "Epoch 51/2000\n",
            "3844/3844 [==============================] - 1s 173us/sample - loss: 0.0587 - acc: 0.5986 - val_loss: 0.0528 - val_acc: 0.6337\n",
            "Epoch 52/2000\n",
            "3844/3844 [==============================] - 1s 188us/sample - loss: 0.0492 - acc: 0.6173 - val_loss: 0.0502 - val_acc: 0.6420\n",
            "Epoch 53/2000\n",
            "3844/3844 [==============================] - 1s 177us/sample - loss: 0.0547 - acc: 0.6048 - val_loss: 0.0513 - val_acc: 0.5931\n",
            "Epoch 54/2000\n",
            "3844/3844 [==============================] - 0s 102us/sample - loss: 0.0505 - acc: 0.6100 - val_loss: 0.0489 - val_acc: 0.6608\n",
            "Epoch 55/2000\n",
            "3844/3844 [==============================] - 0s 102us/sample - loss: 0.0538 - acc: 0.6199 - val_loss: 0.0658 - val_acc: 0.5879\n",
            "Epoch 56/2000\n",
            "3844/3844 [==============================] - 0s 104us/sample - loss: 0.0487 - acc: 0.6129 - val_loss: 0.0484 - val_acc: 0.6233\n",
            "Epoch 57/2000\n",
            "3844/3844 [==============================] - 0s 103us/sample - loss: 0.0504 - acc: 0.6306 - val_loss: 0.0537 - val_acc: 0.6004\n",
            "Epoch 58/2000\n",
            "3844/3844 [==============================] - 0s 97us/sample - loss: 0.0487 - acc: 0.6204 - val_loss: 0.0492 - val_acc: 0.6296\n",
            "Epoch 59/2000\n",
            "3844/3844 [==============================] - 0s 103us/sample - loss: 0.0630 - acc: 0.6202 - val_loss: 0.0503 - val_acc: 0.6358\n",
            "Epoch 60/2000\n",
            "3844/3844 [==============================] - 0s 106us/sample - loss: 0.0566 - acc: 0.6293 - val_loss: 0.0447 - val_acc: 0.6472\n",
            "Epoch 61/2000\n",
            "3844/3844 [==============================] - 0s 101us/sample - loss: 0.0609 - acc: 0.6210 - val_loss: 0.0486 - val_acc: 0.6597\n",
            "Epoch 62/2000\n",
            "3844/3844 [==============================] - 0s 108us/sample - loss: 0.0413 - acc: 0.6327 - val_loss: 0.0447 - val_acc: 0.6327\n",
            "Epoch 63/2000\n",
            "3844/3844 [==============================] - 0s 101us/sample - loss: 0.0453 - acc: 0.6335 - val_loss: 0.0478 - val_acc: 0.6452\n",
            "Epoch 64/2000\n",
            "3844/3844 [==============================] - 0s 116us/sample - loss: 0.0468 - acc: 0.6283 - val_loss: 0.0452 - val_acc: 0.6400\n",
            "Epoch 65/2000\n",
            "3844/3844 [==============================] - 0s 97us/sample - loss: 0.0452 - acc: 0.6324 - val_loss: 0.0486 - val_acc: 0.6379\n",
            "Epoch 66/2000\n",
            "3844/3844 [==============================] - 0s 106us/sample - loss: 0.0458 - acc: 0.6329 - val_loss: 0.0451 - val_acc: 0.6337\n",
            "Epoch 67/2000\n",
            "3844/3844 [==============================] - 0s 108us/sample - loss: 0.0533 - acc: 0.6358 - val_loss: 0.0498 - val_acc: 0.6202\n",
            "Epoch 68/2000\n",
            "3844/3844 [==============================] - 0s 100us/sample - loss: 0.0521 - acc: 0.6288 - val_loss: 0.0535 - val_acc: 0.6316\n",
            "Epoch 69/2000\n",
            "3844/3844 [==============================] - 0s 108us/sample - loss: 0.0638 - acc: 0.6389 - val_loss: 0.0448 - val_acc: 0.6233\n",
            "Epoch 70/2000\n",
            "3844/3844 [==============================] - 0s 104us/sample - loss: 0.0401 - acc: 0.6363 - val_loss: 0.0467 - val_acc: 0.6670\n",
            "Epoch 71/2000\n",
            "3844/3844 [==============================] - 0s 109us/sample - loss: 0.0432 - acc: 0.6452 - val_loss: 0.0424 - val_acc: 0.6410\n",
            "Epoch 72/2000\n",
            "3844/3844 [==============================] - 0s 103us/sample - loss: 0.0404 - acc: 0.6470 - val_loss: 0.0453 - val_acc: 0.6379\n",
            "Epoch 73/2000\n",
            "3844/3844 [==============================] - 0s 100us/sample - loss: 0.0438 - acc: 0.6402 - val_loss: 0.0470 - val_acc: 0.6358\n",
            "Epoch 74/2000\n",
            "3844/3844 [==============================] - 0s 105us/sample - loss: 0.0458 - acc: 0.6405 - val_loss: 0.0424 - val_acc: 0.6358\n",
            "Epoch 75/2000\n",
            "3844/3844 [==============================] - 0s 98us/sample - loss: 0.0571 - acc: 0.6457 - val_loss: 0.0468 - val_acc: 0.6348\n",
            "Epoch 76/2000\n",
            "3844/3844 [==============================] - 0s 105us/sample - loss: 0.0452 - acc: 0.6480 - val_loss: 0.0419 - val_acc: 0.6400\n",
            "Epoch 77/2000\n",
            "3844/3844 [==============================] - 0s 104us/sample - loss: 0.0467 - acc: 0.6423 - val_loss: 0.0449 - val_acc: 0.6264\n",
            "Epoch 78/2000\n",
            "3844/3844 [==============================] - 0s 101us/sample - loss: 0.0422 - acc: 0.6470 - val_loss: 0.0427 - val_acc: 0.6472\n",
            "Epoch 79/2000\n",
            "3844/3844 [==============================] - 0s 111us/sample - loss: 0.0451 - acc: 0.6558 - val_loss: 0.0417 - val_acc: 0.6504\n",
            "Epoch 80/2000\n",
            "3844/3844 [==============================] - 0s 102us/sample - loss: 0.0434 - acc: 0.6496 - val_loss: 0.0422 - val_acc: 0.6524\n",
            "Epoch 81/2000\n",
            "3844/3844 [==============================] - 0s 97us/sample - loss: 0.0518 - acc: 0.6506 - val_loss: 0.0548 - val_acc: 0.6389\n",
            "Epoch 82/2000\n",
            "3844/3844 [==============================] - 0s 103us/sample - loss: 0.0385 - acc: 0.6553 - val_loss: 0.0478 - val_acc: 0.6389\n",
            "Epoch 83/2000\n",
            "3844/3844 [==============================] - 0s 99us/sample - loss: 0.0407 - acc: 0.6561 - val_loss: 0.0425 - val_acc: 0.6587\n",
            "Epoch 84/2000\n",
            "3844/3844 [==============================] - 0s 112us/sample - loss: 0.0388 - acc: 0.6597 - val_loss: 0.0408 - val_acc: 0.6358\n",
            "Epoch 85/2000\n",
            "3844/3844 [==============================] - 0s 107us/sample - loss: 0.0425 - acc: 0.6545 - val_loss: 0.0397 - val_acc: 0.6712\n",
            "Epoch 86/2000\n",
            "3844/3844 [==============================] - 0s 100us/sample - loss: 0.0408 - acc: 0.6662 - val_loss: 0.0421 - val_acc: 0.6556\n",
            "Epoch 87/2000\n",
            "3844/3844 [==============================] - 0s 102us/sample - loss: 0.0515 - acc: 0.6587 - val_loss: 0.0399 - val_acc: 0.6691\n",
            "Epoch 88/2000\n",
            "3844/3844 [==============================] - 0s 111us/sample - loss: 0.0412 - acc: 0.6694 - val_loss: 0.0390 - val_acc: 0.6472\n",
            "Epoch 89/2000\n",
            "3844/3844 [==============================] - 0s 110us/sample - loss: 0.0470 - acc: 0.6675 - val_loss: 0.0368 - val_acc: 0.6358\n",
            "Epoch 90/2000\n",
            "3844/3844 [==============================] - 0s 110us/sample - loss: 0.0369 - acc: 0.6626 - val_loss: 0.0468 - val_acc: 0.6472\n",
            "Epoch 91/2000\n",
            "3844/3844 [==============================] - 0s 107us/sample - loss: 0.0396 - acc: 0.6626 - val_loss: 0.0365 - val_acc: 0.6660\n",
            "Epoch 92/2000\n",
            "3844/3844 [==============================] - 0s 101us/sample - loss: 0.0373 - acc: 0.6707 - val_loss: 0.0376 - val_acc: 0.6712\n",
            "Epoch 93/2000\n",
            "3844/3844 [==============================] - 0s 102us/sample - loss: 0.0380 - acc: 0.6681 - val_loss: 0.0438 - val_acc: 0.6306\n",
            "Epoch 94/2000\n",
            "3844/3844 [==============================] - 0s 110us/sample - loss: 0.0355 - acc: 0.6660 - val_loss: 0.0362 - val_acc: 0.6410\n",
            "Epoch 95/2000\n",
            "3844/3844 [==============================] - 0s 101us/sample - loss: 0.0388 - acc: 0.6707 - val_loss: 0.0377 - val_acc: 0.6566\n",
            "Epoch 96/2000\n",
            "3844/3844 [==============================] - 0s 102us/sample - loss: 0.0361 - acc: 0.6644 - val_loss: 0.0368 - val_acc: 0.6566\n",
            "Epoch 97/2000\n",
            "3844/3844 [==============================] - 0s 107us/sample - loss: 0.0396 - acc: 0.6509 - val_loss: 0.0395 - val_acc: 0.6774\n",
            "Epoch 98/2000\n",
            "3844/3844 [==============================] - 0s 101us/sample - loss: 0.0346 - acc: 0.6743 - val_loss: 0.0383 - val_acc: 0.6608\n",
            "Epoch 99/2000\n",
            "3844/3844 [==============================] - 0s 104us/sample - loss: 0.0372 - acc: 0.6665 - val_loss: 0.0372 - val_acc: 0.6826\n",
            "Epoch 100/2000\n",
            "3844/3844 [==============================] - 0s 107us/sample - loss: 0.0366 - acc: 0.6681 - val_loss: 0.0357 - val_acc: 0.6774\n",
            "Epoch 101/2000\n",
            "3844/3844 [==============================] - 0s 96us/sample - loss: 0.0456 - acc: 0.6688 - val_loss: 0.0375 - val_acc: 0.6420\n",
            "Epoch 102/2000\n",
            "3844/3844 [==============================] - 0s 103us/sample - loss: 0.0332 - acc: 0.6634 - val_loss: 0.0358 - val_acc: 0.6524\n",
            "Epoch 103/2000\n",
            "3844/3844 [==============================] - 0s 98us/sample - loss: 0.0380 - acc: 0.6629 - val_loss: 0.0438 - val_acc: 0.6493\n",
            "Epoch 104/2000\n",
            "3844/3844 [==============================] - 0s 97us/sample - loss: 0.0331 - acc: 0.6670 - val_loss: 0.0361 - val_acc: 0.6972\n",
            "Epoch 105/2000\n",
            "3844/3844 [==============================] - 0s 102us/sample - loss: 0.0362 - acc: 0.6623 - val_loss: 0.0374 - val_acc: 0.6514\n",
            "Epoch 106/2000\n",
            "3844/3844 [==============================] - 0s 106us/sample - loss: 0.0311 - acc: 0.6735 - val_loss: 0.0423 - val_acc: 0.6868\n",
            "Epoch 107/2000\n",
            "3844/3844 [==============================] - 0s 104us/sample - loss: 0.0381 - acc: 0.6694 - val_loss: 0.0366 - val_acc: 0.6348\n",
            "Epoch 108/2000\n",
            "3844/3844 [==============================] - 0s 106us/sample - loss: 0.0364 - acc: 0.6670 - val_loss: 0.0352 - val_acc: 0.6961\n",
            "Epoch 109/2000\n",
            "3844/3844 [==============================] - 0s 99us/sample - loss: 0.0420 - acc: 0.6738 - val_loss: 0.0421 - val_acc: 0.6202\n",
            "Epoch 110/2000\n",
            "3844/3844 [==============================] - 0s 108us/sample - loss: 0.0325 - acc: 0.6709 - val_loss: 0.0321 - val_acc: 0.6743\n",
            "Epoch 111/2000\n",
            "3844/3844 [==============================] - 0s 98us/sample - loss: 0.0317 - acc: 0.6772 - val_loss: 0.0429 - val_acc: 0.6545\n",
            "Epoch 112/2000\n",
            "3844/3844 [==============================] - 0s 103us/sample - loss: 0.0332 - acc: 0.6798 - val_loss: 0.0324 - val_acc: 0.6670\n",
            "Epoch 113/2000\n",
            "3844/3844 [==============================] - 0s 117us/sample - loss: 0.0404 - acc: 0.6753 - val_loss: 0.0443 - val_acc: 0.6348\n",
            "Epoch 114/2000\n",
            "3844/3844 [==============================] - 1s 185us/sample - loss: 0.0393 - acc: 0.6748 - val_loss: 0.0320 - val_acc: 0.6524\n",
            "Epoch 115/2000\n",
            "3844/3844 [==============================] - 1s 213us/sample - loss: 0.0370 - acc: 0.6727 - val_loss: 0.0354 - val_acc: 0.6764\n",
            "Epoch 116/2000\n",
            "3844/3844 [==============================] - 1s 144us/sample - loss: 0.0291 - acc: 0.6782 - val_loss: 0.0326 - val_acc: 0.6441\n",
            "Epoch 117/2000\n",
            "3844/3844 [==============================] - 1s 220us/sample - loss: 0.0329 - acc: 0.6769 - val_loss: 0.0345 - val_acc: 0.6608\n",
            "Epoch 118/2000\n",
            "3844/3844 [==============================] - 1s 185us/sample - loss: 0.0328 - acc: 0.6777 - val_loss: 0.0338 - val_acc: 0.6951\n",
            "Epoch 119/2000\n",
            "3844/3844 [==============================] - 1s 233us/sample - loss: 0.0361 - acc: 0.6850 - val_loss: 0.0333 - val_acc: 0.6930\n",
            "Epoch 120/2000\n",
            "3844/3844 [==============================] - 1s 225us/sample - loss: 0.0307 - acc: 0.6795 - val_loss: 0.0352 - val_acc: 0.6639\n",
            "Epoch 121/2000\n",
            "3844/3844 [==============================] - 1s 179us/sample - loss: 0.0359 - acc: 0.6808 - val_loss: 0.0332 - val_acc: 0.6660\n",
            "Epoch 122/2000\n",
            "3844/3844 [==============================] - 1s 227us/sample - loss: 0.0302 - acc: 0.6800 - val_loss: 0.0340 - val_acc: 0.6826\n",
            "Epoch 123/2000\n",
            "3844/3844 [==============================] - 1s 160us/sample - loss: 0.0342 - acc: 0.6839 - val_loss: 0.0355 - val_acc: 0.6712\n",
            "Epoch 124/2000\n",
            "3844/3844 [==============================] - 1s 192us/sample - loss: 0.0318 - acc: 0.6855 - val_loss: 0.0330 - val_acc: 0.6857\n",
            "Epoch 125/2000\n",
            "3844/3844 [==============================] - 1s 184us/sample - loss: 0.0331 - acc: 0.6787 - val_loss: 0.0346 - val_acc: 0.6681\n",
            "Epoch 126/2000\n",
            "3844/3844 [==============================] - 1s 167us/sample - loss: 0.0303 - acc: 0.6967 - val_loss: 0.0392 - val_acc: 0.6743\n",
            "Epoch 127/2000\n",
            "3844/3844 [==============================] - 1s 146us/sample - loss: 0.0386 - acc: 0.6850 - val_loss: 0.0321 - val_acc: 0.6483\n",
            "Epoch 128/2000\n",
            "3844/3844 [==============================] - 1s 157us/sample - loss: 0.0339 - acc: 0.6917 - val_loss: 0.0370 - val_acc: 0.7211\n",
            "Epoch 129/2000\n",
            "3844/3844 [==============================] - 1s 167us/sample - loss: 0.0349 - acc: 0.6909 - val_loss: 0.0313 - val_acc: 0.6764\n",
            "Epoch 130/2000\n",
            "3844/3844 [==============================] - 1s 171us/sample - loss: 0.0272 - acc: 0.6964 - val_loss: 0.0369 - val_acc: 0.6545\n",
            "Epoch 131/2000\n",
            "3844/3844 [==============================] - 1s 167us/sample - loss: 0.0302 - acc: 0.6860 - val_loss: 0.0300 - val_acc: 0.6795\n",
            "Epoch 132/2000\n",
            "3844/3844 [==============================] - 1s 205us/sample - loss: 0.0292 - acc: 0.6839 - val_loss: 0.0359 - val_acc: 0.7253\n",
            "Epoch 133/2000\n",
            "3844/3844 [==============================] - 1s 277us/sample - loss: 0.0319 - acc: 0.6917 - val_loss: 0.0342 - val_acc: 0.6961\n",
            "Epoch 134/2000\n",
            "3844/3844 [==============================] - 1s 208us/sample - loss: 0.0341 - acc: 0.6935 - val_loss: 0.0316 - val_acc: 0.7066\n",
            "Epoch 135/2000\n",
            "3844/3844 [==============================] - 1s 197us/sample - loss: 0.0373 - acc: 0.7021 - val_loss: 0.0467 - val_acc: 0.6462\n",
            "Epoch 136/2000\n",
            "3844/3844 [==============================] - 1s 280us/sample - loss: 0.0360 - acc: 0.6842 - val_loss: 0.0286 - val_acc: 0.6920\n",
            "Epoch 137/2000\n",
            "3844/3844 [==============================] - 1s 181us/sample - loss: 0.0380 - acc: 0.6878 - val_loss: 0.0348 - val_acc: 0.6753\n",
            "Epoch 138/2000\n",
            "3844/3844 [==============================] - 1s 177us/sample - loss: 0.0296 - acc: 0.6946 - val_loss: 0.0329 - val_acc: 0.7170\n",
            "Epoch 139/2000\n",
            "3844/3844 [==============================] - 1s 246us/sample - loss: 0.0330 - acc: 0.6961 - val_loss: 0.0326 - val_acc: 0.6774\n",
            "Epoch 140/2000\n",
            "3844/3844 [==============================] - 1s 281us/sample - loss: 0.0251 - acc: 0.6998 - val_loss: 0.0297 - val_acc: 0.7097\n",
            "Epoch 141/2000\n",
            "3844/3844 [==============================] - 1s 231us/sample - loss: 0.0266 - acc: 0.7003 - val_loss: 0.0330 - val_acc: 0.7003\n",
            "Epoch 142/2000\n",
            "3844/3844 [==============================] - 1s 221us/sample - loss: 0.0262 - acc: 0.7040 - val_loss: 0.0292 - val_acc: 0.7170\n",
            "Epoch 143/2000\n",
            "3844/3844 [==============================] - 1s 196us/sample - loss: 0.0285 - acc: 0.7037 - val_loss: 0.0349 - val_acc: 0.7076\n",
            "Epoch 144/2000\n",
            "3844/3844 [==============================] - 1s 145us/sample - loss: 0.0306 - acc: 0.7011 - val_loss: 0.0298 - val_acc: 0.6909\n",
            "Epoch 145/2000\n",
            "3844/3844 [==============================] - 1s 171us/sample - loss: 0.0373 - acc: 0.7086 - val_loss: 0.0313 - val_acc: 0.6941\n",
            "Epoch 146/2000\n",
            "3844/3844 [==============================] - 1s 188us/sample - loss: 0.0265 - acc: 0.6982 - val_loss: 0.0375 - val_acc: 0.6816\n",
            "Epoch 147/2000\n",
            "3844/3844 [==============================] - 1s 220us/sample - loss: 0.0615 - acc: 0.6975 - val_loss: 0.0338 - val_acc: 0.7326\n",
            "Epoch 148/2000\n",
            "3844/3844 [==============================] - 1s 180us/sample - loss: 0.0322 - acc: 0.6975 - val_loss: 0.0338 - val_acc: 0.7315\n",
            "Epoch 149/2000\n",
            "3844/3844 [==============================] - 1s 219us/sample - loss: 0.0256 - acc: 0.7055 - val_loss: 0.0304 - val_acc: 0.6816\n",
            "Epoch 150/2000\n",
            "3844/3844 [==============================] - 1s 175us/sample - loss: 0.0243 - acc: 0.7024 - val_loss: 0.0320 - val_acc: 0.6847\n",
            "Epoch 151/2000\n",
            "3844/3844 [==============================] - 1s 173us/sample - loss: 0.0245 - acc: 0.7003 - val_loss: 0.0288 - val_acc: 0.7284\n",
            "Epoch 152/2000\n",
            "3844/3844 [==============================] - 1s 161us/sample - loss: 0.0238 - acc: 0.7060 - val_loss: 0.0407 - val_acc: 0.6733\n",
            "Epoch 153/2000\n",
            "3844/3844 [==============================] - 1s 143us/sample - loss: 0.0246 - acc: 0.7014 - val_loss: 0.0402 - val_acc: 0.7315\n",
            "Epoch 154/2000\n",
            "3844/3844 [==============================] - 1s 200us/sample - loss: 0.0264 - acc: 0.7068 - val_loss: 0.0362 - val_acc: 0.6764\n",
            "Epoch 155/2000\n",
            "3844/3844 [==============================] - 1s 211us/sample - loss: 0.0281 - acc: 0.6972 - val_loss: 0.0283 - val_acc: 0.6993\n",
            "Epoch 156/2000\n",
            "3844/3844 [==============================] - 1s 197us/sample - loss: 0.0265 - acc: 0.7076 - val_loss: 0.0309 - val_acc: 0.7003\n",
            "Epoch 157/2000\n",
            "3844/3844 [==============================] - 1s 185us/sample - loss: 0.0291 - acc: 0.7092 - val_loss: 0.0331 - val_acc: 0.6868\n",
            "Epoch 158/2000\n",
            "3844/3844 [==============================] - 1s 179us/sample - loss: 0.0303 - acc: 0.7016 - val_loss: 0.0281 - val_acc: 0.6961\n",
            "Epoch 159/2000\n",
            "3844/3844 [==============================] - 1s 193us/sample - loss: 0.0399 - acc: 0.6995 - val_loss: 0.0326 - val_acc: 0.7003\n",
            "Epoch 160/2000\n",
            "3844/3844 [==============================] - 1s 239us/sample - loss: 0.0291 - acc: 0.6975 - val_loss: 0.0276 - val_acc: 0.7097\n",
            "Epoch 161/2000\n",
            "3844/3844 [==============================] - 1s 277us/sample - loss: 0.0344 - acc: 0.6969 - val_loss: 0.0315 - val_acc: 0.6982\n",
            "Epoch 162/2000\n",
            "3844/3844 [==============================] - 1s 220us/sample - loss: 0.0264 - acc: 0.7047 - val_loss: 0.0341 - val_acc: 0.7232\n",
            "Epoch 163/2000\n",
            "3844/3844 [==============================] - 1s 192us/sample - loss: 0.0317 - acc: 0.7112 - val_loss: 0.0318 - val_acc: 0.7045\n",
            "Epoch 164/2000\n",
            "3844/3844 [==============================] - 1s 178us/sample - loss: 0.0271 - acc: 0.7105 - val_loss: 0.0257 - val_acc: 0.6899\n",
            "Epoch 165/2000\n",
            "3844/3844 [==============================] - 1s 182us/sample - loss: 0.0291 - acc: 0.7125 - val_loss: 0.0376 - val_acc: 0.6691\n",
            "Epoch 166/2000\n",
            "3844/3844 [==============================] - 1s 205us/sample - loss: 0.0271 - acc: 0.7058 - val_loss: 0.0274 - val_acc: 0.7014\n",
            "Epoch 167/2000\n",
            "3844/3844 [==============================] - 1s 254us/sample - loss: 0.0308 - acc: 0.7188 - val_loss: 0.0306 - val_acc: 0.7211\n",
            "Epoch 168/2000\n",
            "3844/3844 [==============================] - 1s 196us/sample - loss: 0.0255 - acc: 0.7188 - val_loss: 0.0324 - val_acc: 0.7118\n",
            "Epoch 169/2000\n",
            "3844/3844 [==============================] - 1s 186us/sample - loss: 0.0310 - acc: 0.7112 - val_loss: 0.0291 - val_acc: 0.7263\n",
            "Epoch 170/2000\n",
            "3844/3844 [==============================] - 1s 191us/sample - loss: 0.0266 - acc: 0.7053 - val_loss: 0.0285 - val_acc: 0.7045\n",
            "Epoch 171/2000\n",
            "3844/3844 [==============================] - 1s 185us/sample - loss: 0.0295 - acc: 0.7110 - val_loss: 0.0295 - val_acc: 0.7045\n",
            "Epoch 172/2000\n",
            "3844/3844 [==============================] - 1s 163us/sample - loss: 0.0264 - acc: 0.7006 - val_loss: 0.0326 - val_acc: 0.7170\n",
            "Epoch 173/2000\n",
            "3844/3844 [==============================] - 1s 197us/sample - loss: 0.0313 - acc: 0.7123 - val_loss: 0.0320 - val_acc: 0.6982\n",
            "Epoch 174/2000\n",
            "3844/3844 [==============================] - 1s 231us/sample - loss: 0.0274 - acc: 0.7037 - val_loss: 0.0294 - val_acc: 0.7159\n",
            "Epoch 175/2000\n",
            "3844/3844 [==============================] - 1s 178us/sample - loss: 0.0303 - acc: 0.7190 - val_loss: 0.0340 - val_acc: 0.6941\n",
            "Epoch 176/2000\n",
            "3844/3844 [==============================] - 1s 164us/sample - loss: 0.0252 - acc: 0.7094 - val_loss: 0.0284 - val_acc: 0.7024\n",
            "Epoch 177/2000\n",
            "3844/3844 [==============================] - 1s 179us/sample - loss: 0.0264 - acc: 0.7183 - val_loss: 0.0347 - val_acc: 0.6712\n",
            "Epoch 178/2000\n",
            "3844/3844 [==============================] - 1s 199us/sample - loss: 0.0268 - acc: 0.7216 - val_loss: 0.0269 - val_acc: 0.7336\n",
            "Epoch 179/2000\n",
            "3844/3844 [==============================] - 1s 171us/sample - loss: 0.0317 - acc: 0.7209 - val_loss: 0.0307 - val_acc: 0.7149\n",
            "Epoch 180/2000\n",
            "3844/3844 [==============================] - 1s 163us/sample - loss: 0.0255 - acc: 0.7086 - val_loss: 0.0277 - val_acc: 0.6868\n",
            "Epoch 181/2000\n",
            "3844/3844 [==============================] - 1s 259us/sample - loss: 0.0277 - acc: 0.7110 - val_loss: 0.0329 - val_acc: 0.6566\n",
            "Epoch 182/2000\n",
            "3844/3844 [==============================] - 1s 241us/sample - loss: 0.0252 - acc: 0.7159 - val_loss: 0.0352 - val_acc: 0.7034\n",
            "Epoch 183/2000\n",
            "3844/3844 [==============================] - 0s 109us/sample - loss: 0.0298 - acc: 0.7175 - val_loss: 0.0292 - val_acc: 0.7003\n",
            "Epoch 184/2000\n",
            "3844/3844 [==============================] - 0s 104us/sample - loss: 0.0301 - acc: 0.7232 - val_loss: 0.0271 - val_acc: 0.7284\n"
          ]
        }
      ],
      "source": [
        "#MANUAL AUTOENCODER BUILD AND TRAIN\n",
        "autoencoder=gen_autoencoder(X_train,[32,16,32])\n",
        "es = EarlyStopping(monitor='val_loss', mode='min',patience=20)\n",
        "mc = ModelCheckpoint('best_model.h5', monitor='val_loss', mode='min', save_best_only=True)\n",
        "history = autoencoder.fit(X_train, X_train,epochs=2000,\n",
        "                    batch_size=16,\n",
        "                    shuffle=True,\n",
        "                    validation_split=0.2,\n",
        "                    verbose=1,\n",
        "                    callbacks=[es, mc]).history\n",
        "autoencoder = load_model('best_model.h5')"
      ]
    },
    {
      "cell_type": "code",
      "execution_count": null,
      "metadata": {
        "colab": {
          "base_uri": "https://localhost:8080/"
        },
        "id": "UsEJbu5UyWIG",
        "outputId": "94d59a80-7719-42ad-b67b-c7b3d36edb16"
      },
      "outputs": [
        {
          "output_type": "stream",
          "name": "stderr",
          "text": [
            "/usr/local/lib/python3.7/dist-packages/keras/engine/training_v1.py:2079: UserWarning: `Model.state_updates` will be removed in a future version. This property should not be used in TensorFlow 2.0, as `updates` are applied automatically.\n",
            "  updates=self.state_updates,\n"
          ]
        },
        {
          "output_type": "stream",
          "name": "stdout",
          "text": [
            "[0.01288696 0.00767411 0.00964633 ... 0.03986706 0.00732208 0.01282809]\n",
            "0.01995959635398266\n"
          ]
        }
      ],
      "source": [
        "train_predicted = autoencoder.predict(X_train)\n",
        "mse = np.mean(np.power(X_train - train_predicted, 2), axis=1)\n",
        "\n",
        "print(mse)\n",
        "print(np.quantile(mse,0.75))"
      ]
    },
    {
      "cell_type": "code",
      "execution_count": null,
      "metadata": {
        "colab": {
          "base_uri": "https://localhost:8080/",
          "height": 404
        },
        "id": "Z2zGAfyEyWIG",
        "outputId": "c6aac8c4-99b7-4d79-c13e-5ac6a38f5c1a"
      },
      "outputs": [
        {
          "output_type": "display_data",
          "data": {
            "text/plain": [
              "<Figure size 648x432 with 1 Axes>"
            ],
            "image/png": "[encoded data removed]"
          },
          "metadata": {
            "needs_background": "light"
          }
        }
      ],
      "source": [
        "plt.figure(figsize=(9,6))\n",
        "plt.plot(history['loss'])\n",
        "plt.plot(history['val_loss'])\n",
        "plt.title('model loss')\n",
        "plt.ylabel('loss')\n",
        "plt.xlabel('epoch')\n",
        "plt.legend(['train', 'val'], loc='upper right')\n",
        "plt.show()"
      ]
    },
    {
      "cell_type": "code",
      "execution_count": null,
      "metadata": {
        "colab": {
          "base_uri": "https://localhost:8080/"
        },
        "id": "ouFTAhAEyWIG",
        "outputId": "72cd10ff-6e6d-485c-c9d2-05fd8ec63ebe"
      },
      "outputs": [
        {
          "output_type": "stream",
          "name": "stdout",
          "text": [
            "[0.03947049558438026, -0.012558569030013345]\n"
          ]
        }
      ],
      "source": [
        "#GET ANOMALY THRESHOLD\n",
        "#autoencoder = load_model('best_model.h5')\n",
        "#thresh = get_threshold_mse_percentage(autoencoder,X_train,0.1)\n",
        "thresh = get_threshold_mse_iqr(autoencoder,X_train)\n",
        "print(thresh)"
      ]
    },
    {
      "cell_type": "code",
      "execution_count": null,
      "metadata": {
        "colab": {
          "base_uri": "https://localhost:8080/"
        },
        "id": "d5K5x0wbyWIG",
        "outputId": "f39320c0-2880-4e0e-d478-2bdbf082333c"
      },
      "outputs": [
        {
          "output_type": "stream",
          "name": "stdout",
          "text": [
            "[array([ True,  True,  True,  True,  True,  True,  True,  True,  True,\n",
            "        True,  True,  True,  True,  True,  True,  True,  True,  True,\n",
            "        True,  True,  True,  True,  True,  True,  True,  True,  True,\n",
            "        True,  True,  True,  True,  True,  True,  True,  True,  True,\n",
            "        True,  True,  True,  True,  True,  True,  True,  True,  True,\n",
            "        True,  True,  True,  True, False,  True,  True,  True,  True,\n",
            "        True,  True,  True,  True,  True, False,  True,  True,  True,\n",
            "        True,  True, False,  True,  True,  True,  True,  True,  True,\n",
            "        True,  True,  True,  True,  True,  True,  True,  True,  True,\n",
            "       False, False,  True,  True,  True,  True,  True,  True,  True,\n",
            "        True,  True,  True,  True,  True,  True,  True,  True,  True,\n",
            "        True, False,  True,  True,  True,  True,  True,  True,  True,\n",
            "        True,  True,  True,  True,  True,  True, False,  True,  True,\n",
            "        True,  True,  True,  True,  True,  True,  True,  True,  True,\n",
            "        True,  True,  True,  True,  True,  True,  True, False,  True,\n",
            "        True,  True, False,  True, False,  True, False,  True,  True,\n",
            "        True,  True,  True,  True,  True,  True,  True,  True,  True,\n",
            "        True,  True,  True,  True,  True,  True,  True,  True,  True,\n",
            "        True,  True, False,  True,  True,  True,  True,  True,  True,\n",
            "        True,  True,  True,  True,  True, False,  True, False,  True,\n",
            "        True,  True,  True,  True, False,  True,  True,  True,  True,\n",
            "        True,  True,  True,  True,  True,  True,  True,  True,  True,\n",
            "        True,  True, False,  True,  True,  True,  True,  True,  True,\n",
            "        True,  True,  True,  True,  True, False,  True,  True,  True,\n",
            "        True,  True,  True,  True,  True,  True,  True,  True,  True,\n",
            "        True,  True, False,  True, False,  True,  True,  True,  True,\n",
            "        True,  True,  True,  True,  True,  True,  True,  True, False,\n",
            "        True,  True,  True,  True,  True,  True,  True,  True,  True,\n",
            "        True,  True,  True,  True,  True,  True,  True,  True,  True,\n",
            "        True,  True, False,  True,  True,  True])]\n",
            "\t [False  True]      [ 21 246]\n"
          ]
        }
      ],
      "source": [
        "# Predict Anomalies contained in the normal behaviour\n",
        "mad_outliers = detect_outliers(autoencoder, X_test, thresh)\n",
        "print(mad_outliers)\n",
        "unique_elements, counts_elements = np.unique(mad_outliers, return_counts=True)\n",
        "print(\"\\t\",unique_elements,\"    \",counts_elements)"
      ]
    },
    {
      "cell_type": "code",
      "execution_count": null,
      "metadata": {
        "id": "7irAtRWDyWIH"
      },
      "outputs": [],
      "source": [
        ""
      ]
    },
    {
      "cell_type": "code",
      "execution_count": null,
      "metadata": {
        "id": "JL8akZJEyWIH"
      },
      "outputs": [],
      "source": [
        ""
      ]
    },
    {
      "cell_type": "code",
      "execution_count": null,
      "metadata": {
        "id": "AWmJnzJcyWII"
      },
      "outputs": [],
      "source": [
        ""
      ]
    },
    {
      "cell_type": "code",
      "execution_count": null,
      "metadata": {
        "id": "56PPQagjyWII"
      },
      "outputs": [],
      "source": [
        "##### Attack 1: SENDING FAKE PSD VALUES ####"
      ]
    },
    {
      "cell_type": "code",
      "execution_count": null,
      "metadata": {
        "id": "x0kvWENcyWII"
      },
      "outputs": [],
      "source": [
        "df_fakepsd=pd.read_csv(\"./Datasets/rp3_fakePSD.csv\")"
      ]
    },
    {
      "cell_type": "code",
      "execution_count": null,
      "metadata": {
        "id": "NCPgLhvryWIJ"
      },
      "outputs": [],
      "source": [
        ""
      ]
    },
    {
      "cell_type": "code",
      "execution_count": null,
      "metadata": {
        "id": "I25dkpCDyWIJ"
      },
      "outputs": [],
      "source": [
        "df_fakepsd_1 = df_fakepsd.loc[(df_fakepsd['timestamp'] >= 1615452439000) & (df_fakepsd['timestamp'] <= 1615478400000)]\n",
        "df_fakepsd_2 = df_fakepsd.loc[(df_fakepsd['timestamp'] >= 1615479600000) & (df_fakepsd['timestamp'] <= 1615485600000)]\n",
        "\n",
        "df_fakepsd = pd.concat([df_fakepsd_1, df_fakepsd_2])\n",
        "df_fakepsd.drop(['time','timestamp'],axis=1,inplace=True)"
      ]
    },
    {
      "cell_type": "code",
      "execution_count": null,
      "metadata": {
        "id": "C4sOVYgJyWIJ"
      },
      "outputs": [],
      "source": [
        "df_fakepsd = df_fakepsd.loc[(df_fakepsd['connectivity']==1)]"
      ]
    },
    {
      "cell_type": "code",
      "execution_count": null,
      "metadata": {
        "id": "VHXWUExdyWIJ"
      },
      "outputs": [],
      "source": [
        "df_fakepsd = df_fakepsd[df_fakepsd.columns.intersection(feat_list)]"
      ]
    },
    {
      "cell_type": "code",
      "execution_count": null,
      "metadata": {
        "colab": {
          "base_uri": "https://localhost:8080/"
        },
        "id": "Iu14AfmcyWIJ",
        "outputId": "8cb2a332-fb8d-4a9a-c4bb-50e982244b1c"
      },
      "outputs": [
        {
          "output_type": "stream",
          "name": "stdout",
          "text": [
            "72\n"
          ]
        }
      ],
      "source": [
        "print(len(df_fakepsd.columns))"
      ]
    },
    {
      "cell_type": "code",
      "execution_count": null,
      "metadata": {
        "id": "ay7Wo5HxyWIK"
      },
      "outputs": [],
      "source": [
        "df_fakepsd = scaler.transform(df_fakepsd)"
      ]
    },
    {
      "cell_type": "code",
      "execution_count": null,
      "metadata": {
        "id": "jGCxBnRJyWIK"
      },
      "outputs": [],
      "source": [
        ""
      ]
    },
    {
      "cell_type": "code",
      "execution_count": null,
      "metadata": {
        "id": "W-RxHJ1jyWIL"
      },
      "outputs": [],
      "source": [
        "#pred=clf.predict(df_fakepsd)\n",
        "#unique_elements, counts_elements = np.unique(pred, return_counts=True)\n",
        "#print(\"\\t\",unique_elements,\"    \",counts_elements)"
      ]
    },
    {
      "cell_type": "code",
      "execution_count": null,
      "metadata": {
        "colab": {
          "base_uri": "https://localhost:8080/"
        },
        "id": "XwhmFk2VyWIL",
        "outputId": "061cf5b3-68d7-469e-9545-ae3566496b9e"
      },
      "outputs": [
        {
          "output_type": "stream",
          "name": "stdout",
          "text": [
            "\t [False]      [2679]\n"
          ]
        }
      ],
      "source": [
        "mad_outliers = detect_outliers(autoencoder, df_fakepsd, thresh)\n",
        "unique_elements, counts_elements = np.unique(mad_outliers, return_counts=True)\n",
        "print(\"\\t\",unique_elements,\"    \",counts_elements)"
      ]
    },
    {
      "cell_type": "code",
      "execution_count": null,
      "metadata": {
        "id": "TS-8IRJNyWIM"
      },
      "outputs": [],
      "source": [
        ""
      ]
    },
    {
      "cell_type": "code",
      "execution_count": null,
      "metadata": {
        "id": "-nJStwfeyWIM"
      },
      "outputs": [],
      "source": [
        ""
      ]
    },
    {
      "cell_type": "code",
      "execution_count": null,
      "metadata": {
        "id": "-dPMQMwkyWIM"
      },
      "outputs": [],
      "source": [
        "##### Attack 2: SENDING OUT PSD VALUES #### "
      ]
    },
    {
      "cell_type": "code",
      "execution_count": null,
      "metadata": {
        "id": "UQVAN1fByWIM"
      },
      "outputs": [],
      "source": [
        "df_sendout=pd.read_csv(\"./Datasets/rp3_sendOut.csv\")"
      ]
    },
    {
      "cell_type": "code",
      "execution_count": null,
      "metadata": {
        "id": "Vd177jM6yWIM"
      },
      "outputs": [],
      "source": [
        "df_sendout_1 = df_sendout.loc[(df_sendout['timestamp'] >= 1615795500000) & (df_sendout['timestamp'] <= 1615805280000)]\n",
        "df_sendout_2 = df_sendout.loc[(df_sendout['timestamp'] >= 1615806000000) & (df_sendout['timestamp'] <= 1615809600000)]\n",
        "\n",
        "df_sendout = pd.concat([df_sendout_1, df_sendout_2])\n",
        "df_sendout.drop(['time','timestamp'],axis=1,inplace=True)"
      ]
    },
    {
      "cell_type": "code",
      "execution_count": null,
      "metadata": {
        "id": "09c0wLj0yWIM"
      },
      "outputs": [],
      "source": [
        "df_sendout = df_sendout.loc[(df_sendout['connectivity']==1)]"
      ]
    },
    {
      "cell_type": "code",
      "execution_count": null,
      "metadata": {
        "id": "Ymf7L7UkyWIM"
      },
      "outputs": [],
      "source": [
        "df_sendout = df_sendout[df_sendout.columns.intersection(feat_list)]"
      ]
    },
    {
      "cell_type": "code",
      "execution_count": null,
      "metadata": {
        "id": "XGPpG-OKyWIM"
      },
      "outputs": [],
      "source": [
        "df_sendout = scaler.transform(df_sendout)"
      ]
    },
    {
      "cell_type": "code",
      "execution_count": null,
      "metadata": {
        "id": "o0calUCeyWIN"
      },
      "outputs": [],
      "source": [
        "#pred=clf.predict(df_fakepsd)\n",
        "#unique_elements, counts_elements = np.unique(pred, return_counts=True)\n",
        "#print(\"\\t\",unique_elements,\"    \",counts_elements)"
      ]
    },
    {
      "cell_type": "code",
      "execution_count": null,
      "metadata": {
        "colab": {
          "base_uri": "https://localhost:8080/"
        },
        "id": "zIhNxLYTyWIN",
        "outputId": "aada10f1-134d-40f5-d782-09ee4a917396"
      },
      "outputs": [
        {
          "output_type": "stream",
          "name": "stdout",
          "text": [
            "\t [False]      [1122]\n"
          ]
        }
      ],
      "source": [
        "mad_outliers = detect_outliers(autoencoder, df_sendout, thresh)\n",
        "unique_elements, counts_elements = np.unique(mad_outliers, return_counts=True)\n",
        "print(\"\\t\",unique_elements,\"    \",counts_elements)"
      ]
    },
    {
      "cell_type": "code",
      "execution_count": null,
      "metadata": {
        "id": "JeMyh1nCyWIN"
      },
      "outputs": [],
      "source": [
        ""
      ]
    },
    {
      "cell_type": "code",
      "execution_count": null,
      "metadata": {
        "id": "R6-JR1c1yWIN"
      },
      "outputs": [],
      "source": [
        ""
      ]
    },
    {
      "cell_type": "code",
      "execution_count": null,
      "metadata": {
        "id": "CQOsTJgiyWIN"
      },
      "outputs": [],
      "source": [
        ""
      ]
    },
    {
      "cell_type": "code",
      "execution_count": null,
      "metadata": {
        "id": "CPo0DYPqyWIN"
      },
      "outputs": [],
      "source": [
        ""
      ]
    },
    {
      "cell_type": "code",
      "execution_count": null,
      "metadata": {
        "id": "MXdeqX0UyWIN"
      },
      "outputs": [],
      "source": [
        "##### Attack 3: WRITE #### PRIVACY LEAKAGE"
      ]
    },
    {
      "cell_type": "code",
      "execution_count": null,
      "metadata": {
        "id": "CkIUnbNqyWIN"
      },
      "outputs": [],
      "source": [
        "df_write=pd.read_csv(\"./Datasets/rp3_write.csv\")"
      ]
    },
    {
      "cell_type": "code",
      "execution_count": null,
      "metadata": {
        "id": "OIexJ8o-yWIN"
      },
      "outputs": [],
      "source": [
        "df_write = df_write.loc[(df_write['timestamp'] >= 1615834554000) & (df_write['timestamp'] <= 1615843200000)]\n",
        "\n",
        "df_write.drop(['time','timestamp'],axis=1,inplace=True)"
      ]
    },
    {
      "cell_type": "code",
      "execution_count": null,
      "metadata": {
        "id": "qFfpYaLoyWIN"
      },
      "outputs": [],
      "source": [
        "df_write = df_write.loc[(df_write['connectivity']==1)]"
      ]
    },
    {
      "cell_type": "code",
      "execution_count": null,
      "metadata": {
        "id": "8rvJJ8qyyWIO"
      },
      "outputs": [],
      "source": [
        "df_write = df_write[df_write.columns.intersection(feat_list)]"
      ]
    },
    {
      "cell_type": "code",
      "execution_count": null,
      "metadata": {
        "id": "xwRMZzg6yWIO"
      },
      "outputs": [],
      "source": [
        "df_write = scaler.transform(df_write)"
      ]
    },
    {
      "cell_type": "code",
      "execution_count": null,
      "metadata": {
        "id": "38x-6RRqyWIO"
      },
      "outputs": [],
      "source": [
        "#pred=clf.predict(df_fakepsd)\n",
        "#unique_elements, counts_elements = np.unique(pred, return_counts=True)\n",
        "#print(\"\\t\",unique_elements,\"    \",counts_elements)"
      ]
    },
    {
      "cell_type": "code",
      "execution_count": null,
      "metadata": {
        "colab": {
          "base_uri": "https://localhost:8080/"
        },
        "id": "55cl2o1fyWIO",
        "outputId": "e1e689d1-ac93-41e2-8dad-fedd33b0ab22"
      },
      "outputs": [
        {
          "output_type": "stream",
          "name": "stdout",
          "text": [
            "\t [False]      [708]\n"
          ]
        }
      ],
      "source": [
        "mad_outliers = detect_outliers(autoencoder, df_write, thresh)\n",
        "unique_elements, counts_elements = np.unique(mad_outliers, return_counts=True)\n",
        "print(\"\\t\",unique_elements,\"    \",counts_elements)"
      ]
    },
    {
      "cell_type": "code",
      "execution_count": null,
      "metadata": {
        "id": "PQaiZJP3yWIO"
      },
      "outputs": [],
      "source": [
        ""
      ]
    },
    {
      "cell_type": "code",
      "execution_count": null,
      "metadata": {
        "id": "teatuZqyyWIO"
      },
      "outputs": [],
      "source": [
        ""
      ]
    },
    {
      "cell_type": "code",
      "execution_count": null,
      "metadata": {
        "id": "SHulyUULyWIO"
      },
      "outputs": [],
      "source": [
        ""
      ]
    },
    {
      "cell_type": "code",
      "execution_count": null,
      "metadata": {
        "id": "7uzW4CqHyWIO"
      },
      "outputs": [],
      "source": [
        ""
      ]
    },
    {
      "cell_type": "code",
      "execution_count": null,
      "metadata": {
        "id": "c3TrrjxDyWIO"
      },
      "outputs": [],
      "source": [
        "##### Attack 4: ADDING RANDOM NOISE TO PSD VALUES ####"
      ]
    },
    {
      "cell_type": "code",
      "execution_count": null,
      "metadata": {
        "id": "c3_GJT7DyWIO"
      },
      "outputs": [],
      "source": [
        "# Data load\n",
        "df_random=pd.read_csv(\"./Datasets/rp3_random.csv\")"
      ]
    },
    {
      "cell_type": "code",
      "execution_count": null,
      "metadata": {
        "scrolled": true,
        "id": "x0tmVfEUyWIO"
      },
      "outputs": [],
      "source": [
        "# Remove columns with constant values\n",
        "df_random = df_random.loc[(df_random['connectivity']==1)]"
      ]
    },
    {
      "cell_type": "code",
      "execution_count": null,
      "metadata": {
        "colab": {
          "base_uri": "https://localhost:8080/"
        },
        "id": "VuMasYkCyWIP",
        "outputId": "89b15ec7-0142-4d72-8cd6-e1cc42aef24d"
      },
      "outputs": [
        {
          "output_type": "stream",
          "name": "stderr",
          "text": [
            "/usr/local/lib/python3.7/dist-packages/pandas/core/frame.py:4913: SettingWithCopyWarning: \n",
            "A value is trying to be set on a copy of a slice from a DataFrame\n",
            "\n",
            "See the caveats in the documentation: https://pandas.pydata.org/pandas-docs/stable/user_guide/indexing.html#returning-a-view-versus-a-copy\n",
            "  errors=errors,\n"
          ]
        }
      ],
      "source": [
        "# Filter vectors according to the timestamps\n",
        "df_random_new = df_random.loc[(df_random['timestamp'] >= 1615913848000) & (df_random['timestamp'] <= 1615922405000)]\n",
        "\n",
        "df_random_new.drop(['time','timestamp'],axis=1,inplace=True)"
      ]
    },
    {
      "cell_type": "code",
      "execution_count": null,
      "metadata": {
        "id": "SWw91JNlyWIP"
      },
      "outputs": [],
      "source": [
        "X_outliers6=df_random_new[df_random_new.columns.intersection(feat_list)]"
      ]
    },
    {
      "cell_type": "code",
      "execution_count": null,
      "metadata": {
        "id": "yBvZOo8CyWIP"
      },
      "outputs": [],
      "source": [
        "# Transform outliers set\n",
        "X_outliers6 = scaler.transform(X_outliers6)"
      ]
    },
    {
      "cell_type": "code",
      "execution_count": null,
      "metadata": {
        "colab": {
          "base_uri": "https://localhost:8080/"
        },
        "id": "Cgn1uXRYyWIP",
        "outputId": "5d8d3147-e591-430a-8e28-79c80963085f"
      },
      "outputs": [
        {
          "output_type": "stream",
          "name": "stdout",
          "text": [
            "\t [False]      [717]\n"
          ]
        }
      ],
      "source": [
        "#Outliers with manual autoencoder\n",
        "mad_outliers = detect_outliers(autoencoder, X_outliers6, thresh)\n",
        "unique_elements, counts_elements = np.unique(mad_outliers, return_counts=True)\n",
        "print(\"\\t\",unique_elements,\"    \",counts_elements)"
      ]
    },
    {
      "cell_type": "code",
      "execution_count": null,
      "metadata": {
        "id": "1Wcq-2FlyWIP"
      },
      "outputs": [],
      "source": [
        ""
      ]
    },
    {
      "cell_type": "code",
      "execution_count": null,
      "metadata": {
        "id": "X27Ps1X2yWIP"
      },
      "outputs": [],
      "source": [
        ""
      ]
    },
    {
      "cell_type": "code",
      "execution_count": null,
      "metadata": {
        "id": "-0VbHyQcyWIP"
      },
      "outputs": [],
      "source": [
        ""
      ]
    },
    {
      "cell_type": "code",
      "execution_count": null,
      "metadata": {
        "id": "vW454eeYyWIP"
      },
      "outputs": [],
      "source": [
        ""
      ]
    },
    {
      "cell_type": "code",
      "execution_count": null,
      "metadata": {
        "id": "OBIlt9u0yWIP"
      },
      "outputs": [],
      "source": [
        "##### Attack 5: EXCHANGE PSD VALUES OF TWO FREQUENCY BANDS ####\n",
        "# Freq bands 90Mhz - [300Mhz - 1Ghz]"
      ]
    },
    {
      "cell_type": "code",
      "execution_count": null,
      "metadata": {
        "id": "Ei_UYG8ZyWIP"
      },
      "outputs": [],
      "source": [
        "# Data load\n",
        "df_exchange2=pd.read_csv(\"./Datasets/rp3_exchange.csv\")"
      ]
    },
    {
      "cell_type": "code",
      "execution_count": null,
      "metadata": {
        "scrolled": true,
        "id": "bI8cAL-YyWIP"
      },
      "outputs": [],
      "source": [
        "# Remove columns with constant values\n",
        "df_exchange2 = df_exchange2.loc[(df_exchange2['connectivity']==1)]"
      ]
    },
    {
      "cell_type": "code",
      "execution_count": null,
      "metadata": {
        "id": "iROQ02xyyWIP",
        "colab": {
          "base_uri": "https://localhost:8080/"
        },
        "outputId": "0a72137c-b48e-4f3c-9f68-07934213c9f0"
      },
      "outputs": [
        {
          "output_type": "stream",
          "name": "stderr",
          "text": [
            "/usr/local/lib/python3.7/dist-packages/pandas/core/frame.py:4913: SettingWithCopyWarning: \n",
            "A value is trying to be set on a copy of a slice from a DataFrame\n",
            "\n",
            "See the caveats in the documentation: https://pandas.pydata.org/pandas-docs/stable/user_guide/indexing.html#returning-a-view-versus-a-copy\n",
            "  errors=errors,\n"
          ]
        }
      ],
      "source": [
        "# Filter vectors according to the timestamps\n",
        "df_exchange2 = df_exchange2.loc[(df_exchange2['timestamp'] >= 1616585145000) & (df_exchange2['timestamp'] <= 1616589463000)]\n",
        "\n",
        "df_exchange2.drop(['time','timestamp'],axis=1,inplace=True)"
      ]
    },
    {
      "cell_type": "code",
      "execution_count": null,
      "metadata": {
        "id": "-ggXf2X-yWIQ"
      },
      "outputs": [],
      "source": [
        "X_outliers9=df_exchange2[df_exchange2.columns.intersection(feat_list)]"
      ]
    },
    {
      "cell_type": "code",
      "execution_count": null,
      "metadata": {
        "id": "w3Gwx_MUyWIQ"
      },
      "outputs": [],
      "source": [
        "# Transform outliers set\n",
        "X_outliers9 = scaler.transform(X_outliers9)"
      ]
    },
    {
      "cell_type": "code",
      "execution_count": null,
      "metadata": {
        "colab": {
          "base_uri": "https://localhost:8080/"
        },
        "id": "t8LqgJ5GyWIQ",
        "outputId": "88681daa-c0e7-4fc7-f43b-3e38eb05abaa"
      },
      "outputs": [
        {
          "output_type": "stream",
          "name": "stdout",
          "text": [
            "\t [False  True]      [228 119]\n"
          ]
        }
      ],
      "source": [
        "#Outliers with manual autoencoder\n",
        "mad_outliers = detect_outliers(autoencoder, X_outliers9, thresh)\n",
        "unique_elements, counts_elements = np.unique(mad_outliers, return_counts=True)\n",
        "print(\"\\t\",unique_elements,\"    \",counts_elements)"
      ]
    },
    {
      "cell_type": "code",
      "execution_count": null,
      "metadata": {
        "id": "2CMlxKCtyWIQ"
      },
      "outputs": [],
      "source": [
        ""
      ]
    },
    {
      "cell_type": "code",
      "execution_count": null,
      "metadata": {
        "id": "ftRrdNk8yWIQ"
      },
      "outputs": [],
      "source": [
        ""
      ]
    },
    {
      "cell_type": "code",
      "execution_count": null,
      "metadata": {
        "id": "jXjSt_pwyWIQ"
      },
      "outputs": [],
      "source": [
        ""
      ]
    },
    {
      "cell_type": "code",
      "execution_count": null,
      "metadata": {
        "id": "aZXxmKmUyWIQ"
      },
      "outputs": [],
      "source": [
        ""
      ]
    },
    {
      "cell_type": "code",
      "execution_count": null,
      "metadata": {
        "id": "bF-DQhxvyWIQ"
      },
      "outputs": [],
      "source": [
        ""
      ]
    },
    {
      "cell_type": "code",
      "execution_count": null,
      "metadata": {
        "id": "55KXNNd6yWIQ"
      },
      "outputs": [],
      "source": [
        "##### Attack 6: Hide a transmission ####\n",
        "# 200Mhz - 250Mz"
      ]
    },
    {
      "cell_type": "code",
      "execution_count": null,
      "metadata": {
        "id": "bSpGw9OryWIQ"
      },
      "outputs": [],
      "source": [
        "# Data load\n",
        "df_hide=pd.read_csv(\"./Datasets/rp3_hide.csv\")"
      ]
    },
    {
      "cell_type": "code",
      "execution_count": null,
      "metadata": {
        "scrolled": true,
        "id": "nt32VB62yWIQ"
      },
      "outputs": [],
      "source": [
        "# Remove columns with constant values\n",
        "df_hide = df_hide.loc[(df_hide['connectivity']==1)]"
      ]
    },
    {
      "cell_type": "code",
      "execution_count": null,
      "metadata": {
        "id": "2pzcLM_GyWIQ"
      },
      "outputs": [],
      "source": [
        "# Filter vectors according to the timestamps\n",
        "df_hide = df_hide.loc[(df_hide['timestamp'] >= 1616672277000) & (df_hide['timestamp'] <= 1616676574000)]\n",
        "\n",
        "df_hide.drop(['time','timestamp'],axis=1,inplace=True)"
      ]
    },
    {
      "cell_type": "code",
      "execution_count": null,
      "metadata": {
        "id": "xwOFL7X8yWIQ"
      },
      "outputs": [],
      "source": [
        "X_outliers10 = df_hide[df_hide.columns.intersection(feat_list)]"
      ]
    },
    {
      "cell_type": "code",
      "execution_count": null,
      "metadata": {
        "id": "H-byamibyWIR"
      },
      "outputs": [],
      "source": [
        "# Transform outliers set\n",
        "X_outliers10 = scaler.transform(X_outliers10)"
      ]
    },
    {
      "cell_type": "code",
      "execution_count": null,
      "metadata": {
        "colab": {
          "base_uri": "https://localhost:8080/"
        },
        "id": "XJ6-_unDyWIR",
        "outputId": "f3062c11-ea70-4cca-a6d4-f141099454ff"
      },
      "outputs": [
        {
          "output_type": "stream",
          "name": "stdout",
          "text": [
            "\t [False  True]      [ 43 312]\n"
          ]
        }
      ],
      "source": [
        "#Outliers with manual autoencoder\n",
        "mad_outliers = detect_outliers(autoencoder, X_outliers10, thresh)\n",
        "unique_elements, counts_elements = np.unique(mad_outliers, return_counts=True)\n",
        "print(\"\\t\",unique_elements,\"    \",counts_elements)"
      ]
    },
    {
      "cell_type": "code",
      "execution_count": null,
      "metadata": {
        "id": "fEYqHqD1yWIR"
      },
      "outputs": [],
      "source": [
        ""
      ]
    },
    {
      "cell_type": "code",
      "execution_count": null,
      "metadata": {
        "id": "PKkyZrFsyWIR"
      },
      "outputs": [],
      "source": [
        "##################\n",
        "#### Fairness ####\n",
        "##################"
      ]
    },
    {
      "cell_type": "code",
      "execution_count": null,
      "metadata": {
        "id": "88N9kFD_yWIR"
      },
      "outputs": [],
      "source": [
        "factsheet = {\n",
        "    \"general\": {\n",
        "        \"model_name\": \"Melike's Neural Network\",\n",
        "        \"purpose_description\": \"Attack Classification\",\n",
        "        \"domain_description\": \"IT Security\",\n",
        "        \"training_data_description\": \"Alberto's classification data\",\n",
        "        \"model_information\": \"Keras Neural Network Classifier for IT Security Incident Classification scenario\",\n",
        "        # \"target_column\": \"label\",\n",
        "        \"authors\": \"Melike Demirci\",\n",
        "        \"contact_information\": \"melike.demirci@uzh.ch\"\n",
        "    },\n",
        "    \"fairness\": {\n",
        "        \"protected_feature\": \"writeback:writeback_dirty_inode_enqueue\",\n",
        "        \"protected_values\": [\n",
        "            1\n",
        "        ],\n",
        "        # \"favorable_outcomes\": [13]\n",
        "    },\n",
        "    \"methodology\": {\n",
        "        \"regularization\": \"none\"\n",
        "    },\n",
        "    \"scores\": {\n",
        "        \"fairness\": {\n",
        "            \"underfitting\": NaN,\n",
        "            \"overfitting\": NaN,\n",
        "            \"statistical_parity_difference\": NaN,\n",
        "            \"equal_opportunity_difference\": NaN,\n",
        "            \"average_odds_difference\": NaN,\n",
        "            \"disparate_impact\": NaN,\n",
        "            \"class_balance\": 5\n",
        "        },\n",
        "        \"explainability\": {\n",
        "            \"algorithm_class\": 1,\n",
        "            \"correlated_features\": 2,\n",
        "            \"model_size\": 2,\n",
        "            \"feature_relevance\": NaN\n",
        "        },\n",
        "        \"robustness\": {\n",
        "            \"confidence_score\": NaN,\n",
        "            \"clique_method\": NaN,\n",
        "            \"loss_sensitivity\": 2,\n",
        "            \"clever_score\": 4,\n",
        "            \"er_fast_gradient_attack\": NaN,\n",
        "            \"er_carlini_wagner_attack\": NaN,\n",
        "            \"er_deepfool_attack\": NaN\n",
        "        },\n",
        "        \"methodology\": {\n",
        "            \"normalization\": 4,\n",
        "            \"missing_data\": 5,\n",
        "            \"regularization\": 1,\n",
        "            \"train_test_split\": 5,\n",
        "            \"factsheet_completeness\": 5\n",
        "        }\n",
        "    },\n",
        "    \"properties\": {\n",
        "        \"fairness\": {\n",
        "            \"underfitting\": {\n",
        "                \"Non computable because\": \"name 'X_train' is not defined\"\n",
        "            },\n",
        "            \"overfitting\": {\n",
        "                \"Non computable because\": \"name 'X_train' is not defined\"\n",
        "            },\n",
        "            \"statistical_parity_difference\": {\n",
        "                \"Non computable because\": \"division by zero\"\n",
        "            },\n",
        "            \"equal_opportunity_difference\": {\n",
        "                \"Non computable because\": \"division by zero\"\n",
        "            },\n",
        "            \"average_odds_difference\": {\n",
        "                \"Non computable because\": \"division by zero\"\n",
        "            },\n",
        "            \"disparate_impact\": {\n",
        "                \"Non computable because\": \"division by zero\"\n",
        "            },\n",
        "            \"class_balance\": {\n",
        "                \"Metric Description\": \"Measures how well the training data is balanced or unbalanced\",\n",
        "                \"Depends on\": \"Training Data\",\n",
        "                \"Score\": \"5\"\n",
        "            }\n",
        "        },\n",
        "        \"explainability\": {\n",
        "            \"algorithm_class\": {\n",
        "                \"dep\": [\n",
        "                    \"Depends on\",\n",
        "                    \"Model\"\n",
        "                ],\n",
        "                \"clf_name\": [\n",
        "                    \"model type\",\n",
        "                    \"Sequential\"\n",
        "                ]\n",
        "            },\n",
        "            \"correlated_features\": {\n",
        "                \"dep\": [\n",
        "                    \"Depends on\",\n",
        "                    \"Training Data\"\n",
        "                ],\n",
        "                \"pct_drop\": [\n",
        "                    \"Percentage of highly correlated features\",\n",
        "                    \"39.73%\"\n",
        "                ]\n",
        "            },\n",
        "            \"model_size\": {\n",
        "                \"dep\": [\n",
        "                    \"Depends on\",\n",
        "                    \"Training Data\"\n",
        "                ],\n",
        "                \"n_features\": [\n",
        "                    \"number of features\",\n",
        "                    73\n",
        "                ]\n",
        "            },\n",
        "            \"feature_relevance\": {\n",
        "                \"dep\": [\n",
        "                    \"Depends on\",\n",
        "                    \"Training Data and Model\"\n",
        "                ]\n",
        "            }\n",
        "        },\n",
        "        \"robustness\": {\n",
        "            \"confidence_score\": {\n",
        "                \"non_computable\": [\n",
        "                    \"Non Computable Because\",\n",
        "                    \"Can only be calculated on models which provide prediction probabilities.\"\n",
        "                ]\n",
        "            },\n",
        "            \"clique_method\": {\n",
        "                \"non_computable\": [\n",
        "                    \"Non Computable Because\",\n",
        "                    \"Can only be calculated on Tree-Based models.\"\n",
        "                ]\n",
        "            },\n",
        "            \"loss_sensitivity\": {\n",
        "                \"loss_sensitivity\": [\n",
        "                    \"Average gradient value of the loss function\",\n",
        "                    \"1.54\"\n",
        "                ],\n",
        "                \"depends_on\": [\n",
        "                    \"Depends on\",\n",
        "                    \"Model\"\n",
        "                ]\n",
        "            },\n",
        "            \"clever_score\": {\n",
        "                \"clever_score\": [\n",
        "                    \"CLEVER Score\",\n",
        "                    \"1.04\"\n",
        "                ],\n",
        "                \"depends_on\": [\n",
        "                    \"Depends on\",\n",
        "                    \"Model\"\n",
        "                ]\n",
        "            },\n",
        "            \"er_fast_gradient_attack\": {\n",
        "                \"non_computable\": [\n",
        "                    \"Non Computable Because\",\n",
        "                    \"Can be calculated on either SVC or Logistic Regression models.\"\n",
        "                ]\n",
        "            },\n",
        "            \"er_carlini_wagner_attack\": {\n",
        "                \"non_computable\": [\n",
        "                    \"Non Computable Because\",\n",
        "                    \"Can be calculated on either SVC or Logistic Regression models.\"\n",
        "                ]\n",
        "            },\n",
        "            \"er_deepfool_attack\": {\n",
        "                \"non_computable\": [\n",
        "                    \"Non Computable Because\",\n",
        "                    \"Can be calculated on either SVC or Logistic Regression models.\"\n",
        "                ]\n",
        "            }\n",
        "        },\n",
        "        \"methodology\": {\n",
        "            \"normalization\": {\n",
        "                \"dep\": [\n",
        "                    \"Depends on\",\n",
        "                    \"Training and Testing Data\"\n",
        "                ],\n",
        "                \"Training_mean\": [\n",
        "                    \"Mean of the training data\",\n",
        "                    \"-0.00\"\n",
        "                ],\n",
        "                \"Training_std\": [\n",
        "                    \"Standard deviation of the training data\",\n",
        "                    \"1.00\"\n",
        "                ],\n",
        "                \"Test_mean\": [\n",
        "                    \"Mean of the test data\",\n",
        "                    \"-0.03\"\n",
        "                ],\n",
        "                \"Test_std\": [\n",
        "                    \"Standard deviation of the test data\",\n",
        "                    \"0.88\"\n",
        "                ],\n",
        "                \"normalization\": [\n",
        "                    \"Normalization\",\n",
        "                    \"Training data are standardized\"\n",
        "                ]\n",
        "            },\n",
        "            \"missing_data\": {\n",
        "                \"dep\": [\n",
        "                    \"Depends on\",\n",
        "                    \"Training Data\"\n",
        "                ],\n",
        "                \"null_values\": [\n",
        "                    \"Number of the null values\",\n",
        "                    \"0\"\n",
        "                ]\n",
        "            },\n",
        "            \"regularization\": {\n",
        "                \"dep\": [\n",
        "                    \"Depends on\",\n",
        "                    \"Factsheet\"\n",
        "                ],\n",
        "                \"regularization_technique\": [\n",
        "                    \"Regularization technique\",\n",
        "                    \"none\"\n",
        "                ]\n",
        "            },\n",
        "            \"train_test_split\": {\n",
        "                \"dep\": [\n",
        "                    \"Depends on\",\n",
        "                    \"Training and Testing Data\"\n",
        "                ],\n",
        "                \"train_test_split\": [\n",
        "                    \"Train test split\",\n",
        "                    \"80.00/20.00\"\n",
        "                ]\n",
        "            },\n",
        "            \"factsheet_completeness\": {\n",
        "                \"dep\": [\n",
        "                    \"Depends on\",\n",
        "                    \"Factsheet\"\n",
        "                ],\n",
        "                \"model_name\": [\n",
        "                    \"Factsheet Property model name\",\n",
        "                    \"present\"\n",
        "                ],\n",
        "                \"purpose_description\": [\n",
        "                    \"Factsheet Property purpose description\",\n",
        "                    \"present\"\n",
        "                ],\n",
        "                \"domain_description\": [\n",
        "                    \"Factsheet Property domain description\",\n",
        "                    \"present\"\n",
        "                ],\n",
        "                \"training_data_description\": [\n",
        "                    \"Factsheet Property training data description\",\n",
        "                    \"present\"\n",
        "                ],\n",
        "                \"model_information\": [\n",
        "                    \"Factsheet Property model information\",\n",
        "                    \"present\"\n",
        "                ],\n",
        "                \"target_column\": [\n",
        "                    \"Factsheet Property target column\",\n",
        "                    \"present\"\n",
        "                ],\n",
        "                \"authors\": [\n",
        "                    \"Factsheet Property authors\",\n",
        "                    \"present\"\n",
        "                ],\n",
        "                \"contact_information\": [\n",
        "                    \"Factsheet Property contact information\",\n",
        "                    \"present\"\n",
        "                ]\n",
        "            }\n",
        "        }\n",
        "    }\n",
        "}"
      ]
    },
    {
      "cell_type": "code",
      "execution_count": null,
      "metadata": {
        "id": "agtqUuHbyWIS"
      },
      "outputs": [],
      "source": [
        "mappings = {\n",
        "    \"fairness\": {\n",
        "        \"score_underfitting\": {\n",
        "            \"thresholds\": {\n",
        "                \"value\": [\n",
        "                    0.8,\n",
        "                    0.85,\n",
        "                    0.9,\n",
        "                    0.95\n",
        "                ],\n",
        "                \"description\": \"\",\n",
        "                \"label\": \"\"\n",
        "            }\n",
        "        },\n",
        "        \"score_overfitting\": {\n",
        "            \"thresholds\": {\n",
        "                \"value\": [\n",
        "                    0.04,\n",
        "                    0.03,\n",
        "                    0.02,\n",
        "                    0.01,\n",
        "                    0\n",
        "                ],\n",
        "                \"description\": \"\",\n",
        "                \"label\": \"\"\n",
        "            }\n",
        "        },\n",
        "        \"score_statistical_parity_difference\": {\n",
        "            \"thresholds\": {\n",
        "                \"value\": [\n",
        "                    0.075,\n",
        "                    0.05,\n",
        "                    0.025,\n",
        "                    0.01,\n",
        "                    0\n",
        "                ],\n",
        "                \"description\": \"\",\n",
        "                \"label\": \"\"\n",
        "            }\n",
        "        },\n",
        "        \"score_equal_opportunity_difference\": {\n",
        "            \"thresholds\": {\n",
        "                \"value\": [\n",
        "                    0.15,\n",
        "                    0.1,\n",
        "                    0.05,\n",
        "                    0.03,\n",
        "                    0\n",
        "                ],\n",
        "                \"description\": \"\",\n",
        "                \"label\": \"\"\n",
        "            }\n",
        "        },\n",
        "        \"score_average_odds_difference\": {\n",
        "            \"thresholds\": {\n",
        "                \"value\": [\n",
        "                    0.15,\n",
        "                    0.1,\n",
        "                    0.05,\n",
        "                    0.03,\n",
        "                    0\n",
        "                ],\n",
        "                \"description\": \"\",\n",
        "                \"label\": \"\"\n",
        "            }\n",
        "        },\n",
        "        \"score_disparate_impact\": {\n",
        "            \"thresholds\": {\n",
        "                \"value\": [\n",
        "                    0.8,\n",
        "                    0.85,\n",
        "                    0.9,\n",
        "                    0.95\n",
        "                ],\n",
        "                \"description\": \"\",\n",
        "                \"label\": \"\"\n",
        "            }\n",
        "        }\n",
        "    },\n",
        "    \"explainability\": {\n",
        "        \"score_algorithm_class\": {\n",
        "            \"clf_type_score\": {\n",
        "                \"value\": {\n",
        "                    \"RandomForestClassifier\": 4,\n",
        "                    \"KNeighborsClassifier\": 3,\n",
        "                    \"SVC\": 2,\n",
        "                    \"GaussianProcessClassifier\": 3,\n",
        "                    \"DecisionTreeClassifier\": 5,\n",
        "                    \"MLPClassifier\": 1,\n",
        "                    \"AdaBoostClassifier\": 3,\n",
        "                    \"GaussianNB\": 3.5,\n",
        "                    \"QuadraticDiscriminantAnalysis\": 3,\n",
        "                    \"LogisticRegression\": 4,\n",
        "                    \"LinearRegression\": 3.5,\n",
        "                    \"Sequential\": 1\n",
        "                },\n",
        "                \"description\": \"Mapping of Learning techniques to the level of explainability based on on literature research and qualitative analysis of each learning technique. For more information see gh-pages/explainability/taxonomy\",\n",
        "                \"label\": \"Score Mapping\"\n",
        "            }\n",
        "        },\n",
        "        \"score_model_size\": {\n",
        "            \"thresholds\": {\n",
        "                \"value\": [\n",
        "                    10,\n",
        "                    25,\n",
        "                    50,\n",
        "                    100\n",
        "                ],\n",
        "                \"description\": \"Thresholds of how to map model size to a score from 1-5. Example if 10 is the first number it means that a model with 10 or less features would get the best score(5) and if 500 was the last number it would mean that a model with 500 or more features would get the worst score (1), analog for the numbers in between\",\n",
        "                \"label\": \"Score Thresholds\"\n",
        "            }\n",
        "        },\n",
        "        \"score_correlated_features\": {\n",
        "            \"high_cor\": {\n",
        "                \"value\": 0.95,\n",
        "                \"description\": \"Threshold value to classify a correlation as highly correlated. Default value is 0.95 meaning every correlation equal or higher than 0.9 would be considered highly correlated\",\n",
        "                \"label\": \"High Correlation Threshold\"\n",
        "            },\n",
        "            \"thresholds\": {\n",
        "                \"value\": [\n",
        "                    0.05,\n",
        "                    0.15,\n",
        "                    0.25,\n",
        "                    0.4\n",
        "                ],\n",
        "                \"description\": \"Thresholds of how to map the percentage of highly correlated features (>= high_cor or default 0.9) to a score from 1-5. Example if 0.05 is the first number it means that training dataset with 5% or less highly correlated variables would get the best score(5) and if 0.4 was the last number it would mean that a training dataset 40% or more highly correlated features would get the worst score (1), analog for the numbers in between\",\n",
        "                \"label\": \"Score Thresholds\"\n",
        "            }\n",
        "        },\n",
        "        \"score_feature_relevance\": {\n",
        "            \"thresholds\": {\n",
        "                \"value\": [\n",
        "                    0.05,\n",
        "                    0.1,\n",
        "                    0.15,\n",
        "                    0.2\n",
        "                ],\n",
        "                \"description\": \"Map the fraction of many features make up 60% of all importance to a Score from 1-5. If the first number in the list is 0.05 it means that 5% or less features make up more than 60% of all importance, which would be a very skewed distribution of the feature importance and result in the worst score of 1, and if the next number is 0.1 it means if the fraction is between 5%-10% the Score would be a 2, analog the other thresholds\",\n",
        "                \"label\": \"Score Thresholds\"\n",
        "            },\n",
        "            \"threshold_outlier\": {\n",
        "                \"value\": 0.03,\n",
        "                \"description\": \"The threshold for a score penalty if there are too many outliers in the feature importance distribution. For example if the threshold is 0.03 it means taht if 3% or more features are outliers a penalty with tha value #penalty_outlier would be substacted from the score\",\n",
        "                \"label\": \"Threshold for outliers\"\n",
        "            },\n",
        "            \"penalty_outlier\": {\n",
        "                \"value\": 0,\n",
        "                \"description\": \"The penalty that should be applied if the the number of outliers in the feature importance distribution is equal or greater than the #threshold_outlier. For example if this value is 0.5 it would mean if the the theshold is reached 0.5 points will be substacted from score. If the number is set to 0 no penalty will be applied\",\n",
        "                \"label\": \"Penalty for outliers\"\n",
        "            }\n",
        "        }\n",
        "    },\n",
        "    \"robustness\": {\n",
        "        \"score_clique_method\": {\n",
        "            \"thresholds\": {\n",
        "                \"value\": [\n",
        "                    0.01,\n",
        "                    0.1,\n",
        "                    0.25,\n",
        "                    0.5\n",
        "                ],\n",
        "                \"description\": \"Thresholds of how to map the result of the clique method from 1-5.\",\n",
        "                \"label\": \"Score Thresholds\"\n",
        "            }\n",
        "        },\n",
        "        \"score_loss_sensitivity\": {\n",
        "            \"thresholds\": {\n",
        "                \"value\": [\n",
        "                    2,\n",
        "                    1.5,\n",
        "                    1,\n",
        "                    0.5\n",
        "                ],\n",
        "                \"description\": \"Thresholds of how to map loss sensitivity from 1-5. Smaller value means higher robustness.\",\n",
        "                \"label\": \"Score Thresholds\"\n",
        "            }\n",
        "        },\n",
        "        \"score_clever_score\": {\n",
        "            \"thresholds\": {\n",
        "                \"value\": [\n",
        "                    0.2,\n",
        "                    0.5,\n",
        "                    1,\n",
        "                    2.5\n",
        "                ],\n",
        "                \"description\": \"Thresholds of how to map CLEVER score from 1-5.\",\n",
        "                \"label\": \"Score Thresholds\"\n",
        "            }\n",
        "        },\n",
        "        \"score_confidence_score\": {\n",
        "            \"thresholds\": {\n",
        "                \"value\": [\n",
        "                    20,\n",
        "                    40,\n",
        "                    60,\n",
        "                    80\n",
        "                ],\n",
        "                \"description\": \"Thresholds of how to map confidence score from 1-5. Better confidence score means higher robustness.\",\n",
        "                \"label\": \"Score Thresholds\"\n",
        "            }\n",
        "        },\n",
        "        \"score_fast_gradient_attack\": {\n",
        "            \"thresholds\": {\n",
        "                \"value\": [\n",
        "                    80,\n",
        "                    60,\n",
        "                    40,\n",
        "                    20\n",
        "                ],\n",
        "                \"description\": \"Thresholds of how to map difference between before-after attack accuracies from 1-5. Example: If the before attack accuracy is 85% and after attack accuracy is again 85% it means model is so robust that attack was not successful at all. The difference is 0 and hence this would result in a score of 5 (best score). However if the before attack accuracy was 100% and after attack accuracy is 0% then the model is not robust. The difference is 100% and it would result in score 0 (worst score)\",\n",
        "                \"label\": \"Score Thresholds\"\n",
        "            }\n",
        "        },\n",
        "        \"score_carlini_wagner_attack\": {\n",
        "            \"thresholds\": {\n",
        "                \"value\": [\n",
        "                    80,\n",
        "                    60,\n",
        "                    40,\n",
        "                    20\n",
        "                ],\n",
        "                \"description\": \"Thresholds of how to map difference between before-after attack accuracies from 1-5. Example: If the before attack accuracy is 85% and after attack accuracy is again 85% it means model is so robust that attack was not successful at all. The difference is 0 and hence this would result in a score of 5 (best score). However if the before attack accuracy was 100% and after attack accuracy is 0% then the model is not robust. The difference is 100% and it would result in score 0 (worst score)\",\n",
        "                \"label\": \"Score Thresholds\"\n",
        "            }\n",
        "        },\n",
        "        \"score_deepfool_attack\": {\n",
        "            \"thresholds\": {\n",
        "                \"value\": [\n",
        "                    80,\n",
        "                    60,\n",
        "                    40,\n",
        "                    20\n",
        "                ],\n",
        "                \"description\": \"Thresholds of how to map difference between before-after attack accuracies from 1-5. Example: If the before attack accuracy is 85% and after attack accuracy is again 85% it means model is so robust that attack was not successful at all. The difference is 0 and hence this would result in a score of 5 (best score). However if the before attack accuracy was 100% and after attack accuracy is 0% then the model is not robust. The difference is 100% and it would result in score 0 (worst score)\",\n",
        "                \"label\": \"Score Thresholds\"\n",
        "            }\n",
        "        }\n",
        "    },\n",
        "    \"methodology\": {\n",
        "        \"score_normalization\": {\n",
        "            \"mappings\": {\n",
        "                \"value\": {\n",
        "                    \"None\": 1,\n",
        "                    \"training_normal\": 2,\n",
        "                    \"training_and_test_normal\": 3,\n",
        "                    \"training_standardized\": 4,\n",
        "                    \"training_and_test_standardize\": 5\n",
        "                },\n",
        "                \"description\": \"Dictionary of how to map different normalization types to scores between 1-5.\",\n",
        "                \"label\": \"Score Thresholds\"\n",
        "            }\n",
        "        },\n",
        "        \"score_missing_data\": {\n",
        "            \"mappings\": {\n",
        "                \"value\": {\n",
        "                    \"null_values_exist\": 1,\n",
        "                    \"no_null_values\": 5\n",
        "                },\n",
        "                \"description\": \"Dictionary of how to map missing data to scores between 1-5.\",\n",
        "                \"label\": \"Score Thresholds\"\n",
        "            }\n",
        "        },\n",
        "        \"score_regularization\": {\n",
        "            \"parameter_regularization_technique\": {\n",
        "                \"value\": \"The value of the parameter_XY\",\n",
        "                \"description\": \"The description of the paramter and its impact\"\n",
        "            }\n",
        "        },\n",
        "        \"score_train_test_split\": {\n",
        "            \"mappings\": {\n",
        "                \"value\": {\n",
        "                    \"50-60 95-97\": 1,\n",
        "                    \"60-75 90-95\": 2,\n",
        "                    \"70-75 85-90\": 3,\n",
        "                    \"75-79 81-85\": 4,\n",
        "                    \"79-81\": 5\n",
        "                },\n",
        "                \"description\": \"Thresholds of how to map the train-test split to a score between 1-5.\",\n",
        "                \"label\": \"Score Thresholds\"\n",
        "            }\n",
        "        },\n",
        "        \"score_factsheet_completeness\": {\n",
        "            \"parameter_split\": {\n",
        "                \"value\": \"The value of the parameter_XY\",\n",
        "                \"description\": \"The description of the paramter and its impact\"\n",
        "            }\n",
        "        }\n",
        "    }\n",
        "}"
      ]
    },
    {
      "cell_type": "code",
      "execution_count": null,
      "metadata": {
        "id": "Oi6Rb2NnyWIS"
      },
      "outputs": [],
      "source": [
        "### Helper methods"
      ]
    },
    {
      "cell_type": "code",
      "execution_count": null,
      "metadata": {
        "id": "Ss3MN1J_yWIS"
      },
      "outputs": [],
      "source": [
        "def load_fairness_config(factsheet):\n",
        "    message = \"\"\n",
        "    protected_feature = factsheet.get(\"fairness\", {}).get(\"protected_feature\", '')\n",
        "    if not protected_feature:\n",
        "        message += \"Definition of protected feature is missing.\"\n",
        "        \n",
        "    protected_values = factsheet.get(\"fairness\", {}).get(\"protected_values\", [])\n",
        "    if not protected_values:\n",
        "        message += \"Definition of protected_values is missing.\"\n",
        "    \n",
        "    \n",
        "    # not used for unsupervised\n",
        "    '''\n",
        "    target_column = factsheet.get(\"general\", {}).get(\"target_column\", '')\n",
        "    if not target_column:\n",
        "        message += \"Definition of target column is missing.\"\n",
        "        \n",
        "    favorable_outcomes = factsheet.get(\"fairness\", {}).get(\"favorable_outcomes\", [])\n",
        "    if not favorable_outcomes:\n",
        "        message += \"Definition of favorable outcomes is missing.\"\n",
        "    '''\n",
        "        \n",
        "    if message:\n",
        "        raise MissingFairnessDefinitionError(message) #TODO\n",
        "    \n",
        "    return protected_feature, protected_values\n",
        "\n",
        "def compute_accuracy(unique_elements, counts_elements, outlier_indicator = False, normal_indicator = True):\n",
        "    tot_datapoints = 0\n",
        "    num_outliers = 0\n",
        "    num_normal = 0      \n",
        "    \n",
        "    for i, el in enumerate(unique_elements):\n",
        "        if el == normal_indicator:\n",
        "            num_normal = counts_elements.item(i)\n",
        "            tot_datapoints += num_normal\n",
        "        if el == outlier_indicator:\n",
        "            num_outliers = counts_elements.item(i)\n",
        "            tot_datapoints += num_outliers\n",
        "\n",
        "    if (tot_datapoints > 0):\n",
        "      accuracy = num_outliers/tot_datapoints\n",
        "    \n",
        "    else:\n",
        "      accuracy = 0\n",
        "\n",
        "    return accuracy\n",
        "\n",
        "def train_test_split_metric(training_dataset, test_dataset):\n",
        "    n_train = len(training_dataset)\n",
        "    n_test = len(test_dataset)\n",
        "    n = n_train + n_test\n",
        "    return round(n_train/n*100), round(n_test/n*100)\n",
        "\n",
        "def regularization_metric(factsheet):\n",
        "    if \"methodology\" in factsheet and \"regularization\" in factsheet[\"methodology\"]:\n",
        "        return factsheet[\"methodology\"][\"regularization\"]\n",
        "    else:\n",
        "        return \"NOT_SPECIFIED\"\n",
        "\n",
        "def isKerasAutoencoder(model):\n",
        "    return isinstance(model, keras.engine.functional.Functional)\n",
        "\n",
        "def isIsolationForest(model):\n",
        "    return isinstance(model, IsolationForest)\n",
        "\n",
        "def compute_outlier_ratio(model, data, outlier_thresh, print_details = False):\n",
        "    if isKerasAutoencoder(model):\n",
        "        mad_outliers = detect_outliers(model, data, outlier_thresh)\n",
        "        unique_elements, counts_elements = np.unique(mad_outliers, return_counts=True)\n",
        "        outlier_detection_percentage = compute_accuracy(unique_elements, counts_elements)\n",
        "\n",
        "    elif isIsolationForest(model):\n",
        "        mad_outliers = model.predict(data)\n",
        "        unique_elements, counts_elements = np.unique(mad_outliers, return_counts=True)\n",
        "        outlier_detection_percentage = compute_accuracy(unique_elements, counts_elements, -1, 1)\n",
        "    \n",
        "    else:\n",
        "        mad_outliers = model.predict(data)\n",
        "        unique_elements, counts_elements = np.unique(mad_outliers, return_counts=True)\n",
        "        outlier_detection_percentage = compute_accuracy(unique_elements, counts_elements, 1, 0)\n",
        "\n",
        "    if print_details:\n",
        "        print(\"\\t uniqueelements: \", unique_elements)\n",
        "        print(\"\\t counts elements: \", counts_elements)\n",
        "\n",
        "    return outlier_detection_percentage\n",
        "\n",
        "    "
      ]
    },
    {
      "cell_type": "code",
      "execution_count": null,
      "metadata": {
        "id": "yQ16RNxNyWIT"
      },
      "outputs": [],
      "source": [
        ""
      ]
    },
    {
      "cell_type": "code",
      "execution_count": null,
      "metadata": {
        "id": "PWY-4u0cyWIT"
      },
      "outputs": [],
      "source": [
        "#### Accuracy"
      ]
    },
    {
      "cell_type": "code",
      "execution_count": null,
      "metadata": {
        "id": "ic4rV9ujyWIT"
      },
      "outputs": [],
      "source": [
        "def accuracy_score(model, outlier_data, outlier_thresh, score_thresh, print_details = False):\n",
        "    \"\"\"\n",
        "    This function computes the accuracy score.\n",
        "    \n",
        "\n",
        "    Args:\n",
        "        model: ML-model.\n",
        "        outlier-data: numpy.ndarra outlier dataset. \n",
        "        outlier_thresh: list \n",
        "        score_thresholds: list\n",
        "\n",
        "    Returns:\n",
        "        1. Score\n",
        "\n",
        "    \"\"\"\n",
        "\n",
        "    detected_outlier_ratio = compute_outlier_ratio(model, outlier_data, outlier_thresh, print_details)\n",
        "\n",
        "    score = np.digitize(abs(detected_outlier_ratio), score_thresh, right=False) + 1 \n",
        "    \n",
        "    if print_details:\n",
        "        print(\"\\t detected outlier ratio: %.4f \" % detected_outlier_ratio)\n",
        "        \n",
        "    return score"
      ]
    },
    {
      "cell_type": "code",
      "execution_count": null,
      "metadata": {
        "id": "X7j7HknjyWIT"
      },
      "outputs": [],
      "source": [
        "#### Underfitting "
      ]
    },
    {
      "cell_type": "code",
      "execution_count": null,
      "metadata": {
        "id": "-19PBDpdyWIT"
      },
      "outputs": [],
      "source": [
        "def underfitting_score(model, train_data, outlier_percentage, outlier_thresh, score_thresh, print_details = False):\n",
        "    # calculate train_data accuracy\n",
        "   \n",
        "    detected_outlier_ratio = compute_outlier_ratio(model, train_data, outlier_thresh)\n",
        "    \n",
        "    perc_diff = abs(outlier_percentage - detected_outlier_ratio)\n",
        "    training_accuracy = (outlier_percentage-perc_diff)/outlier_percentage\n",
        "    \n",
        "    score = np.digitize(training_accuracy, score_thresh, right=False) + 1\n",
        "    \n",
        "    if print_details:\n",
        "        print(\"\\t model is AutoEncoder: \", isKerasAutoencoder(model))\n",
        "        print(\"\\t model is IsolationForest: \", isIsolationForest(model))\n",
        "        print(\"\\t unique_elements, counts_elements: \", unique_elements, counts_elements)\n",
        "        print(\"\\t outlier percentage in training data: \", outlier_percentage)\n",
        "        print(\"\\t detected outlier percentage: %.4f\" % detected_outlier_ratio)\n",
        "        print(\"\\t training accuracy: %.4f\" % training_accuracy)\n",
        "\n",
        "    return score\n",
        "    "
      ]
    },
    {
      "cell_type": "code",
      "execution_count": null,
      "metadata": {
        "id": "Rs55zbzwyWIT"
      },
      "outputs": [],
      "source": [
        "#### Overfitting "
      ]
    },
    {
      "cell_type": "code",
      "execution_count": null,
      "metadata": {
        "id": "pblDd7tQyWIT"
      },
      "outputs": [],
      "source": [
        "def overfitting_score(model, train_data, outlier_data, outlier_percentage, outlier_thresh, score_thresh, print_details = False):\n",
        "    \n",
        "    \"\"\"\n",
        "    This function computes the overfitting score.\n",
        "    \n",
        "    Args:\n",
        "        model: ML-model.\n",
        "        train_data: numpy.ndarray train dataset\n",
        "        outlier-data: numpy.ndarray outlier dataset.\n",
        "        outlier_percentage: float expected outlier percentage of the training_data\n",
        "        outlier_thresh: list \n",
        "        score_thresholds: list\n",
        "\n",
        "    Returns:\n",
        "        1. Score\n",
        "\n",
        "    \"\"\"    \n",
        "    underfit_score = underfitting_score(model, train_data, outlier_percentage, outlier_thresh, [0.80, 0.85, 0.90, 0.95], False)\n",
        "    \n",
        "    # calculate outlier accuracy\n",
        "    if (underfit_score >= 3):\n",
        "        # compute test accuracy\n",
        "        test_accuracy = compute_outlier_ratio(model,outlier_data,outlier_thresh)\n",
        "\n",
        "        # compute training accuracy\n",
        "        outlier_detection_percentage = compute_outlier_ratio(model,train_data,outlier_thresh)  \n",
        "        \n",
        "        perc_diff = abs(outlier_percentage-outlier_detection_percentage)\n",
        "        training_accuracy = (outlier_percentage-perc_diff)/outlier_percentage       \n",
        "        accuracy_difference = abs(training_accuracy - test_accuracy)\n",
        "        overfit_score = np.digitize(accuracy_difference, score_thresh, right=False) + 1\n",
        "        \n",
        "        if print_details:\n",
        "            print(\"\\t --compute training accuracy--\")\n",
        "            print(\"\\t   outlier percentage in training data: \", outlier_percentage)\n",
        "            print(\"\\t   detected outlier percentage: %.4f\" % outlier_detection_percentage)\n",
        "            print(\"\\t   training accuracy: %.4f\" % training_accuracy)\n",
        "            print(\"\\t --compute test accuracy--\")\n",
        "            print(\"\\t   test accuracy: %.4f\" % test_accuracy)\n",
        "            print(\"\\t   train-test accuracy difference: %.4f\" % accuracy_difference)\n",
        "\n",
        "        return overfit_score\n",
        "    \n",
        "    return -1\n"
      ]
    },
    {
      "cell_type": "code",
      "execution_count": null,
      "metadata": {
        "id": "p-Qq2zQ-yWIU"
      },
      "outputs": [],
      "source": [
        "#### Statistical Parity Difference"
      ]
    },
    {
      "cell_type": "code",
      "execution_count": null,
      "metadata": {
        "scrolled": true,
        "id": "5ddpgQSgyWIU"
      },
      "outputs": [],
      "source": [
        "def statisical_parity_difference_score(model, df_train_data, scaler, protected_feature, protected_values, score_thresholds, print_details = False):\n",
        "\n",
        "    \"\"\"\n",
        "    This function computes the statistical parity metric.\n",
        "    It separates the data into a protected and an unprotected group \n",
        "    based on the given definition for protected groups.\n",
        "    SPD is calculated as the spread between the percentage of observations \n",
        "    from the majority group receiving a favorable outcome compared to the protected group.\n",
        "\n",
        "    Args:\n",
        "        model: ML-model.\n",
        "        df_train_dataset: pd.DataFrame training dataset on which the model was trained on. \n",
        "        protected_feature: string \n",
        "        protected_values: list of protected values.\n",
        "        score_thresholds: list\n",
        "\n",
        "    Returns:\n",
        "        1. Score\n",
        "\n",
        "    \"\"\"\n",
        "    \n",
        "    df_train_data.reset_index(drop=True, inplace=True)\n",
        "    X_train = scaler.transform(df_train_data)\n",
        "\n",
        "    minority = df_train_data[df_train_data[protected_feature].isin(protected_values)]\n",
        "    minority_size = len(minority)\n",
        "    majority = df_train_data[~df_train_data[protected_feature].isin(protected_values)]\n",
        "    majority_size = len(majority)\n",
        "    \n",
        "    if isKerasAutoencoder(model):\n",
        "      thresh = get_threshold_mse_iqr(model, X_train)\n",
        "      mad_outliers = detect_outliers(model, X_train, thresh)\n",
        "      outlier_indices = [i for i, el in enumerate(mad_outliers[0].tolist()) if el == False]\n",
        "\n",
        "    elif isIsolationForest(model):\n",
        "      mad_outliers = model.predict(X_train)\n",
        "      outlier_indices = [i for i, el in enumerate(mad_outliers.tolist()) if el == -1]\n",
        "\n",
        "    else:\n",
        "      mad_outliers = model.predict(X_train)\n",
        "      outlier_indices = [i for i, el in enumerate(mad_outliers.tolist()) if el == 1]\n",
        "\n",
        "    minority_indices = minority.index.tolist()\n",
        "    majority_indices = majority.index.tolist()\n",
        "        \n",
        "    # measure num of outliers in majority group by intersection of indices\n",
        "    num_outliers_minority = len(list(set(minority_indices) & set(outlier_indices)))\n",
        "    num_outliers_majority = len(list(set(majority_indices) & set(outlier_indices)))\n",
        "        \n",
        "    favored_minority_ratio = num_outliers_minority/minority_size\n",
        "    favored_majority_ratio = num_outliers_majority/majority_size\n",
        "\n",
        "    statistical_parity_difference = abs(favored_minority_ratio - favored_majority_ratio)\n",
        "    score = np.digitize(statistical_parity_difference, score_thresholds, right=False) + 1\n",
        "    \n",
        "    if print_details:\n",
        "        print(\"\\t protected feature: \", protected_feature)\n",
        "        print(\"\\t protected values: \", protected_values)\n",
        "        print(\"\\t group size: \", len(majority_indices), len(minority_indices))\n",
        "        print(\"\\t num outlier: \", num_outliers_majority, num_outliers_minority)\n",
        "        print(\"\\t outlier ratios: %.4f \" %favored_majority_ratio, \"%.4f \" % favored_minority_ratio)\n",
        "        print(\"\\t statistical_parity_difference: %.4f\" % statistical_parity_difference)\n",
        "        \n",
        "    return score\n",
        "\n",
        "\n"
      ]
    },
    {
      "cell_type": "code",
      "execution_count": null,
      "metadata": {
        "id": "TskMK9HdyWIU"
      },
      "outputs": [],
      "source": [
        "#### Disparate Impact"
      ]
    },
    {
      "cell_type": "code",
      "execution_count": null,
      "metadata": {
        "id": "omqg0ni5yWIU"
      },
      "outputs": [],
      "source": [
        "def disparate_impact_score(model, df_train_data, scaler, protected_feature, protected_values, score_thresholds, print_details = False):\n",
        "\n",
        "    \"\"\"\n",
        "    This function computes the disparate impact metric.\n",
        "    It separates the data into a protected and an unprotected group \n",
        "    based on the given definition for protected groups.\n",
        "    Then it computes the ratio of the probability of outliers in the protected group\n",
        "    divided by probability of outliers in the unprotected group.\n",
        "\n",
        "    Args:\n",
        "        model: ML-model.\n",
        "        df_train_dataset: pd.DataFrame training dataset on which the model was trained on. \n",
        "        protected_feature: string \n",
        "        protected_values: list of protected values.\n",
        "        score_thresholds: list\n",
        "\n",
        "    Returns:\n",
        "        1. Score\n",
        "\n",
        "    \"\"\"\n",
        "    \n",
        "    df_train_data.reset_index(drop=True, inplace=True)\n",
        "    X_train = scaler.transform(df_train_data)\n",
        "\n",
        "    minority = df_train_data[df_train_data[protected_feature].isin(protected_values)]\n",
        "    minority_size = len(minority)\n",
        "    majority = df_train_data[~df_train_data[protected_feature].isin(protected_values)]\n",
        "    majority_size = len(majority)\n",
        "    \n",
        "    if isKerasAutoencoder(model):\n",
        "      thresh = get_threshold_mse_iqr(model, X_train)\n",
        "      mad_outliers = detect_outliers(model, X_train, thresh)\n",
        "      outlier_indices = [i for i, el in enumerate(mad_outliers[0].tolist()) if el == False]\n",
        "\n",
        "    elif isIsolationForest(model):\n",
        "      mad_outliers = model.predict(X_train)\n",
        "      outlier_indices = [i for i, el in enumerate(mad_outliers.tolist()) if el == -1]\n",
        "\n",
        "    else:\n",
        "      mad_outliers = model.predict(X_train)\n",
        "      outlier_indices = [i for i, el in enumerate(mad_outliers.tolist()) if el == 1]\n",
        "\n",
        "    minority_indices = minority.index.tolist()\n",
        "    majority_indices = majority.index.tolist()\n",
        "        \n",
        "    # measure num of outliers in majority group by intersection of indices\n",
        "    num_outliers_minority = len(list(set(minority_indices) & set(outlier_indices)))\n",
        "    num_outliers_majority = len(list(set(majority_indices) & set(outlier_indices)))\n",
        "        \n",
        "    favored_minority_ratio = num_outliers_minority/minority_size\n",
        "    favored_majority_ratio = num_outliers_majority/majority_size\n",
        "\n",
        "    disparate_impact = abs(favored_minority_ratio/favored_majority_ratio)\n",
        "    score = np.digitize(abs(disparate_impact), score_thresholds, right=False) + 1\n",
        "    \n",
        "    if print_details:\n",
        "        print(\"\\t protected feature: \", protected_feature)\n",
        "        print(\"\\t protected values: \", protected_values)\n",
        "        print(\"\\t group size: \", len(majority_indices), len(minority_indices))\n",
        "        print(\"\\t num outlier: \", num_outliers_majority, num_outliers_minority)\n",
        "        print(\"\\t outlier ratios: %.4f \" %favored_majority_ratio, \"%.4f \" % favored_minority_ratio)\n",
        "        print(\"\\t disparate_impact: %.4f\" % disparate_impact)\n",
        "        \n",
        "    return score"
      ]
    },
    {
      "cell_type": "code",
      "execution_count": null,
      "metadata": {
        "id": "g5GMom5uyWIU"
      },
      "outputs": [],
      "source": [
        "#### Class Balance"
      ]
    },
    {
      "cell_type": "code",
      "execution_count": null,
      "metadata": {
        "id": "6D38CaVyyWIU"
      },
      "outputs": [],
      "source": [
        "def class_balance_score(df_train_data, target_column, significance_level, print_details = False):\n",
        "\n",
        "    \"\"\"\n",
        "    This function computes the class balance metric.\n",
        "\n",
        "    Args:\n",
        "        df_train_dataset: pd.DataFrame training dataset on which the model was trained on.\n",
        "        significance_level: float\n",
        "        target_column: string\n",
        "\n",
        "    Returns:\n",
        "        1. Score\n",
        "\n",
        "    \"\"\"\n",
        "    absolute_class_occurences = df_train_data[target_column].value_counts().sort_index().to_numpy()\n",
        "\n",
        "    p_value = chisquare(absolute_class_occurences, ddof=0, axis=0).pvalue\n",
        "    if p_value < significance_level:\n",
        "        score = 1\n",
        "    else:\n",
        "        score = 5\n",
        "    \n",
        "    if print_details:\n",
        "        print(\"\\t absolute class occurences: \", absolute_class_occurences)\n",
        "        print(\"\\t p value: %.4f\" % p_value)\n",
        "        \n",
        "    return score"
      ]
    },
    {
      "cell_type": "code",
      "execution_count": null,
      "metadata": {
        "id": "YLmWT-KuyWIU"
      },
      "outputs": [],
      "source": [
        "########################\n",
        "#### Explainability ####\n",
        "########################"
      ]
    },
    {
      "cell_type": "code",
      "execution_count": null,
      "metadata": {
        "id": "zzjOJGzdyWIU"
      },
      "outputs": [],
      "source": [
        "#### Correlated Feature"
      ]
    },
    {
      "cell_type": "code",
      "execution_count": null,
      "metadata": {
        "id": "VGCEXwZ1yWIU"
      },
      "outputs": [],
      "source": [
        "def correlated_features_score(train_data, test_data, thresholds=[0.05, 0.16, 0.28, 0.4], target_column=None, high_cor=0.9, print_details=False):\n",
        "    \n",
        "    test_data = test_data.copy()\n",
        "    train_data = train_data.copy()\n",
        "    \n",
        "    df_comb = pd.concat([test_data, train_data])\n",
        "\n",
        "    corr_matrix = df_comb.corr().abs()\n",
        "\n",
        "    # Select upper triangle of correlation matrix\n",
        "    upper = corr_matrix.where(np.triu(np.ones(corr_matrix.shape), k=1).astype(np.bool))\n",
        "    \n",
        "    # Find features with correlation greater than 0.95\n",
        "    to_drop = [column for column in upper.columns if any(upper[column] > high_cor)]\n",
        "    \n",
        "    pct_drop = len(to_drop)/len(df_comb.columns)\n",
        "    \n",
        "    score = 5-np.digitize(pct_drop, thresholds, right=True) \n",
        "    \n",
        "    if print_details:\n",
        "        #print(\"\\t to drop\", to_drop)\n",
        "        print(\"\\t percentage drop: %.4f\" % pct_drop)\n",
        "    \n",
        "    return score"
      ]
    },
    {
      "cell_type": "code",
      "execution_count": null,
      "metadata": {
        "id": "0rDeSrNpyWIV"
      },
      "outputs": [],
      "source": [
        "def model_size_score(test_data, thresholds = np.array([10,30,100,500]), print_details = False):\n",
        "    \n",
        "    score = 5- np.digitize(test_data.shape[1] , thresholds, right=True) \n",
        "    \n",
        "    if print_details:\n",
        "        print(\"\\t num of features: \", test_data.shape[1])\n",
        "         \n",
        "    return score"
      ]
    },
    {
      "cell_type": "code",
      "execution_count": null,
      "metadata": {
        "id": "313Tum4FyWIV"
      },
      "outputs": [],
      "source": [
        "def permutation_feature_score(model, df_outliers_data, outlier_thresh, scaler, score_thresholds, print_details = False):\n",
        "    #compute outlier detection without permutation\n",
        "    scaled_outliers = scaler.transform(df_outliers_data)\n",
        "    accuracy_no_permutation = compute_outlier_ratio(model,scaled_outliers,outlier_thresh, print_details)\n",
        "\n",
        "    features = df_outliers_data.columns\n",
        "    shuffles = 3\n",
        "    feature_importance = {}\n",
        "    num_redundant_feat = 0\n",
        "\n",
        "    for feature in features:\n",
        "        feature_importance[feature] = []  \n",
        "        df_copy = df_outliers_data.copy()\n",
        "\n",
        "        for _ in range(shuffles):\n",
        "            #compute outlier detection with permutation\n",
        "            df_copy[feature] = np.random.permutation(df_outliers_data[feature])\n",
        "            scaled_outliers = scaler.transform(df_copy)\n",
        "            accuracy_permutation = compute_outlier_ratio(model,scaled_outliers, outlier_thresh, print_details)\n",
        "\n",
        "            diff = abs(accuracy_no_permutation-accuracy_permutation)\n",
        "            feature_importance[feature].append(diff)  \n",
        "            \n",
        "        feature_importance[feature] = statistics.mean(feature_importance[feature])\n",
        "        if (feature_importance[feature] == 0):\n",
        "            num_redundant_feat += 1\n",
        "            \n",
        "    \n",
        "    ratio_redundant_feat = num_redundant_feat/len(feature_importance)   \n",
        "    feature_importance_desc = list(dict(sorted(feature_importance.items(), key=lambda item: item[1])).keys())[::-1]\n",
        "    score = np.digitize(ratio_redundant_feat, score_thresholds, right=True)\n",
        "    \n",
        "    if print_details:\n",
        "        print(\"\\t num of redundant features: \", num_redundant_feat)\n",
        "        print(\"\\t percentage of redundant features: %.4f\" % ratio_redundant_feat)\n",
        "\n",
        "    return score"
      ]
    },
    {
      "cell_type": "code",
      "execution_count": null,
      "metadata": {
        "id": "U2ded8H-yWIV"
      },
      "outputs": [],
      "source": [
        ""
      ]
    },
    {
      "cell_type": "code",
      "execution_count": null,
      "metadata": {
        "id": "OiG_LAu_yWIV"
      },
      "outputs": [],
      "source": [
        "########################\n",
        "###### Robustness ######\n",
        "########################"
      ]
    },
    {
      "cell_type": "code",
      "execution_count": null,
      "metadata": {
        "id": "WUU3f5HPyWIV"
      },
      "outputs": [],
      "source": [
        "def clever_score(model, df_test_data, thresholds, print_details = False):\n",
        "    \"\"\"For a given Keras-NN model this function calculates the Untargeted-Clever score.\n",
        "    It uses clever_u function from IBM art library.\n",
        "    Returns a score according to the thresholds.\n",
        "        Args:\n",
        "            model: ML-model (Keras).\n",
        "            train_data: pd.DataFrame containing the data.\n",
        "            test_data: pd.DataFrame containing the data.\n",
        "            threshold: list of threshold values\n",
        "\n",
        "        Returns:\n",
        "            Clever score\n",
        "    \"\"\"\n",
        "    \n",
        "    try:\n",
        "        #X_test = test_data.iloc[:,:-1]\n",
        "        #X_train = train_data.iloc[:, :-1] #TODO\n",
        "        classifier = KerasClassifier(model, False)\n",
        "\n",
        "        min_score = 100\n",
        "\n",
        "        randomX = df_test_data.sample(10)\n",
        "        randomX = np.array(randomX)\n",
        "\n",
        "        for x in randomX:\n",
        "            temp = clever_u(classifier=classifier, x=x, nb_batches=1, batch_size=1, radius=500, norm=1)\n",
        "            if min_score > temp:\n",
        "                min_score = temp\n",
        "        score = np.digitize(min_score, thresholds) + 1\n",
        "        \n",
        "        if print_details:\n",
        "            print(\"\\t temp: \", temp)\n",
        "            print(\"\\t randomX: \", randomX)\n",
        "            \n",
        "        return score\n",
        "    \n",
        "    except Exception as e:\n",
        "        print(e)\n",
        "        print(\"clever score can only be computet on Keras models and possible loss function\")\n",
        "        return -1\n",
        "        \n",
        "    \n",
        "   "
      ]
    },
    {
      "cell_type": "code",
      "execution_count": null,
      "metadata": {
        "id": "ZHo128K_yWIV"
      },
      "outputs": [],
      "source": [
        "########################\n",
        "###### Methodology #####\n",
        "########################\n"
      ]
    },
    {
      "cell_type": "code",
      "execution_count": null,
      "metadata": {
        "id": "zJSvQRo9yWIV"
      },
      "outputs": [],
      "source": [
        "def normalization_score(train_data, test_data, mappings, print_details = False):\n",
        "    X_train = train_data\n",
        "    X_test = test_data\n",
        "    \n",
        "    train_mean = np.mean(np.mean(X_train))\n",
        "    train_std = np.mean(np.std(X_train))\n",
        "    test_mean = np.mean(np.mean(X_test))\n",
        "    test_std = np.mean(np.std(X_test))\n",
        "    if not (any(X_train < 0) or any(X_train > 1)) and not (any(X_test < 0) or any(X_test > 1)):\n",
        "        score = mappings[\"training_and_test_normal\"]\n",
        "    elif isclose(train_mean, 0, rel_tol=1e-3, abs_tol=1e-6) and isclose(train_std, 1, rel_tol=1e-3, abs_tol=1e-6) and (not isclose(test_mean, 0, rel_tol=1e-3, abs_tol=1e-6) and not isclose(test_std, 1, rel_tol=1e-3, abs_tol=1e-6)):\n",
        "        score = mappings[\"training_standardized\"]\n",
        "    elif isclose(train_mean, 0, rel_tol=1e-3, abs_tol=1e-6) and isclose(train_std, 1, rel_tol=1e-3, abs_tol=1e-6) and (isclose(test_mean, 0, rel_tol=1e-3, abs_tol=1e-6) and isclose(test_std, 1, rel_tol=1e-3, abs_tol=1e-6)):\n",
        "        score = mappings[\"training_and_test_standardize\"]\n",
        "    elif any(X_train < 0) or any(X_train > 1):\n",
        "        score = mappings[\"None\"]\n",
        "    elif not (any(X_train < 0) or any(X_train > 1)) and (any(X_test < 0) or any(X_test > 1)):\n",
        "        score = mappings[\"training_normal\"]\n",
        "    return score\n"
      ]
    },
    {
      "cell_type": "code",
      "execution_count": null,
      "metadata": {
        "id": "Y944_PZcyWIV"
      },
      "outputs": [],
      "source": [
        "def missing_data_score(training_dataset, test_dataset, mappings, print_details = False):\n",
        "    missing_values = training_dataset.isna().sum().sum() + test_dataset.isna().sum().sum()\n",
        "    if missing_values > 0:\n",
        "        score = mappings[\"null_values_exist\"]\n",
        "    else:\n",
        "        score = mappings[\"no_null_values\"]\n",
        "        \n",
        "    if print_details:\n",
        "        print(\"\\t missing values: \", missing_values)\n",
        "    return score\n",
        "\n"
      ]
    },
    {
      "cell_type": "code",
      "execution_count": null,
      "metadata": {
        "id": "qhGS6YAiyWIV"
      },
      "outputs": [],
      "source": [
        "def train_test_split_score(training_dataset, test_dataset, mappings, print_details = False):\n",
        "    training_data_ratio, test_data_ratio = train_test_split_metric(training_dataset, test_dataset)\n",
        "    for k in mappings.keys():\n",
        "        thresholds = re.findall(r'\\d+-\\d+', k)\n",
        "        for boundary in thresholds:\n",
        "            [a, b] = boundary.split(\"-\")\n",
        "            if training_data_ratio >= int(a) and training_data_ratio < int(b):\n",
        "                score = mappings[k]\n",
        "    if print_details:\n",
        "        print(\"\\t training data ratio: \", training_data_ratio)\n",
        "        print(\"\\t test data ratio: \", test_data_ratio)\n",
        "\n",
        "\n",
        "    return score\n"
      ]
    },
    {
      "cell_type": "code",
      "execution_count": null,
      "metadata": {
        "id": "QETQCVTqyWIV"
      },
      "outputs": [],
      "source": [
        "def regularization_score(factsheet, print_details = False):\n",
        "    regularization = regularization_metric(factsheet)\n",
        "    \n",
        "    if regularization == \"elasticnet_regression\":\n",
        "        score = 5\n",
        "    elif regularization == \"lasso_regression\" or regularization == \"lasso_regression\":\n",
        "        score = 4\n",
        "    elif regularization == \"Other\":\n",
        "        score = 3\n",
        "    elif regularization == \"NOT_SPECIFIED\":\n",
        "        score = np.nan\n",
        "    else:\n",
        "        score = 1\n",
        "        \n",
        "    if print_details:\n",
        "        print(\"\\t regularization: \", regularization)\n",
        "    return score\n"
      ]
    },
    {
      "cell_type": "code",
      "execution_count": null,
      "metadata": {
        "id": "PCE2jsuOyWIV"
      },
      "outputs": [],
      "source": [
        "def factsheet_completeness_score(factsheet):\n",
        "    score = 0\n",
        "    GENERAL_INPUTS = [\"model_name\", \"purpose_description\", \"domain_description\", \"training_data_description\", \"model_information\", \"authors\", \"contact_information\"]\n",
        "\n",
        "\n",
        "    n = len(GENERAL_INPUTS)\n",
        "    ctr = 0\n",
        "    for e in GENERAL_INPUTS:\n",
        "        if \"general\" in factsheet and e in factsheet[\"general\"]:\n",
        "            ctr+=1\n",
        "    score = round(ctr/n*5)\n",
        "    return score\n"
      ]
    },
    {
      "cell_type": "code",
      "execution_count": null,
      "metadata": {
        "id": "ptB4Yd9iyWIW"
      },
      "outputs": [],
      "source": [
        ""
      ]
    },
    {
      "cell_type": "code",
      "execution_count": null,
      "metadata": {
        "id": "Gm8SkHmYyWIW",
        "colab": {
          "base_uri": "https://localhost:8080/"
        },
        "outputId": "e8b5b057-9b3d-492c-e3c5-f77f320f022e"
      },
      "outputs": [
        {
          "output_type": "stream",
          "name": "stderr",
          "text": [
            "/usr/local/lib/python3.7/dist-packages/pandas/core/frame.py:4913: SettingWithCopyWarning: \n",
            "A value is trying to be set on a copy of a slice from a DataFrame\n",
            "\n",
            "See the caveats in the documentation: https://pandas.pydata.org/pandas-docs/stable/user_guide/indexing.html#returning-a-view-versus-a-copy\n",
            "  errors=errors,\n"
          ]
        }
      ],
      "source": [
        "df_fakepsd=pd.read_csv(\"./Datasets/rp3_fakePSD.csv\")\n",
        "df_sendout=pd.read_csv(\"./Datasets/rp3_sendOut.csv\")\n",
        "df_write=pd.read_csv(\"./Datasets/rp3_write.csv\")\n",
        "df_random=pd.read_csv(\"./Datasets/rp3_random.csv\")\n",
        "df_exchange=pd.read_csv(\"./Datasets/rp3_exchange.csv\")\n",
        "df_hide=pd.read_csv(\"./Datasets/rp3_hide.csv\")\n",
        "\n",
        "df_fakepsd_1 = df_fakepsd.loc[(df_fakepsd['timestamp'] >= 1615452439000) & (df_fakepsd['timestamp'] <= 1615478400000)]\n",
        "df_fakepsd_2 = df_fakepsd.loc[(df_fakepsd['timestamp'] >= 1615479600000) & (df_fakepsd['timestamp'] <= 1615485600000)]\n",
        "df_sendout_1 = df_sendout.loc[(df_sendout['timestamp'] >= 1615795500000) & (df_sendout['timestamp'] <= 1615805280000)]\n",
        "df_sendout_2 = df_sendout.loc[(df_sendout['timestamp'] >= 1615806000000) & (df_sendout['timestamp'] <= 1615809600000)]\n",
        "df_write = df_write.loc[(df_write['timestamp'] >= 1615834554000) & (df_write['timestamp'] <= 1615843200000)]\n",
        "df_random = df_random.loc[(df_random['timestamp'] >= 1615913848000) & (df_random['timestamp'] <= 1615922405000)]\n",
        "df_exchange = df_exchange.loc[(df_exchange['timestamp'] >= 1616585145000) & (df_exchange['timestamp'] <= 1616589463000)]\n",
        "df_hide = df_hide.loc[(df_hide['timestamp'] >= 1616672277000) & (df_hide['timestamp'] <= 1616676574000)]\n",
        "\n",
        "df_fakepsd = pd.concat([df_fakepsd_1, df_fakepsd_2])\n",
        "df_sendout = pd.concat([df_sendout_1, df_sendout_2])\n",
        "\n",
        "df_fakepsd = df_fakepsd.loc[(df_fakepsd['connectivity']==1)]\n",
        "df_sendout = df_sendout.loc[(df_sendout['connectivity']==1)]\n",
        "df_write = df_write.loc[(df_write['connectivity']==1)]\n",
        "df_exchange = df_exchange.loc[(df_exchange['connectivity']==1)]\n",
        "df_random = df_random.loc[(df_random['connectivity']==1)]\n",
        "df_hide = df_hide.loc[(df_hide['connectivity']==1)]\n",
        "\n",
        "df_fakepsd.drop(['time','timestamp'],axis=1,inplace=True)\n",
        "df_sendout.drop(['time','timestamp'],axis=1,inplace=True)\n",
        "df_write.drop(['time','timestamp'],axis=1,inplace=True)\n",
        "df_random.drop(['time','timestamp'],axis=1,inplace=True)\n",
        "df_exchange.drop(['time','timestamp'],axis=1,inplace=True)\n",
        "df_hide.drop(['time','timestamp'],axis=1,inplace=True)\n",
        "\n",
        "df_fakepsd = df_fakepsd[df_fakepsd.columns.intersection(feat_list)]\n",
        "df_sendout = df_sendout[df_sendout.columns.intersection(feat_list)]\n",
        "df_write = df_write[df_write.columns.intersection(feat_list)]\n",
        "df_random = df_random[df_random.columns.intersection(feat_list)]\n",
        "df_exchange = df_exchange[df_exchange.columns.intersection(feat_list)]\n",
        "df_hide = df_hide[df_hide.columns.intersection(feat_list)]"
      ]
    },
    {
      "cell_type": "code",
      "execution_count": null,
      "metadata": {
        "id": "c-tVVDabyWIW"
      },
      "outputs": [],
      "source": [
        "df_outliers_data = pd.concat([df_exchange,df_fakepsd,df_hide,df_random,df_sendout,df_write])\n",
        "outliers_data = scaler.transform(df_outliers_data)\n"
      ]
    },
    {
      "cell_type": "code",
      "execution_count": null,
      "metadata": {
        "colab": {
          "base_uri": "https://localhost:8080/"
        },
        "id": "YjZp-vrYyWIW",
        "outputId": "110b03a6-2883-46ae-9010-015c97a3eb5a"
      },
      "outputs": [
        {
          "output_type": "stream",
          "name": "stderr",
          "text": [
            "/usr/local/lib/python3.7/dist-packages/keras/engine/training_v1.py:2079: UserWarning: `Model.state_updates` will be removed in a future version. This property should not be used in TensorFlow 2.0, as `updates` are applied automatically.\n",
            "  updates=self.state_updates,\n"
          ]
        }
      ],
      "source": [
        "autoencoder = load_model('best_model.h5')\n",
        "thresh = get_threshold_mse_iqr(autoencoder,X_train)\n",
        "my_scaler = scaler"
      ]
    },
    {
      "cell_type": "code",
      "source": [
        "metrics_dict = {\n",
        "    \"fairness\": {\n",
        "        \"accuracy\": -1,\n",
        "        \"underfitting\": -1,\n",
        "        \"overfitting\": -1,\n",
        "        \"statistical_parity_diff\": -1,\n",
        "        \"disp_impact\": -1,\n",
        "        \"class_balance\": -1,\n",
        "    },\n",
        "    \"explainability\": {\n",
        "        \"corr_feature\": -1,\n",
        "        \"model_size\": -1,\n",
        "        \"perm_feat\": -1,\n",
        "    },\n",
        "    \"robustness\": {\n",
        "        \"clever_score\": -1,\n",
        "    },\n",
        "    \"methodology\": {\n",
        "        \"normalization\": -1,\n",
        "        \"missing_data\": -1,\n",
        "        \"regularization\": -1,\n",
        "        \"train_test_split\": -1,\n",
        "        \"factsheet_compl\": -1,\n",
        "    },\n",
        "}"
      ],
      "metadata": {
        "id": "izCCBhCLE59k"
      },
      "execution_count": null,
      "outputs": []
    },
    {
      "cell_type": "code",
      "execution_count": null,
      "metadata": {
        "id": "2iBVNFZAyWIW"
      },
      "outputs": [],
      "source": [
        "def computeAll(model, print_details = False):\n",
        "    score_dict = metrics_dict\n",
        "    if print_details:\n",
        "      print(\"\\n*************************************************************************\")\n",
        "      print(\"******************************** Fairness *******************************\")\n",
        "      print(\"*************************************************************************\\n\")\n",
        "\n",
        "    score_thresh = [0.80, 0.85, 0.90, 0.95]\n",
        "    #accuracy = accuracy_score(autoencoder, X_outliers6, thresh, score_thresh)\n",
        "    accuracy = accuracy_score(model, outliers_data, thresh, score_thresh, print_details)\n",
        "    if print_details:\n",
        "      print(\"Accuracy Score -----------> \", accuracy)\n",
        "      print(\"==========================================================\")\n",
        "    score_dict[\"fairness\"][\"accuracy\"] = accuracy\n",
        "\n",
        "    score_thresh = [0.80, 0.85, 0.90, 0.95]\n",
        "    outlier_percentage = 0.1\n",
        "    #TODO use evaluation data as test data\n",
        "    #compare outlier detection perc of train and validation data\n",
        "    ### BEFORE: underfitting = underfitting_score(autoencoder, X_train, outlier_percentage, thresh, score_thresh, True)\n",
        "    underfitting = underfitting_score(model, X_train, outlier_percentage, thresh, score_thresh, print_details)\n",
        "    if print_details:\n",
        "      print(\"Underfitting Score -----------> \", underfitting)\n",
        "      print(\"==========================================================\")\n",
        "    score_dict[\"fairness\"][\"underfitting\"] = underfitting\n",
        "\n",
        "    score_thresh = [0.04,0.03,0.02,0.01,0]\n",
        "    outlier_percentage = 0.1\n",
        "    #overfitting = overfitting_score(model, X_train, X_outliers6, outlier_percentage, thresh, score_thresh, True)\n",
        "    #compare train, test, outlier\n",
        "    overfitting = overfitting_score(model, X_train, outliers_data, outlier_percentage, thresh, score_thresh, print_details)\n",
        "    if print_details: \n",
        "      print(\"Overfitting Score -----------> \", overfitting)\n",
        "      print(\"==========================================================\")\n",
        "    score_dict[\"fairness\"][\"overfitting\"] = overfitting\n",
        "\n",
        "    score_thresh = [0.075, 0.050, 0.025, 0.01, 0]\n",
        "    protected_feature, protected_values = load_fairness_config(factsheet)\n",
        "    stat_par_score = statisical_parity_difference_score(model, df_X_train, my_scaler, protected_feature, protected_values,score_thresh, print_details)\n",
        "    if print_details: \n",
        "      print(\"Statistical Parity Difference Score -----------> \", stat_par_score)\n",
        "      print(\"==========================================================\")\n",
        "    score_dict[\"fairness\"][\"statistical_parity_diff\"] = stat_par_score\n",
        "\n",
        "\n",
        "    score_thresh = [0.80,0.85,0.90,0.95]\n",
        "    protected_feature, protected_values = load_fairness_config(factsheet)\n",
        "    disp_imp_score = disparate_impact_score(model, df_X_train, my_scaler, protected_feature, protected_values,score_thresh, print_details)\n",
        "    if print_details:\n",
        "      print(\"Disparate Impact Score -----------> \", disp_imp_score)\n",
        "      print(\"==========================================================\")\n",
        "    score_dict[\"fairness\"][\"disp_impact\"] = disp_imp_score\n",
        "\n",
        "    significance_level = 0.05\n",
        "    target_column =  \"seconds\" #\"writeback:writeback_dirty_inode_enqueue\" #\"block:block_touch_buffer\"\n",
        "    class_balance = class_balance_score(df_X_train, target_column, significance_level, print_details)\n",
        "    if print_details:\n",
        "      print(\"Class Balance Score -----------> \", class_balance)\n",
        "      print(\"==========================================================\")\n",
        "    score_dict[\"fairness\"][\"class_balance\"] = class_balance\n",
        "\n",
        "    if print_details:\n",
        "      print(\"\\n*************************************************************************\")\n",
        "      print(\"***************************** Explainability ****************************\")\n",
        "      print(\"*************************************************************************\\n\")\n",
        "\n",
        "    high_corr = 0.05\n",
        "    thresholds=[0.05, 0.16, 0.28, 0.4]\n",
        "    corr_feat_score = correlated_features_score(df_X_train, df_outliers_data, thresholds, None, high_corr, print_details)\n",
        "    if print_details:\n",
        "      print(\"Correlated Features Score -----------> \", corr_feat_score)\n",
        "      print(\"==========================================================\")\n",
        "    score_dict[\"explainability\"][\"corr_feature\"] = corr_feat_score\n",
        "\n",
        "\n",
        "    thresholds = np.array([10,30,100,500])\n",
        "    model_size = model_size_score(df_X_train, thresholds, print_details)\n",
        "    if print_details:\n",
        "      print(\"Model Size Score -----------> \", model_size)\n",
        "      print(\"==========================================================\")\n",
        "    score_dict[\"explainability\"][\"model_size\"] = model_size\n",
        "\n",
        "\n",
        "    thresholds = [0.4,0.3,0.2,0.1,0]\n",
        "    perm_feat_score = permutation_feature_score(model, df_outliers_data, thresh, scaler, thresholds, print_details)\n",
        "    if print_details:\n",
        "      print(\"Permutation Feature Score -----------> \", perm_feat_score)\n",
        "      print(\"==========================================================\")\n",
        "    score_dict[\"explainability\"][\"perm_feat\"] = perm_feat_score\n",
        "\n",
        "    '''\n",
        "    if print_details:\n",
        "      print(\"\\n*************************************************************************\")\n",
        "      print(\"***************************** Robustness ****************************\")\n",
        "      print(\"*************************************************************************\\n\")\n",
        "\n",
        "    thresholds = [0.2,0.5,1,2.5]\n",
        "    clev_score = clever_score(model, df_outliers_data, thresholds,print_details)\n",
        "    if print_details:\n",
        "      print(\"Clever Score -----------> \", clev_score)\n",
        "      print(\"==========================================================\")\n",
        "    '''\n",
        "    if print_details:\n",
        "      print(\"\\n*************************************************************************\")\n",
        "      print(\"******************************* Methodology *****************************\")\n",
        "      print(\"*************************************************************************\\n\")\n",
        "\n",
        "    methodology_mappings = mappings[\"methodology\"][\"score_normalization\"][\"mappings\"][\"value\"]\n",
        "    norm_score = normalization_score(df_X_train, df_X_test, methodology_mappings, print_details)\n",
        "    if print_details:  \n",
        "      print(\"Normalization Score -----------> \", norm_score)\n",
        "      print(\"==========================================================\")\n",
        "    score_dict[\"methodology\"][\"normalization\"] = norm_score\n",
        "\n",
        "\n",
        "    missing_data_mapping = mappings[\"methodology\"][\"score_missing_data\"][\"mappings\"][\"value\"]\n",
        "    miss_data = missing_data_score(df_X_test, df_X_train, missing_data_mapping, print_details)\n",
        "    if print_details:\n",
        "      print(\"Missing Data Score -----------> \", miss_data)\n",
        "      print(\"==========================================================\")\n",
        "    score_dict[\"methodology\"][\"missing_data\"] = miss_data\n",
        "\n",
        "\n",
        "    train_test_split_mapping = mappings[\"methodology\"][\"score_train_test_split\"][\"mappings\"][\"value\"]\n",
        "    train_test_score = train_test_split_score(df_X_train, df_X_test, train_test_split_mapping, print_details)\n",
        "    if print_details:\n",
        "      print(\"Train Test Split Score -----------> \", train_test_score)\n",
        "      print(\"==========================================================\")\n",
        "    score_dict[\"methodology\"][\"train_test_split\"] = train_test_score\n",
        "\n",
        "\n",
        "    reg_score = regularization_score(factsheet, print_details)\n",
        "    if print_details:\n",
        "      print(\"Regularization Score -----------> \", reg_score)\n",
        "      print(\"==========================================================\")\n",
        "    score_dict[\"methodology\"][\"regularization\"] = reg_score\n",
        "\n",
        "    factsheet_compl_score = factsheet_completeness_score(factsheet)\n",
        "    if print_details:\n",
        "      print(\"Factsheet Completeness Score -----------> \", factsheet_compl_score)\n",
        "      print(\"==========================================================\")\n",
        "    score_dict[\"methodology\"][\"factsheet_compl\"] = factsheet_compl_score\n",
        "\n",
        "    \n",
        "    return score_dict\n"
      ]
    },
    {
      "cell_type": "code",
      "execution_count": null,
      "metadata": {
        "collapsed": true,
        "colab": {
          "base_uri": "https://localhost:8080/"
        },
        "id": "hRNVMjfDyWIW",
        "outputId": "2abbce1e-e89d-4f44-9f9f-9af635a15a18"
      },
      "outputs": [
        {
          "output_type": "stream",
          "name": "stderr",
          "text": [
            "/usr/local/lib/python3.7/dist-packages/ipykernel_launcher.py:11: DeprecationWarning: `np.bool` is a deprecated alias for the builtin `bool`. To silence this warning, use `bool` by itself. Doing this will not modify any behavior and is safe. If you specifically wanted the numpy scalar type, use `np.bool_` here.\n",
            "Deprecated in NumPy 1.20; for more details and guidance: https://numpy.org/devdocs/release/1.20.0-notes.html#deprecations\n",
            "  # This is added back by InteractiveShellApp.init_path()\n"
          ]
        },
        {
          "output_type": "execute_result",
          "data": {
            "text/plain": [
              "{'explainability': {'corr_feature': 1, 'model_size': 3, 'perm_feat': 4},\n",
              " 'fairness': {'accuracy': 4,\n",
              "  'class_balance': 5,\n",
              "  'disp_impact': 5,\n",
              "  'overfitting': -1,\n",
              "  'statistical_parity_diff': 2,\n",
              "  'underfitting': 2},\n",
              " 'methodology': {'factsheet_compl': 5,\n",
              "  'missing_data': 5,\n",
              "  'normalization': 1,\n",
              "  'regularization': 1,\n",
              "  'train_test_split': 1},\n",
              " 'robustness': {'clever_score': -1}}"
            ]
          },
          "metadata": {},
          "execution_count": 113
        }
      ],
      "source": [
        "#computeAll(autoencoder, False)"
      ]
    },
    {
      "cell_type": "code",
      "execution_count": null,
      "metadata": {
        "colab": {
          "base_uri": "https://localhost:8080/"
        },
        "id": "GEpWUtDlyWIW",
        "outputId": "a1f21b93-576a-4e70-91d5-c1bc09b93311"
      },
      "outputs": [
        {
          "output_type": "stream",
          "name": "stderr",
          "text": [
            "/usr/local/lib/python3.7/dist-packages/ipykernel_launcher.py:11: DeprecationWarning: `np.bool` is a deprecated alias for the builtin `bool`. To silence this warning, use `bool` by itself. Doing this will not modify any behavior and is safe. If you specifically wanted the numpy scalar type, use `np.bool_` here.\n",
            "Deprecated in NumPy 1.20; for more details and guidance: https://numpy.org/devdocs/release/1.20.0-notes.html#deprecations\n",
            "  # This is added back by InteractiveShellApp.init_path()\n",
            "/usr/local/lib/python3.7/dist-packages/keras/engine/training_v1.py:2079: UserWarning: `Model.state_updates` will be removed in a future version. This property should not be used in TensorFlow 2.0, as `updates` are applied automatically.\n",
            "  updates=self.state_updates,\n",
            "/usr/local/lib/python3.7/dist-packages/ipykernel_launcher.py:11: DeprecationWarning: `np.bool` is a deprecated alias for the builtin `bool`. To silence this warning, use `bool` by itself. Doing this will not modify any behavior and is safe. If you specifically wanted the numpy scalar type, use `np.bool_` here.\n",
            "Deprecated in NumPy 1.20; for more details and guidance: https://numpy.org/devdocs/release/1.20.0-notes.html#deprecations\n",
            "  # This is added back by InteractiveShellApp.init_path()\n",
            "/usr/local/lib/python3.7/dist-packages/ipykernel_launcher.py:11: DeprecationWarning: `np.bool` is a deprecated alias for the builtin `bool`. To silence this warning, use `bool` by itself. Doing this will not modify any behavior and is safe. If you specifically wanted the numpy scalar type, use `np.bool_` here.\n",
            "Deprecated in NumPy 1.20; for more details and guidance: https://numpy.org/devdocs/release/1.20.0-notes.html#deprecations\n",
            "  # This is added back by InteractiveShellApp.init_path()\n",
            "/usr/local/lib/python3.7/dist-packages/ipykernel_launcher.py:11: DeprecationWarning: `np.bool` is a deprecated alias for the builtin `bool`. To silence this warning, use `bool` by itself. Doing this will not modify any behavior and is safe. If you specifically wanted the numpy scalar type, use `np.bool_` here.\n",
            "Deprecated in NumPy 1.20; for more details and guidance: https://numpy.org/devdocs/release/1.20.0-notes.html#deprecations\n",
            "  # This is added back by InteractiveShellApp.init_path()\n",
            "/usr/local/lib/python3.7/dist-packages/ipykernel_launcher.py:11: DeprecationWarning: `np.bool` is a deprecated alias for the builtin `bool`. To silence this warning, use `bool` by itself. Doing this will not modify any behavior and is safe. If you specifically wanted the numpy scalar type, use `np.bool_` here.\n",
            "Deprecated in NumPy 1.20; for more details and guidance: https://numpy.org/devdocs/release/1.20.0-notes.html#deprecations\n",
            "  # This is added back by InteractiveShellApp.init_path()\n",
            "/usr/local/lib/python3.7/dist-packages/ipykernel_launcher.py:11: DeprecationWarning: `np.bool` is a deprecated alias for the builtin `bool`. To silence this warning, use `bool` by itself. Doing this will not modify any behavior and is safe. If you specifically wanted the numpy scalar type, use `np.bool_` here.\n",
            "Deprecated in NumPy 1.20; for more details and guidance: https://numpy.org/devdocs/release/1.20.0-notes.html#deprecations\n",
            "  # This is added back by InteractiveShellApp.init_path()\n",
            "/usr/local/lib/python3.7/dist-packages/ipykernel_launcher.py:11: DeprecationWarning: `np.bool` is a deprecated alias for the builtin `bool`. To silence this warning, use `bool` by itself. Doing this will not modify any behavior and is safe. If you specifically wanted the numpy scalar type, use `np.bool_` here.\n",
            "Deprecated in NumPy 1.20; for more details and guidance: https://numpy.org/devdocs/release/1.20.0-notes.html#deprecations\n",
            "  # This is added back by InteractiveShellApp.init_path()\n"
          ]
        },
        {
          "output_type": "stream",
          "name": "stdout",
          "text": [
            "WARNING:tensorflow:No training configuration found in save file, so the model was *not* compiled. Compile it manually.\n"
          ]
        },
        {
          "output_type": "stream",
          "name": "stderr",
          "text": [
            "/usr/local/lib/python3.7/dist-packages/keras/engine/training_v1.py:2079: UserWarning: `Model.state_updates` will be removed in a future version. This property should not be used in TensorFlow 2.0, as `updates` are applied automatically.\n",
            "  updates=self.state_updates,\n",
            "/usr/local/lib/python3.7/dist-packages/ipykernel_launcher.py:11: DeprecationWarning: `np.bool` is a deprecated alias for the builtin `bool`. To silence this warning, use `bool` by itself. Doing this will not modify any behavior and is safe. If you specifically wanted the numpy scalar type, use `np.bool_` here.\n",
            "Deprecated in NumPy 1.20; for more details and guidance: https://numpy.org/devdocs/release/1.20.0-notes.html#deprecations\n",
            "  # This is added back by InteractiveShellApp.init_path()\n",
            "/usr/local/lib/python3.7/dist-packages/keras/engine/training_v1.py:2079: UserWarning: `Model.state_updates` will be removed in a future version. This property should not be used in TensorFlow 2.0, as `updates` are applied automatically.\n",
            "  updates=self.state_updates,\n",
            "/usr/local/lib/python3.7/dist-packages/ipykernel_launcher.py:11: DeprecationWarning: `np.bool` is a deprecated alias for the builtin `bool`. To silence this warning, use `bool` by itself. Doing this will not modify any behavior and is safe. If you specifically wanted the numpy scalar type, use `np.bool_` here.\n",
            "Deprecated in NumPy 1.20; for more details and guidance: https://numpy.org/devdocs/release/1.20.0-notes.html#deprecations\n",
            "  # This is added back by InteractiveShellApp.init_path()\n",
            "/usr/local/lib/python3.7/dist-packages/ipykernel_launcher.py:11: DeprecationWarning: `np.bool` is a deprecated alias for the builtin `bool`. To silence this warning, use `bool` by itself. Doing this will not modify any behavior and is safe. If you specifically wanted the numpy scalar type, use `np.bool_` here.\n",
            "Deprecated in NumPy 1.20; for more details and guidance: https://numpy.org/devdocs/release/1.20.0-notes.html#deprecations\n",
            "  # This is added back by InteractiveShellApp.init_path()\n"
          ]
        }
      ],
      "source": [
        "outlier_percentage = 0.1\n",
        "outlier_thresh = get_threshold_mse_iqr(autoencoder,X_train)\n",
        "protected_feature, protected_values = load_fairness_config(factsheet)\n",
        "my_scaler = scaler\n",
        "significance_level = 0.05\n",
        "target_column =  \"seconds\" #\"writeback:writeback_dirty_inode_enqueue\" #\"block:block_touch_buffer\"\n",
        "high_corr = 0.05\n",
        "methodology_mappings = mappings[\"methodology\"][\"score_normalization\"][\"mappings\"][\"value\"]\n",
        "missing_data_mapping = mappings[\"methodology\"][\"score_missing_data\"][\"mappings\"][\"value\"]\n",
        "train_test_split_mapping = mappings[\"methodology\"][\"score_train_test_split\"][\"mappings\"][\"value\"]\n",
        "\n",
        "clf_scores_dict = {}\n",
        "'''\n",
        "for clf_name, clf in classifiers.items():\n",
        "  score_dict = metrics_dict\n",
        "  clf = load(clf_name + \".joblib\")\n",
        "\n",
        "  score_dict[\"fairness\"][\"underfitting\"] = underfitting_score(clf, X_train, 0.1, thresh, [0.80, 0.85, 0.90, 0.95], False)\n",
        "  score_dict[\"fairness\"][\"accuracy\"] = accuracy_score(clf,outliers_data,outlier_thresh,[0.80, 0.85, 0.90, 0.95],False)\n",
        "  score_dict[\"fairness\"][\"overfitting\"] = overfitting_score(clf, X_train, outliers_data, outlier_percentage, outlier_thresh, [0.04,0.03,0.02,0.01,0], False)  \n",
        "  score_dict[\"fairness\"][\"statistical_parity_diff\"] = statisical_parity_difference_score(clf, df_X_train, my_scaler, protected_feature, protected_values,[0.075, 0.050, 0.025, 0.01, 0], False)\n",
        "  score_dict[\"fairness\"][\"disp_impact\"] = disparate_impact_score(clf, df_X_train, my_scaler, protected_feature, protected_values,[0.80,0.85,0.90,0.95], False)\n",
        "  score_dict[\"fairness\"][\"class_balance\"] = class_balance_score(df_X_train, target_column, significance_level, False)\n",
        "  score_dict[\"explainability\"][\"corr_feature\"] = correlated_features_score(df_X_train, df_outliers_data, [0.05, 0.16, 0.28, 0.4], None, high_corr, False)\n",
        "  score_dict[\"explainability\"][\"model_size\"] = model_size_score(df_X_train, np.array([10,30,100,500]), False)\n",
        "  score_dict[\"explainability\"][\"perm_feat\"] = permutation_feature_score(clf, df_outliers_data, thresh, scaler, [0.4,0.3,0.2,0.1,0], False)\n",
        "  #score_dict[\"robustness\"][\"clever_score\"] = clever_score(model, df_outliers_data, [0.2,0.5,1,2.5],False)\n",
        "  score_dict[\"methodology\"][\"normalization\"] = normalization_score(df_X_train, df_X_test, methodology_mappings, False)\n",
        "  score_dict[\"methodology\"][\"missing_data\"] = missing_data_score(df_X_test, df_X_train, missing_data_mapping, False)\n",
        "  score_dict[\"methodology\"][\"train_test_split\"] = train_test_split_score(df_X_train, df_X_test, train_test_split_mapping, False)\n",
        "  score_dict[\"methodology\"][\"regularization\"] = regularization_score(factsheet, False)\n",
        "  score_dict[\"methodology\"][\"factsheet_compl\"] = factsheet_completeness_score(factsheet)\n",
        "\n",
        "  clf_scores_dict[clf_name] = score_dict\n",
        "  \n",
        "'''\n"
      ]
    },
    {
      "cell_type": "code",
      "source": [
        ""
      ],
      "metadata": {
        "id": "uAsmQXQ9y3A9"
      },
      "execution_count": null,
      "outputs": []
    },
    {
      "cell_type": "code",
      "execution_count": null,
      "metadata": {
        "id": "-JQfNBLgyWIX",
        "colab": {
          "base_uri": "https://localhost:8080/",
          "height": 191
        },
        "outputId": "295b8f84-6300-4c85-85ea-92e52784657f"
      },
      "outputs": [
        {
          "output_type": "execute_result",
          "data": {
            "text/plain": [
              "'\\ndef carlini_wagner_attack_score(model, test_data, outlier_thresh, thresholds, print_details = False):\\n    randomData = test_data.sample(5)\\n    randomX = randomData # randomX = randomData.iloc[:,:-1]\\n\\n    mad_outliers = detect_outliers(autoencoder, X_test, outlier_thresh) #y_pred = model.predict(randomX)\\n    unique_elements, counts_elements = np.unique(mad_outliers, return_counts=True)\\n\\n    before_attack = compute_accuracy(unique_elements, counts_elements) #metrics.accuracy_score(randomY,y_pred)\\n    print(\"hello\")\\n\\n\\n    #classifier = SklearnClassifier(model=model)\\n    classifier = BlackBoxClassifierNeuralNetwork\\n    print(\"velo\")\\n\\n\\n\\n    attack = CarliniL2Method(classifier)\\n    x_test_adv = attack.generate(x=randomX)\\n\\n    #enc = OneHotEncoder(handle_unknown=\\'ignore\\')\\n    #enc.fit(test_data.iloc[:,-1: ])\\n    #randomY = enc.transform(randomY).toarray()\\n\\n    mad_outliers = detect_outliers(autoencoder, x_test_adv, outlier_thresh) #y_pred = model.predict(randomX)\\n    unique_elements, counts_elements = np.unique(mad_outliers, return_counts=True)\\n\\n    #predictions = model.predict(x_test_adv)\\n    #predictions = enc.transform(predictions.reshape(-1,1)).toarray()\\n    after_attack = compute_accuracy(unique_elements, counts_elements) #after_attack = metrics.accuracy_score(randomY,predictions)\\n    res = (before_attack - after_attack)/before_attack*100\\n    print(before_attack)\\n    print(after_attack)\\n    print(res)\\n    score = np.digitize(res, thresholds) + 1\\n    return score\\n'"
            ],
            "application/vnd.google.colaboratory.intrinsic+json": {
              "type": "string"
            }
          },
          "metadata": {},
          "execution_count": 115
        }
      ],
      "source": [
        "'''\n",
        "def carlini_wagner_attack_score(model, test_data, outlier_thresh, thresholds, print_details = False):\n",
        "    randomData = test_data.sample(5)\n",
        "    randomX = randomData # randomX = randomData.iloc[:,:-1]\n",
        "\n",
        "    mad_outliers = detect_outliers(autoencoder, X_test, outlier_thresh) #y_pred = model.predict(randomX)\n",
        "    unique_elements, counts_elements = np.unique(mad_outliers, return_counts=True)\n",
        "\n",
        "    before_attack = compute_accuracy(unique_elements, counts_elements) #metrics.accuracy_score(randomY,y_pred)\n",
        "    print(\"hello\")\n",
        "\n",
        "\n",
        "    #classifier = SklearnClassifier(model=model)\n",
        "    classifier = BlackBoxClassifierNeuralNetwork\n",
        "    print(\"velo\")\n",
        "\n",
        "\n",
        "\n",
        "    attack = CarliniL2Method(classifier)\n",
        "    x_test_adv = attack.generate(x=randomX)\n",
        "\n",
        "    #enc = OneHotEncoder(handle_unknown='ignore')\n",
        "    #enc.fit(test_data.iloc[:,-1: ])\n",
        "    #randomY = enc.transform(randomY).toarray()\n",
        "\n",
        "    mad_outliers = detect_outliers(autoencoder, x_test_adv, outlier_thresh) #y_pred = model.predict(randomX)\n",
        "    unique_elements, counts_elements = np.unique(mad_outliers, return_counts=True)\n",
        "\n",
        "    #predictions = model.predict(x_test_adv)\n",
        "    #predictions = enc.transform(predictions.reshape(-1,1)).toarray()\n",
        "    after_attack = compute_accuracy(unique_elements, counts_elements) #after_attack = metrics.accuracy_score(randomY,predictions)\n",
        "    res = (before_attack - after_attack)/before_attack*100\n",
        "    print(before_attack)\n",
        "    print(after_attack)\n",
        "    print(res)\n",
        "    score = np.digitize(res, thresholds) + 1\n",
        "    return score\n",
        "'''\n"
      ]
    },
    {
      "cell_type": "code",
      "execution_count": null,
      "metadata": {
        "id": "3-w5bJ65yWIX"
      },
      "outputs": [],
      "source": [
        "#thresholds = [80,60,40,20]\n",
        "#asdf = carlini_wagner_attack_score(autoencoder, df_outliers_data, thresh, thresholds, True)"
      ]
    },
    {
      "cell_type": "code",
      "execution_count": null,
      "metadata": {
        "colab": {
          "base_uri": "https://localhost:8080/",
          "height": 173
        },
        "id": "sGMSpLt_yWIX",
        "outputId": "edbda70c-832c-45da-a951-1c5609491a75"
      },
      "outputs": [
        {
          "output_type": "execute_result",
          "data": {
            "text/plain": [
              "   a  b  c\n",
              "0  1  2  3\n",
              "1  4  5  6\n",
              "2  7  8  9\n",
              "3  1  2  3"
            ],
            "text/html": [
              "\n",
              "  <div id=\"df-c1ad2dbc-8116-4bee-97b7-89cd7cd0c4cd\">\n",
              "    <div class=\"colab-df-container\">\n",
              "      <div>\n",
              "<style scoped>\n",
              "    .dataframe tbody tr th:only-of-type {\n",
              "        vertical-align: middle;\n",
              "    }\n",
              "\n",
              "    .dataframe tbody tr th {\n",
              "        vertical-align: top;\n",
              "    }\n",
              "\n",
              "    .dataframe thead th {\n",
              "        text-align: right;\n",
              "    }\n",
              "</style>\n",
              "<table border=\"1\" class=\"dataframe\">\n",
              "  <thead>\n",
              "    <tr style=\"text-align: right;\">\n",
              "      <th></th>\n",
              "      <th>a</th>\n",
              "      <th>b</th>\n",
              "      <th>c</th>\n",
              "    </tr>\n",
              "  </thead>\n",
              "  <tbody>\n",
              "    <tr>\n",
              "      <th>0</th>\n",
              "      <td>1</td>\n",
              "      <td>2</td>\n",
              "      <td>3</td>\n",
              "    </tr>\n",
              "    <tr>\n",
              "      <th>1</th>\n",
              "      <td>4</td>\n",
              "      <td>5</td>\n",
              "      <td>6</td>\n",
              "    </tr>\n",
              "    <tr>\n",
              "      <th>2</th>\n",
              "      <td>7</td>\n",
              "      <td>8</td>\n",
              "      <td>9</td>\n",
              "    </tr>\n",
              "    <tr>\n",
              "      <th>3</th>\n",
              "      <td>1</td>\n",
              "      <td>2</td>\n",
              "      <td>3</td>\n",
              "    </tr>\n",
              "  </tbody>\n",
              "</table>\n",
              "</div>\n",
              "      <button class=\"colab-df-convert\" onclick=\"convertToInteractive('df-c1ad2dbc-8116-4bee-97b7-89cd7cd0c4cd')\"\n",
              "              title=\"Convert this dataframe to an interactive table.\"\n",
              "              style=\"display:none;\">\n",
              "        \n",
              "  <svg xmlns=\"http://www.w3.org/2000/svg\" height=\"24px\"viewBox=\"0 0 24 24\"\n",
              "       width=\"24px\">\n",
              "    <path d=\"M0 0h24v24H0V0z\" fill=\"none\"/>\n",
              "    <path d=\"M18.56 5.44l.94 2.06.94-2.06 2.06-.94-2.06-.94-.94-2.06-.94 2.06-2.06.94zm-11 1L8.5 8.5l.94-2.06 2.06-.94-2.06-.94L8.5 2.5l-.94 2.06-2.06.94zm10 10l.94 2.06.94-2.06 2.06-.94-2.06-.94-.94-2.06-.94 2.06-2.06.94z\"/><path d=\"M17.41 7.96l-1.37-1.37c-.4-.4-.92-.59-1.43-.59-.52 0-1.04.2-1.43.59L10.3 9.45l-7.72 7.72c-.78.78-.78 2.05 0 2.83L4 21.41c.39.39.9.59 1.41.59.51 0 1.02-.2 1.41-.59l7.78-7.78 2.81-2.81c.8-.78.8-2.07 0-2.86zM5.41 20L4 18.59l7.72-7.72 1.47 1.35L5.41 20z\"/>\n",
              "  </svg>\n",
              "      </button>\n",
              "      \n",
              "  <style>\n",
              "    .colab-df-container {\n",
              "      display:flex;\n",
              "      flex-wrap:wrap;\n",
              "      gap: 12px;\n",
              "    }\n",
              "\n",
              "    .colab-df-convert {\n",
              "      background-color: #E8F0FE;\n",
              "      border: none;\n",
              "      border-radius: 50%;\n",
              "      cursor: pointer;\n",
              "      display: none;\n",
              "      fill: #1967D2;\n",
              "      height: 32px;\n",
              "      padding: 0 0 0 0;\n",
              "      width: 32px;\n",
              "    }\n",
              "\n",
              "    .colab-df-convert:hover {\n",
              "      background-color: #E2EBFA;\n",
              "      box-shadow: 0px 1px 2px rgba(60, 64, 67, 0.3), 0px 1px 3px 1px rgba(60, 64, 67, 0.15);\n",
              "      fill: #174EA6;\n",
              "    }\n",
              "\n",
              "    [theme=dark] .colab-df-convert {\n",
              "      background-color: #3B4455;\n",
              "      fill: #D2E3FC;\n",
              "    }\n",
              "\n",
              "    [theme=dark] .colab-df-convert:hover {\n",
              "      background-color: #434B5C;\n",
              "      box-shadow: 0px 1px 3px 1px rgba(0, 0, 0, 0.15);\n",
              "      filter: drop-shadow(0px 1px 2px rgba(0, 0, 0, 0.3));\n",
              "      fill: #FFFFFF;\n",
              "    }\n",
              "  </style>\n",
              "\n",
              "      <script>\n",
              "        const buttonEl =\n",
              "          document.querySelector('#df-c1ad2dbc-8116-4bee-97b7-89cd7cd0c4cd button.colab-df-convert');\n",
              "        buttonEl.style.display =\n",
              "          google.colab.kernel.accessAllowed ? 'block' : 'none';\n",
              "\n",
              "        async function convertToInteractive(key) {\n",
              "          const element = document.querySelector('#df-c1ad2dbc-8116-4bee-97b7-89cd7cd0c4cd');\n",
              "          const dataTable =\n",
              "            await google.colab.kernel.invokeFunction('convertToInteractive',\n",
              "                                                     [key], {});\n",
              "          if (!dataTable) return;\n",
              "\n",
              "          const docLinkHtml = 'Like what you see? Visit the ' +\n",
              "            '<a target=\"_blank\" href=https://colab.research.google.com/notebooks/data_table.ipynb>data table notebook</a>'\n",
              "            + ' to learn more about interactive tables.';\n",
              "          element.innerHTML = '';\n",
              "          dataTable['output_type'] = 'display_data';\n",
              "          await google.colab.output.renderOutput(dataTable, element);\n",
              "          const docLink = document.createElement('div');\n",
              "          docLink.innerHTML = docLinkHtml;\n",
              "          element.appendChild(docLink);\n",
              "        }\n",
              "      </script>\n",
              "    </div>\n",
              "  </div>\n",
              "  "
            ]
          },
          "metadata": {},
          "execution_count": 117
        }
      ],
      "source": [
        ""
      ]
    },
    {
      "cell_type": "code",
      "source": [
        ""
      ],
      "metadata": {
        "id": "L4eB3gED6gMm"
      },
      "execution_count": null,
      "outputs": []
    },
    {
      "cell_type": "code",
      "execution_count": null,
      "metadata": {
        "colab": {
          "base_uri": "https://localhost:8080/",
          "height": 156
        },
        "id": "2hvEqSilyWIX",
        "outputId": "cc61c506-bb52-4082-c995-5e1039b2bd9b"
      },
      "outputs": [
        {
          "output_type": "execute_result",
          "data": {
            "text/plain": [
              "'\\ndef parse_scores(scores_dict):\\n  scores = []\\n  for pillar, metrics in scores_dict.items():\\n    for metric, score in metrics.items():\\n      scores.append(score)\\n  return scores\\n\\n# create dict with fitted classifiers\\nclassifiers_fitted = classifiers\\nfor clf_name, clf in classifiers_fitted.items():\\n  classifiers_fitted[clf_name] = load(clf_name + \".joblib\")\\n\\n# create empty df for scores matrix\\nmetrics_names = []\\nfor pillar, metrics in metrics_dict.items():\\n  for metric, fun in metrics.items():\\n    metrics_names.append(metric)\\n\\ndf = pd.DataFrame(index=classifiers,columns=metrics_names)\\n\\n# fill matrix with scores\\nfor clf_name, clf in classifiers_fitted.items():\\n  print(clf)\\n  score_dict = computeAll(clf, False)\\n  df.loc[clf_name] = parse_scores(score_dict)\\n\\ndf\\n'"
            ],
            "application/vnd.google.colaboratory.intrinsic+json": {
              "type": "string"
            }
          },
          "metadata": {},
          "execution_count": 119
        }
      ],
      "source": [
        "'''\n",
        "def parse_scores(scores_dict):\n",
        "  scores = []\n",
        "  for pillar, metrics in scores_dict.items():\n",
        "    for metric, score in metrics.items():\n",
        "      scores.append(score)\n",
        "  return scores\n",
        "\n",
        "# create dict with fitted classifiers\n",
        "classifiers_fitted = classifiers\n",
        "for clf_name, clf in classifiers_fitted.items():\n",
        "  classifiers_fitted[clf_name] = load(clf_name + \".joblib\")\n",
        "\n",
        "# create empty df for scores matrix\n",
        "metrics_names = []\n",
        "for pillar, metrics in metrics_dict.items():\n",
        "  for metric, fun in metrics.items():\n",
        "    metrics_names.append(metric)\n",
        "\n",
        "df = pd.DataFrame(index=classifiers,columns=metrics_names)\n",
        "\n",
        "# fill matrix with scores\n",
        "for clf_name, clf in classifiers_fitted.items():\n",
        "  print(clf)\n",
        "  score_dict = computeAll(clf, False)\n",
        "  df.loc[clf_name] = parse_scores(score_dict)\n",
        "\n",
        "df\n",
        "'''"
      ]
    },
    {
      "cell_type": "code",
      "source": [
        "'''\n",
        "df.loc[\"autoencoder\"] = parse_scores(computeAll(autoencoder))\n",
        "df\n",
        "'''"
      ],
      "metadata": {
        "colab": {
          "base_uri": "https://localhost:8080/",
          "height": 37
        },
        "id": "35GO0a7V6M7p",
        "outputId": "e0f6caa0-1635-4d9b-8f6c-c45c906081bc"
      },
      "execution_count": null,
      "outputs": [
        {
          "output_type": "execute_result",
          "data": {
            "text/plain": [
              "'\\ndf.loc[\"autoencoder\"] = parse_scores(computeAll(autoencoder))\\ndf\\n'"
            ],
            "application/vnd.google.colaboratory.intrinsic+json": {
              "type": "string"
            }
          },
          "metadata": {},
          "execution_count": 120
        }
      ]
    },
    {
      "cell_type": "code",
      "execution_count": null,
      "metadata": {
        "colab": {
          "base_uri": "https://localhost:8080/",
          "height": 457
        },
        "id": "XF7GzeHXyWIX",
        "outputId": "cbd1dfe0-d43b-46f4-b410-40d6553defff"
      },
      "outputs": [
        {
          "output_type": "execute_result",
          "data": {
            "text/plain": [
              "            accuracy underfitting overfitting statistical_parity_diff  \\\n",
              "clf_IF             1            1          -1                       1   \n",
              "clf_AE             1            1          -1                       1   \n",
              "clf_LOF            3            1          -1                       5   \n",
              "clf_CBLOF          4            1          -1                       1   \n",
              "clf_LODA           1            1          -1                       1   \n",
              "clf_COPOD          1            1          -1                       1   \n",
              "clf_HBOS           1            1          -1                       1   \n",
              "clf_SO_GAAL        1            1          -1                       1   \n",
              "clf_MO_GAAL        1            1          -1                       1   \n",
              "clf_OCSVM        NaN          NaN         NaN                     NaN   \n",
              "\n",
              "            disp_impact class_balance corr_feature model_size perm_feat  \\\n",
              "clf_IF                5             5            1          3         5   \n",
              "clf_AE                5             5            1          3         5   \n",
              "clf_LOF               5             5            1          3         5   \n",
              "clf_CBLOF             5             5            1          3         5   \n",
              "clf_LODA              5             5            1          3         5   \n",
              "clf_COPOD             5             5            1          3         5   \n",
              "clf_HBOS              5             5            1          3         4   \n",
              "clf_SO_GAAL           1             5            1          3         5   \n",
              "clf_MO_GAAL           1             5            1          3         5   \n",
              "clf_OCSVM           NaN           NaN          NaN        NaN       NaN   \n",
              "\n",
              "            clever_score normalization missing_data regularization  \\\n",
              "clf_IF                -1             1            5              1   \n",
              "clf_AE                -1             1            5              1   \n",
              "clf_LOF               -1             1            5              1   \n",
              "clf_CBLOF             -1             1            5              1   \n",
              "clf_LODA              -1             1            5              1   \n",
              "clf_COPOD             -1             1            5              1   \n",
              "clf_HBOS              -1             1            5              1   \n",
              "clf_SO_GAAL           -1             1            5              1   \n",
              "clf_MO_GAAL           -1             1            5              1   \n",
              "clf_OCSVM            NaN           NaN          NaN            NaN   \n",
              "\n",
              "            train_test_split factsheet_compl  trust-score (mean)  \n",
              "clf_IF                     1               5            2.692308  \n",
              "clf_AE                     1               5            2.692308  \n",
              "clf_LOF                    1               5            3.153846  \n",
              "clf_CBLOF                  1               5            2.923077  \n",
              "clf_LODA                   1               5            2.692308  \n",
              "clf_COPOD                  1               5            2.692308  \n",
              "clf_HBOS                   1               5            2.615385  \n",
              "clf_SO_GAAL                1               5            2.384615  \n",
              "clf_MO_GAAL                1               5            2.384615  \n",
              "clf_OCSVM                NaN             NaN                 NaN  "
            ],
            "text/html": [
              "\n",
              "  <div id=\"df-e40545c4-60cc-466d-a009-8e86bdf88cef\">\n",
              "    <div class=\"colab-df-container\">\n",
              "      <div>\n",
              "<style scoped>\n",
              "    .dataframe tbody tr th:only-of-type {\n",
              "        vertical-align: middle;\n",
              "    }\n",
              "\n",
              "    .dataframe tbody tr th {\n",
              "        vertical-align: top;\n",
              "    }\n",
              "\n",
              "    .dataframe thead th {\n",
              "        text-align: right;\n",
              "    }\n",
              "</style>\n",
              "<table border=\"1\" class=\"dataframe\">\n",
              "  <thead>\n",
              "    <tr style=\"text-align: right;\">\n",
              "      <th></th>\n",
              "      <th>accuracy</th>\n",
              "      <th>underfitting</th>\n",
              "      <th>overfitting</th>\n",
              "      <th>statistical_parity_diff</th>\n",
              "      <th>disp_impact</th>\n",
              "      <th>class_balance</th>\n",
              "      <th>corr_feature</th>\n",
              "      <th>model_size</th>\n",
              "      <th>perm_feat</th>\n",
              "      <th>clever_score</th>\n",
              "      <th>normalization</th>\n",
              "      <th>missing_data</th>\n",
              "      <th>regularization</th>\n",
              "      <th>train_test_split</th>\n",
              "      <th>factsheet_compl</th>\n",
              "      <th>trust-score (mean)</th>\n",
              "    </tr>\n",
              "  </thead>\n",
              "  <tbody>\n",
              "    <tr>\n",
              "      <th>clf_IF</th>\n",
              "      <td>1</td>\n",
              "      <td>1</td>\n",
              "      <td>-1</td>\n",
              "      <td>1</td>\n",
              "      <td>5</td>\n",
              "      <td>5</td>\n",
              "      <td>1</td>\n",
              "      <td>3</td>\n",
              "      <td>5</td>\n",
              "      <td>-1</td>\n",
              "      <td>1</td>\n",
              "      <td>5</td>\n",
              "      <td>1</td>\n",
              "      <td>1</td>\n",
              "      <td>5</td>\n",
              "      <td>2.692308</td>\n",
              "    </tr>\n",
              "    <tr>\n",
              "      <th>clf_AE</th>\n",
              "      <td>1</td>\n",
              "      <td>1</td>\n",
              "      <td>-1</td>\n",
              "      <td>1</td>\n",
              "      <td>5</td>\n",
              "      <td>5</td>\n",
              "      <td>1</td>\n",
              "      <td>3</td>\n",
              "      <td>5</td>\n",
              "      <td>-1</td>\n",
              "      <td>1</td>\n",
              "      <td>5</td>\n",
              "      <td>1</td>\n",
              "      <td>1</td>\n",
              "      <td>5</td>\n",
              "      <td>2.692308</td>\n",
              "    </tr>\n",
              "    <tr>\n",
              "      <th>clf_LOF</th>\n",
              "      <td>3</td>\n",
              "      <td>1</td>\n",
              "      <td>-1</td>\n",
              "      <td>5</td>\n",
              "      <td>5</td>\n",
              "      <td>5</td>\n",
              "      <td>1</td>\n",
              "      <td>3</td>\n",
              "      <td>5</td>\n",
              "      <td>-1</td>\n",
              "      <td>1</td>\n",
              "      <td>5</td>\n",
              "      <td>1</td>\n",
              "      <td>1</td>\n",
              "      <td>5</td>\n",
              "      <td>3.153846</td>\n",
              "    </tr>\n",
              "    <tr>\n",
              "      <th>clf_CBLOF</th>\n",
              "      <td>4</td>\n",
              "      <td>1</td>\n",
              "      <td>-1</td>\n",
              "      <td>1</td>\n",
              "      <td>5</td>\n",
              "      <td>5</td>\n",
              "      <td>1</td>\n",
              "      <td>3</td>\n",
              "      <td>5</td>\n",
              "      <td>-1</td>\n",
              "      <td>1</td>\n",
              "      <td>5</td>\n",
              "      <td>1</td>\n",
              "      <td>1</td>\n",
              "      <td>5</td>\n",
              "      <td>2.923077</td>\n",
              "    </tr>\n",
              "    <tr>\n",
              "      <th>clf_LODA</th>\n",
              "      <td>1</td>\n",
              "      <td>1</td>\n",
              "      <td>-1</td>\n",
              "      <td>1</td>\n",
              "      <td>5</td>\n",
              "      <td>5</td>\n",
              "      <td>1</td>\n",
              "      <td>3</td>\n",
              "      <td>5</td>\n",
              "      <td>-1</td>\n",
              "      <td>1</td>\n",
              "      <td>5</td>\n",
              "      <td>1</td>\n",
              "      <td>1</td>\n",
              "      <td>5</td>\n",
              "      <td>2.692308</td>\n",
              "    </tr>\n",
              "    <tr>\n",
              "      <th>clf_COPOD</th>\n",
              "      <td>1</td>\n",
              "      <td>1</td>\n",
              "      <td>-1</td>\n",
              "      <td>1</td>\n",
              "      <td>5</td>\n",
              "      <td>5</td>\n",
              "      <td>1</td>\n",
              "      <td>3</td>\n",
              "      <td>5</td>\n",
              "      <td>-1</td>\n",
              "      <td>1</td>\n",
              "      <td>5</td>\n",
              "      <td>1</td>\n",
              "      <td>1</td>\n",
              "      <td>5</td>\n",
              "      <td>2.692308</td>\n",
              "    </tr>\n",
              "    <tr>\n",
              "      <th>clf_HBOS</th>\n",
              "      <td>1</td>\n",
              "      <td>1</td>\n",
              "      <td>-1</td>\n",
              "      <td>1</td>\n",
              "      <td>5</td>\n",
              "      <td>5</td>\n",
              "      <td>1</td>\n",
              "      <td>3</td>\n",
              "      <td>4</td>\n",
              "      <td>-1</td>\n",
              "      <td>1</td>\n",
              "      <td>5</td>\n",
              "      <td>1</td>\n",
              "      <td>1</td>\n",
              "      <td>5</td>\n",
              "      <td>2.615385</td>\n",
              "    </tr>\n",
              "    <tr>\n",
              "      <th>clf_SO_GAAL</th>\n",
              "      <td>1</td>\n",
              "      <td>1</td>\n",
              "      <td>-1</td>\n",
              "      <td>1</td>\n",
              "      <td>1</td>\n",
              "      <td>5</td>\n",
              "      <td>1</td>\n",
              "      <td>3</td>\n",
              "      <td>5</td>\n",
              "      <td>-1</td>\n",
              "      <td>1</td>\n",
              "      <td>5</td>\n",
              "      <td>1</td>\n",
              "      <td>1</td>\n",
              "      <td>5</td>\n",
              "      <td>2.384615</td>\n",
              "    </tr>\n",
              "    <tr>\n",
              "      <th>clf_MO_GAAL</th>\n",
              "      <td>1</td>\n",
              "      <td>1</td>\n",
              "      <td>-1</td>\n",
              "      <td>1</td>\n",
              "      <td>1</td>\n",
              "      <td>5</td>\n",
              "      <td>1</td>\n",
              "      <td>3</td>\n",
              "      <td>5</td>\n",
              "      <td>-1</td>\n",
              "      <td>1</td>\n",
              "      <td>5</td>\n",
              "      <td>1</td>\n",
              "      <td>1</td>\n",
              "      <td>5</td>\n",
              "      <td>2.384615</td>\n",
              "    </tr>\n",
              "    <tr>\n",
              "      <th>clf_OCSVM</th>\n",
              "      <td>NaN</td>\n",
              "      <td>NaN</td>\n",
              "      <td>NaN</td>\n",
              "      <td>NaN</td>\n",
              "      <td>NaN</td>\n",
              "      <td>NaN</td>\n",
              "      <td>NaN</td>\n",
              "      <td>NaN</td>\n",
              "      <td>NaN</td>\n",
              "      <td>NaN</td>\n",
              "      <td>NaN</td>\n",
              "      <td>NaN</td>\n",
              "      <td>NaN</td>\n",
              "      <td>NaN</td>\n",
              "      <td>NaN</td>\n",
              "      <td>NaN</td>\n",
              "    </tr>\n",
              "  </tbody>\n",
              "</table>\n",
              "</div>\n",
              "      <button class=\"colab-df-convert\" onclick=\"convertToInteractive('df-e40545c4-60cc-466d-a009-8e86bdf88cef')\"\n",
              "              title=\"Convert this dataframe to an interactive table.\"\n",
              "              style=\"display:none;\">\n",
              "        \n",
              "  <svg xmlns=\"http://www.w3.org/2000/svg\" height=\"24px\"viewBox=\"0 0 24 24\"\n",
              "       width=\"24px\">\n",
              "    <path d=\"M0 0h24v24H0V0z\" fill=\"none\"/>\n",
              "    <path d=\"M18.56 5.44l.94 2.06.94-2.06 2.06-.94-2.06-.94-.94-2.06-.94 2.06-2.06.94zm-11 1L8.5 8.5l.94-2.06 2.06-.94-2.06-.94L8.5 2.5l-.94 2.06-2.06.94zm10 10l.94 2.06.94-2.06 2.06-.94-2.06-.94-.94-2.06-.94 2.06-2.06.94z\"/><path d=\"M17.41 7.96l-1.37-1.37c-.4-.4-.92-.59-1.43-.59-.52 0-1.04.2-1.43.59L10.3 9.45l-7.72 7.72c-.78.78-.78 2.05 0 2.83L4 21.41c.39.39.9.59 1.41.59.51 0 1.02-.2 1.41-.59l7.78-7.78 2.81-2.81c.8-.78.8-2.07 0-2.86zM5.41 20L4 18.59l7.72-7.72 1.47 1.35L5.41 20z\"/>\n",
              "  </svg>\n",
              "      </button>\n",
              "      \n",
              "  <style>\n",
              "    .colab-df-container {\n",
              "      display:flex;\n",
              "      flex-wrap:wrap;\n",
              "      gap: 12px;\n",
              "    }\n",
              "\n",
              "    .colab-df-convert {\n",
              "      background-color: #E8F0FE;\n",
              "      border: none;\n",
              "      border-radius: 50%;\n",
              "      cursor: pointer;\n",
              "      display: none;\n",
              "      fill: #1967D2;\n",
              "      height: 32px;\n",
              "      padding: 0 0 0 0;\n",
              "      width: 32px;\n",
              "    }\n",
              "\n",
              "    .colab-df-convert:hover {\n",
              "      background-color: #E2EBFA;\n",
              "      box-shadow: 0px 1px 2px rgba(60, 64, 67, 0.3), 0px 1px 3px 1px rgba(60, 64, 67, 0.15);\n",
              "      fill: #174EA6;\n",
              "    }\n",
              "\n",
              "    [theme=dark] .colab-df-convert {\n",
              "      background-color: #3B4455;\n",
              "      fill: #D2E3FC;\n",
              "    }\n",
              "\n",
              "    [theme=dark] .colab-df-convert:hover {\n",
              "      background-color: #434B5C;\n",
              "      box-shadow: 0px 1px 3px 1px rgba(0, 0, 0, 0.15);\n",
              "      filter: drop-shadow(0px 1px 2px rgba(0, 0, 0, 0.3));\n",
              "      fill: #FFFFFF;\n",
              "    }\n",
              "  </style>\n",
              "\n",
              "      <script>\n",
              "        const buttonEl =\n",
              "          document.querySelector('#df-e40545c4-60cc-466d-a009-8e86bdf88cef button.colab-df-convert');\n",
              "        buttonEl.style.display =\n",
              "          google.colab.kernel.accessAllowed ? 'block' : 'none';\n",
              "\n",
              "        async function convertToInteractive(key) {\n",
              "          const element = document.querySelector('#df-e40545c4-60cc-466d-a009-8e86bdf88cef');\n",
              "          const dataTable =\n",
              "            await google.colab.kernel.invokeFunction('convertToInteractive',\n",
              "                                                     [key], {});\n",
              "          if (!dataTable) return;\n",
              "\n",
              "          const docLinkHtml = 'Like what you see? Visit the ' +\n",
              "            '<a target=\"_blank\" href=https://colab.research.google.com/notebooks/data_table.ipynb>data table notebook</a>'\n",
              "            + ' to learn more about interactive tables.';\n",
              "          element.innerHTML = '';\n",
              "          dataTable['output_type'] = 'display_data';\n",
              "          await google.colab.output.renderOutput(dataTable, element);\n",
              "          const docLink = document.createElement('div');\n",
              "          docLink.innerHTML = docLinkHtml;\n",
              "          element.appendChild(docLink);\n",
              "        }\n",
              "      </script>\n",
              "    </div>\n",
              "  </div>\n",
              "  "
            ]
          },
          "metadata": {},
          "execution_count": 121
        }
      ],
      "source": [
        "final_matrix = df\n",
        "mean_values = np.mean(final_matrix[final_matrix>0], axis = 1)\n",
        "final_matrix[\"trust-score (mean)\"] = mean_values\n",
        "final_matrix"
      ]
    },
    {
      "cell_type": "code",
      "source": [
        "def underfitting_score_new(model, train_data, val_data, outlier_thresh, score_thresh, print_details = False):\n",
        "    # calculate train_data accuracy\n",
        "   \n",
        "    detection_ratio_train = compute_outlier_ratio(model, train_data, outlier_thresh)\n",
        "    detection_ratio_val = compute_outlier_ratio(model, val_data, outlier_thresh)\n",
        "    \n",
        "    perc_diff = abs(detection_ratio_train - detection_ratio_val)    \n",
        "    score = np.digitize(perc_diff, score_thresh, right=False) + 1\n",
        "    \n",
        "    if print_details:\n",
        "        print(\"\\t model is AutoEncoder: \", isKerasAutoencoder(model))\n",
        "        print(\"\\t model is IsolationForest: \", isIsolationForest(model))\n",
        "        print(\"\\t outlier percentage in training data: %.4f\" % detection_ratio_train)\n",
        "        print(\"\\t outlier percentage in validation data: %.4f\" % detection_ratio_val)\n",
        "        print(\"\\t absolute difference: %.4f\" % perc_diff)\n",
        "\n",
        "    return score"
      ],
      "metadata": {
        "id": "oNYfJUaEgsed"
      },
      "execution_count": null,
      "outputs": []
    },
    {
      "cell_type": "code",
      "source": [
        "#compare train, test, outlier\n",
        "def overfitting_score_new(model, train_data, val_data, outlier_data, outlier_percentage, outlier_thresh, score_thresh, print_details = False):\n",
        "    \n",
        "    \"\"\"\n",
        "    This function computes the overfitting score.\n",
        "    \n",
        "    Args:\n",
        "        model: ML-model.\n",
        "        train_data: numpy.ndarray train dataset\n",
        "        outlier-data: numpy.ndarray outlier dataset.\n",
        "        outlier_percentage: float expected outlier percentage of the training_data\n",
        "        outlier_thresh: list \n",
        "        score_thresholds: list\n",
        "\n",
        "    Returns:\n",
        "        1. Score\n",
        "\n",
        "    \"\"\"    \n",
        "    underfit_score = underfitting_score_new(model, train_data, val_data, outlier_thresh, [0.05,0.03,0.02,0.01], print_details)\n",
        "    \n",
        "    if (underfit_score >= 3):\n",
        "        detection_ratio_outlier = compute_outlier_ratio(model,outlier_data,outlier_thresh)\n",
        "\n",
        "        # compute validation data accuracy\n",
        "        detection_ratio_val = compute_outlier_ratio(model,val_data,outlier_thresh)  \n",
        "        \n",
        "        perc_diff = abs(outlier_percentage-detection_ratio_val)\n",
        "        val_accuracy = (outlier_percentage-perc_diff)/outlier_percentage       \n",
        "        accuracy_difference = abs(val_accuracy - detection_ratio_outlier)\n",
        "        overfit_score = np.digitize(accuracy_difference, score_thresh, right=False) + 1\n",
        "        \n",
        "        if print_details:\n",
        "            print(\"\\t --compute outlier accuracy--\")\n",
        "            print(\"\\t   detected outlier percentage in outlier data: %.4f\" % detection_ratio_outlier)\n",
        "            print(\"\\t   train-test accuracy difference: %.4f\" % accuracy_difference)\n",
        "            print(\"\\t --compute validation data accuracy--\")\n",
        "            print(\"\\t   outlier percentage in training data: \", outlier_percentage)\n",
        "            print(\"\\t   detected outlier percentage in validation data: %.4f\" % detection_ratio_val)\n",
        "\n",
        "        return overfit_score\n",
        "    \n",
        "    return -1\n"
      ],
      "metadata": {
        "id": "WZm40d_42zzl"
      },
      "execution_count": null,
      "outputs": []
    },
    {
      "cell_type": "code",
      "source": [
        "for clf_name, clf in classifiers.items():\n",
        "  print(clf_name)\n",
        "  score_dict = metrics_dict\n",
        "  clf = load(clf_name + \".joblib\")\n",
        "  score = underfitting_score_new(clf, X_train, X_val, outlier_thresh, [0.05,0.03,0.02,0.01], True)\n",
        "  print(\"Score: \", score)\n",
        "outlier_thresh = get_threshold_mse_iqr(autoencoder,X_train)\n",
        "print(\"autoencoder\")\n",
        "\n",
        "score = underfitting_score_new(autoencoder, X_train, X_val, outlier_thresh, [0.05,0.03,0.02,0.01], True)\n",
        "print(\"Score: \", score)\n"
      ],
      "metadata": {
        "id": "rZLCAxpPb6G5",
        "colab": {
          "base_uri": "https://localhost:8080/"
        },
        "outputId": "9f8fa14c-4490-45a9-994a-d5a349799683"
      },
      "execution_count": null,
      "outputs": [
        {
          "output_type": "stream",
          "name": "stdout",
          "text": [
            "clf_IF\n",
            "\t model is AutoEncoder:  False\n",
            "\t model is IsolationForest:  True\n",
            "\t outlier percentage in training data: 0.2000\n",
            "\t outlier percentage in validation data: 0.1573\n",
            "\t absolute difference: 0.0427\n",
            "Score:  2\n",
            "clf_AE\n"
          ]
        },
        {
          "output_type": "stream",
          "name": "stderr",
          "text": [
            "/usr/local/lib/python3.7/dist-packages/keras/engine/training_v1.py:2079: UserWarning: `Model.state_updates` will be removed in a future version. This property should not be used in TensorFlow 2.0, as `updates` are applied automatically.\n",
            "  updates=self.state_updates,\n"
          ]
        },
        {
          "output_type": "stream",
          "name": "stdout",
          "text": [
            "\t model is AutoEncoder:  False\n",
            "\t model is IsolationForest:  False\n",
            "\t outlier percentage in training data: 0.2000\n",
            "\t outlier percentage in validation data: 0.1423\n",
            "\t absolute difference: 0.0577\n",
            "Score:  1\n",
            "clf_LOF\n",
            "\t model is AutoEncoder:  False\n",
            "\t model is IsolationForest:  False\n",
            "\t outlier percentage in training data: 0.0470\n",
            "\t outlier percentage in validation data: 0.0449\n",
            "\t absolute difference: 0.0021\n",
            "Score:  5\n",
            "clf_CBLOF\n",
            "\t model is AutoEncoder:  False\n",
            "\t model is IsolationForest:  False\n",
            "\t outlier percentage in training data: 0.2000\n",
            "\t outlier percentage in validation data: 0.1461\n",
            "\t absolute difference: 0.0539\n",
            "Score:  1\n",
            "clf_LODA\n",
            "\t model is AutoEncoder:  False\n",
            "\t model is IsolationForest:  False\n",
            "\t outlier percentage in training data: 0.2000\n",
            "\t outlier percentage in validation data: 0.1723\n",
            "\t absolute difference: 0.0277\n",
            "Score:  3\n",
            "clf_COPOD\n",
            "\t model is AutoEncoder:  False\n",
            "\t model is IsolationForest:  False\n",
            "\t outlier percentage in training data: 0.2000\n",
            "\t outlier percentage in validation data: 0.1685\n",
            "\t absolute difference: 0.0315\n",
            "Score:  2\n",
            "clf_HBOS\n",
            "\t model is AutoEncoder:  False\n",
            "\t model is IsolationForest:  False\n",
            "\t outlier percentage in training data: 0.2000\n",
            "\t outlier percentage in validation data: 0.1536\n",
            "\t absolute difference: 0.0464\n",
            "Score:  2\n",
            "clf_SO_GAAL\n",
            "WARNING:tensorflow:No training configuration found in save file, so the model was *not* compiled. Compile it manually.\n"
          ]
        },
        {
          "output_type": "stream",
          "name": "stderr",
          "text": [
            "/usr/local/lib/python3.7/dist-packages/keras/engine/training_v1.py:2079: UserWarning: `Model.state_updates` will be removed in a future version. This property should not be used in TensorFlow 2.0, as `updates` are applied automatically.\n",
            "  updates=self.state_updates,\n"
          ]
        },
        {
          "output_type": "stream",
          "name": "stdout",
          "text": [
            "\t model is AutoEncoder:  False\n",
            "\t model is IsolationForest:  False\n",
            "\t outlier percentage in training data: 0.1996\n",
            "\t outlier percentage in validation data: 0.1760\n",
            "\t absolute difference: 0.0236\n",
            "Score:  3\n",
            "clf_MO_GAAL\n"
          ]
        },
        {
          "output_type": "stream",
          "name": "stderr",
          "text": [
            "/usr/local/lib/python3.7/dist-packages/keras/engine/training_v1.py:2079: UserWarning: `Model.state_updates` will be removed in a future version. This property should not be used in TensorFlow 2.0, as `updates` are applied automatically.\n",
            "  updates=self.state_updates,\n"
          ]
        },
        {
          "output_type": "stream",
          "name": "stdout",
          "text": [
            "\t model is AutoEncoder:  False\n",
            "\t model is IsolationForest:  False\n",
            "\t outlier percentage in training data: 0.1996\n",
            "\t outlier percentage in validation data: 0.1648\n",
            "\t absolute difference: 0.0348\n",
            "Score:  2\n",
            "clf_OCSVM\n",
            "\t model is AutoEncoder:  False\n",
            "\t model is IsolationForest:  False\n",
            "\t outlier percentage in training data: 0.1001\n",
            "\t outlier percentage in validation data: 0.0637\n",
            "\t absolute difference: 0.0364\n",
            "Score:  2\n",
            "autoencoder\n",
            "\t model is AutoEncoder:  True\n",
            "\t model is IsolationForest:  False\n",
            "\t outlier percentage in training data: 0.0812\n",
            "\t outlier percentage in validation data: 0.0674\n",
            "\t absolute difference: 0.0137\n",
            "Score:  4\n"
          ]
        }
      ]
    },
    {
      "cell_type": "code",
      "source": [
        ""
      ],
      "metadata": {
        "id": "aPrTbxMnI_zC"
      },
      "execution_count": null,
      "outputs": []
    },
    {
      "cell_type": "code",
      "source": [
        ""
      ],
      "metadata": {
        "id": "Rvd_OJbB4RBj"
      },
      "execution_count": null,
      "outputs": []
    }
  ],
  "metadata": {
    "kernelspec": {
      "display_name": "testArosa",
      "language": "python",
      "name": "testarosa"
    },
    "language_info": {
      "codemirror_mode": {
        "name": "ipython",
        "version": 3
      },
      "file_extension": ".py",
      "mimetype": "text/x-python",
      "name": "python",
      "nbconvert_exporter": "python",
      "pygments_lexer": "ipython3",
      "version": "3.9.10"
    },
    "colab": {
      "name": "MAP - Anomaly Detection.ipynb",
      "provenance": [],
      "collapsed_sections": [],
      "include_colab_link": true
    }
  },
  "nbformat": 4,
  "nbformat_minor": 0
}